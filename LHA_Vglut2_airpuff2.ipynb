{
  "nbformat": 4,
  "nbformat_minor": 0,
  "metadata": {
    "colab": {
      "name": "LHA-Vglut2_airpuff2.ipynb",
      "provenance": [],
      "collapsed_sections": [],
      "include_colab_link": true
    },
    "kernelspec": {
      "name": "python3",
      "display_name": "Python 3"
    }
  },
  "cells": [
    {
      "cell_type": "markdown",
      "metadata": {
        "id": "view-in-github",
        "colab_type": "text"
      },
      "source": [
        "<a href=\"https://colab.research.google.com/github/katemartian/FiberPhotometryDataAnalysis/blob/master/LHA_Vglut2_airpuff2.ipynb\" target=\"_parent\"><img src=\"https://colab.research.google.com/assets/colab-badge.svg\" alt=\"Open In Colab\"/></a>"
      ]
    },
    {
      "cell_type": "markdown",
      "metadata": {
        "id": "X7OUUjoFChyy",
        "colab_type": "text"
      },
      "source": [
        "<h1><center>LHA-Vglut2-cre Airpuff 2</center></h1>"
      ]
    },
    {
      "cell_type": "markdown",
      "metadata": {
        "id": "HXpWRp_Lvgky",
        "colab_type": "text"
      },
      "source": [
        "# Set up workspace"
      ]
    },
    {
      "cell_type": "code",
      "metadata": {
        "id": "5Lej-JJWr_zy",
        "colab_type": "code",
        "outputId": "22baeca6-bee2-4c47-8cca-f5b0558e214a",
        "colab": {
          "base_uri": "https://localhost:8080/",
          "height": 121
        }
      },
      "source": [
        "from google.colab import drive\n",
        "drive.mount('/content/drive')"
      ],
      "execution_count": 0,
      "outputs": [
        {
          "output_type": "stream",
          "text": [
            "Go to this URL in a browser: https://accounts.google.com/o/oauth2/auth?client_id=947318989803-6bn6qk8qdgf4n4g3pfee6491hc0brc4i.apps.googleusercontent.com&redirect_uri=urn%3aietf%3awg%3aoauth%3a2.0%3aoob&response_type=code&scope=email%20https%3a%2f%2fwww.googleapis.com%2fauth%2fdocs.test%20https%3a%2f%2fwww.googleapis.com%2fauth%2fdrive%20https%3a%2f%2fwww.googleapis.com%2fauth%2fdrive.photos.readonly%20https%3a%2f%2fwww.googleapis.com%2fauth%2fpeopleapi.readonly\n",
            "\n",
            "Enter your authorization code:\n",
            "··········\n",
            "Mounted at /content/drive\n"
          ],
          "name": "stdout"
        }
      ]
    },
    {
      "cell_type": "code",
      "metadata": {
        "id": "Yg4AAsRgsyNv",
        "colab_type": "code",
        "outputId": "0267c6b1-3959-47f6-8e66-ece713eeed80",
        "colab": {
          "base_uri": "https://localhost:8080/",
          "height": 34
        }
      },
      "source": [
        "%run /content/drive/My\\ Drive/!lab/FiberPhotometryDataAnalysis.ipynb"
      ],
      "execution_count": 0,
      "outputs": [
        {
          "output_type": "stream",
          "text": [
            "All FP functions are ready to use\n"
          ],
          "name": "stdout"
        }
      ]
    },
    {
      "cell_type": "code",
      "metadata": {
        "id": "CQJxdEY-xisY",
        "colab_type": "code",
        "outputId": "11983ce6-cd5e-4ee8-b342-9505dfbdc268",
        "colab": {
          "base_uri": "https://localhost:8080/",
          "height": 101
        }
      },
      "source": [
        "%cd /content/drive/My Drive/!lab/!FP/2020-02-06 LHA-Vglut2 Airpuff 2/\n",
        "folder = os.getcwd()\n",
        "files = find_file(folder+'/raw/','.csv')\n",
        "files"
      ],
      "execution_count": 0,
      "outputs": [
        {
          "output_type": "stream",
          "text": [
            "/content/drive/My Drive/!lab/!FP/2020-02-06 LHA-Vglut2 Airpuff 2\n"
          ],
          "name": "stdout"
        },
        {
          "output_type": "execute_result",
          "data": {
            "text/plain": [
              "['glut4_LHb_VTA_DRN_airpuff2_0.csv',\n",
              " 'glut2_LHb_VTA_DRN_airpuff2_10.csv',\n",
              " 'glut3_LHb_VTA_DRN_airpuff2_12.csv',\n",
              " 'glut1_LHb_VTA_DRN_airpuff2_8.csv']"
            ]
          },
          "metadata": {
            "tags": []
          },
          "execution_count": 6
        }
      ]
    },
    {
      "cell_type": "markdown",
      "metadata": {
        "id": "3BbldEkJmRga",
        "colab_type": "text"
      },
      "source": [
        "# Function to get data\n"
      ]
    },
    {
      "cell_type": "code",
      "metadata": {
        "colab_type": "code",
        "id": "zxC2z2--KZP2",
        "colab": {}
      },
      "source": [
        "def get_data(name):\n",
        "\n",
        " # Experiment info -------------------------------------------------------------\n",
        "  sepname = name.split('_')  \n",
        "  # Create a dictionary of Experiment info        \n",
        "  exp_info = {'mouse': sepname[0],\n",
        "              'output': ['LHA-'+sepname[1],'LHA-'+sepname[2],'LHA-'+sepname[3]],\n",
        "              'test': sepname[4]}  \n",
        "\n",
        "\n",
        " # Read FP data frame ----------------------------------------------------------\n",
        "  df = pd.read_csv('./raw/'+name,sep=',',index_col=False)\n",
        "\n",
        "\n",
        " # Data specific work around ---------------------------------------------------\n",
        " # Remove additional lines for F pressings\n",
        "  remove = []\n",
        "  for i in range(len(df)):\n",
        "    if np.all(df.iloc[i,1:7].isnull().all()):\n",
        "      if df['F1 Event'][i]==1:\n",
        "        time = float(df['---'][i])\n",
        "        prev_t = float(df['---'][i-1])\n",
        "        next_t = float(df['---'][i+1])\n",
        "        if abs(time - prev_t) < 0.001:\n",
        "          df.loc[i-1,'F1 Event'] = 1\n",
        "        if abs(time - next_t) < 0.001:\n",
        "          df.loc[i+1,'F1 Event'] = 1\n",
        "      remove.append(i)\n",
        " # Remove additional lines with weird time stamps \n",
        "  for i in range(2,len(df)):\n",
        "    if float(df['---'][i]) - float(df['---'][i-1]) > 1:\n",
        "      remove.append(i)\n",
        " # Remove indices\n",
        "  df.drop(remove, inplace=True)\n",
        "  df.reset_index(inplace=True,drop=True)\n",
        " # Data frame length should be even to split into reference and signal\n",
        "  if len(df) % 2 == 0:\n",
        "    df.drop(df.index[-1],inplace=True)\n",
        "\n",
        "\n",
        " # Experiment time -------------------------------------------------------------\n",
        "  exp_time = np.array(df.iloc[1::2,0].astype(np.float))\n",
        "  period = find_avg_period(exp_time)\n",
        "  exp_info['time'] = exp_time\n",
        "  exp_info['period'] = period\n",
        "  exp_info['frequency'] = 1/period\n",
        "\n",
        "\n",
        " # Create dictionary of raw signal ---------------------------------------------\n",
        "  Raws = {}\n",
        "  for fiber,output in enumerate(exp_info['output']):\n",
        "    Raws[output] = {'reference': np.array(df.iloc[1::2,fiber*2+1].astype(np.float)),\n",
        "                    'signal': np.array(df.iloc[2::2,fiber*2+2].astype(np.float))}\n",
        "\n",
        "\n",
        " # Behavioral events -----------------------------------------------------------\n",
        "  f1 = np.array(df['F1 Event'].astype(np.float))\n",
        "  ap = [float(df['---'][i]) for i in range(len(f1)) if f1[i]==1]\n",
        " # Create dictionary of vectors of events \n",
        "  events = {'airpuff': np.array(ap).reshape(len(ap),1)}\n",
        "\n",
        "\n",
        "  return exp_info, events, Raws"
      ],
      "execution_count": 0,
      "outputs": []
    },
    {
      "cell_type": "code",
      "metadata": {
        "id": "ggu4aLkIMTAO",
        "colab_type": "code",
        "colab": {}
      },
      "source": [
        "# Info to create mean plots\n",
        "info_for_array = {'airpuff': {'window': [-5,5],\n",
        "                             'avg_win': [-2,-1],\n",
        "                             'figsize': (12,10)}}"
      ],
      "execution_count": 0,
      "outputs": []
    },
    {
      "cell_type": "markdown",
      "metadata": {
        "id": "TOPCH5Kd6gPq",
        "colab_type": "text"
      },
      "source": [
        "# Make all plots\n"
      ]
    },
    {
      "cell_type": "code",
      "metadata": {
        "id": "lPyWL9eRKbxc",
        "colab_type": "code",
        "outputId": "9d0d9daf-8964-43e4-91c2-e1bbb2908740",
        "colab": {
          "base_uri": "https://localhost:8080/",
          "height": 101
        }
      },
      "source": [
        "for name in files:\n",
        "\n",
        "  print(name)\n",
        "\n",
        "  exp_info,events,Raws = get_data(name)\n",
        "\n",
        "  Intensities = allrecordings_preprocess(exp_info,events,Raws,plot=True,save=True)\n",
        "\n",
        "  Alligned = allrecordings_align(exp_info,events,Intensities,plot=True,save=True)\n",
        "\n",
        "  dFFs = allrecordings_dff(exp_info,events,Alligned,plot=True,save=True)\n",
        "\n",
        "  Events_arrays = allrecordings_events_arrays(exp_info,events,dFFs,info_for_array=info_for_array,plot=True,save=True)\n",
        "\n",
        "  plt.close('all')\n",
        "\n",
        "print('Done!')"
      ],
      "execution_count": 0,
      "outputs": [
        {
          "output_type": "stream",
          "text": [
            "glut4_LHb_VTA_DRN_airpuff2_0.csv\n",
            "glut2_LHb_VTA_DRN_airpuff2_10.csv\n",
            "glut3_LHb_VTA_DRN_airpuff2_12.csv\n",
            "glut1_LHb_VTA_DRN_airpuff2_8.csv\n",
            "Done!\n"
          ],
          "name": "stdout"
        }
      ]
    },
    {
      "cell_type": "code",
      "metadata": {
        "id": "WKbyIQyERsLq",
        "colab_type": "code",
        "colab": {}
      },
      "source": [
        "%debug"
      ],
      "execution_count": 0,
      "outputs": []
    }
  ]
}