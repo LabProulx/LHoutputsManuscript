{
  "nbformat": 4,
  "nbformat_minor": 0,
  "metadata": {
    "colab": {
      "name": "Fig6_stats.ipynb",
      "provenance": [],
      "include_colab_link": true
    },
    "kernelspec": {
      "display_name": "Python 3",
      "name": "python3"
    }
  },
  "cells": [
    {
      "cell_type": "markdown",
      "metadata": {
        "id": "view-in-github",
        "colab_type": "text"
      },
      "source": [
        "<a href=\"https://colab.research.google.com/github/katemartian/LHoutputsManuscript/blob/master/Fig6_stats.ipynb\" target=\"_parent\"><img src=\"https://colab.research.google.com/assets/colab-badge.svg\" alt=\"Open In Colab\"/></a>"
      ]
    },
    {
      "cell_type": "markdown",
      "metadata": {
        "id": "XuW8U0XcOgfr"
      },
      "source": [
        "<h1><center>Fig6 stats"
      ]
    },
    {
      "cell_type": "markdown",
      "metadata": {
        "id": "fRGxoji5wWut"
      },
      "source": [
        "This notebook contains statistical analysis of the data from the figure 6 and its supplemental figures."
      ]
    },
    {
      "cell_type": "markdown",
      "metadata": {
        "id": "I63KVyEQRiML"
      },
      "source": [
        "# Install libraries"
      ]
    },
    {
      "cell_type": "markdown",
      "metadata": {
        "id": "lPikJj4Fy7Co"
      },
      "source": [
        "Install all necessary libraries to run statistical tests in R."
      ]
    },
    {
      "cell_type": "code",
      "metadata": {
        "id": "1mU2Ub43Rlnp"
      },
      "source": [
        "# Use R in Jupyter Notebook\n",
        "%load_ext rpy2.ipython"
      ],
      "execution_count": null,
      "outputs": []
    },
    {
      "cell_type": "code",
      "metadata": {
        "id": "mzPsDovYO_Yq"
      },
      "source": [
        "%%R\n",
        "install.packages(\"readxl\")\n",
        "install.packages(\"tidyverse\")\n",
        "install.packages(\"emmeans\")\n",
        "install.packages(\"maptools\", repos = \"https://cloud.r-project.org\")\n",
        "install.packages(\"car\", repos = \"https://cloud.r-project.org\")\n",
        "install.packages(\"cowplot\", repos = \"https://cloud.r-project.org\")\n",
        "install.packages(\"rstatix\", repos = \"https://cloud.r-project.org\")\n",
        "install.packages(\"ggpubr\", repos = \"https://cloud.r-project.org\")"
      ],
      "execution_count": null,
      "outputs": []
    },
    {
      "cell_type": "code",
      "metadata": {
        "id": "bn89yodbO_kh"
      },
      "source": [
        "%%R\n",
        "library(\"readxl\")\n",
        "library(\"tidyverse\")\n",
        "library(\"emmeans\")\n",
        "library(\"maptools\")\n",
        "library(\"car\")\n",
        "library(\"cowplot\")\n",
        "library(\"rstatix\")\n",
        "library(\"ggpubr\")"
      ],
      "execution_count": null,
      "outputs": []
    },
    {
      "cell_type": "markdown",
      "metadata": {
        "id": "Ui4Xz0SEvTlI"
      },
      "source": [
        "# Directory"
      ]
    },
    {
      "cell_type": "markdown",
      "metadata": {
        "id": "5E_TgpseylYc"
      },
      "source": [
        "Set directory with the source data. Mount disk if you use Google Colab."
      ]
    },
    {
      "cell_type": "code",
      "metadata": {
        "colab": {
          "base_uri": "https://localhost:8080/"
        },
        "id": "5Lej-JJWr_zy",
        "outputId": "69c69ee3-f273-41fc-d7cf-92750fd6268a"
      },
      "source": [
        "# Mount disk if you use Google Colab\n",
        "from google.colab import drive\n",
        "drive.mount('/content/drive')"
      ],
      "execution_count": null,
      "outputs": [
        {
          "output_type": "stream",
          "text": [
            "Mounted at /content/drive\n"
          ],
          "name": "stdout"
        }
      ]
    },
    {
      "cell_type": "code",
      "metadata": {
        "colab": {
          "base_uri": "https://localhost:8080/"
        },
        "id": "CQJxdEY-xisY",
        "outputId": "2293d7ef-7ef7-4b40-dbaf-20cc29d8a0d5"
      },
      "source": [
        "# Change directory\n",
        "%cd /content/drive/My\\ Drive/!lab/Manuscripts/LHoutputs/sourcedata"
      ],
      "execution_count": null,
      "outputs": [
        {
          "output_type": "stream",
          "text": [
            "/content/drive/My Drive/!lab/Manuscripts/LHoutputs/sourcedata\n"
          ],
          "name": "stdout"
        }
      ]
    },
    {
      "cell_type": "markdown",
      "metadata": {
        "id": "0laQVZXESU9G"
      },
      "source": [
        "# OFT-TST Fig6 & FigSupp 1\n"
      ]
    },
    {
      "cell_type": "code",
      "metadata": {
        "id": "DhLi1NcXRt2W"
      },
      "source": [
        "%%R\n",
        "df <- read_excel(\"fig6_LHopto_TST-OFT.xlsx\", sheet = \"TST-OFT\")\n",
        "df$group = as.factor(df$group)\n",
        "df$test = as.factor(df$test)\n",
        "df$output = as.factor(df$output)\n",
        "df$period = as.factor(df$period)\n",
        "df$laser = as.factor(df$laser)\n",
        "df$mobileScore = as.numeric(df$mobileScore)"
      ],
      "execution_count": null,
      "outputs": []
    },
    {
      "cell_type": "markdown",
      "metadata": {
        "id": "wx5V0zBCJFYb"
      },
      "source": [
        "Outliers"
      ]
    },
    {
      "cell_type": "code",
      "metadata": {
        "colab": {
          "base_uri": "https://localhost:8080/"
        },
        "id": "myDVzOCEJHzE",
        "outputId": "03ab1d2a-c5be-4e93-d6f7-9f01e03c94d0"
      },
      "source": [
        "%%R\n",
        "df %>%\n",
        "  group_by(group,test,output,laser) %>%\n",
        "  identify_outliers(mobileScore)"
      ],
      "execution_count": null,
      "outputs": [
        {
          "output_type": "stream",
          "text": [
            "# A tibble: 9 x 9\n",
            "  laser group test  output mouse mobileScore period  is.outlier is.extreme\n",
            "  <fct> <fct> <fct> <fct>  <chr>       <dbl> <fct>   <lgl>      <lgl>     \n",
            "1 ON    ChR2  OFT   DRN    LHA96       0.321 period1 TRUE       TRUE      \n",
            "2 ON    ChR2  OFT   DRN    LHA98       0.386 period1 TRUE       FALSE     \n",
            "3 ON    ChR2  OFT   DRN    LHA94       0.357 period5 TRUE       FALSE     \n",
            "4 ON    ChR2  OFT   DRN    LHA96       0.356 period5 TRUE       FALSE     \n",
            "5 ON    ChR2  OFT   VTA    LHA97       0.388 period1 TRUE       FALSE     \n",
            "6 ON    ChR2  OFT   VTA    LHA94       0.550 period2 TRUE       FALSE     \n",
            "7 ON    ChR2  OFT   VTA    LHA96       0.364 period5 TRUE       FALSE     \n",
            "8 ON    ChR2  TST   VTA    LHA98       0.673 period1 TRUE       FALSE     \n",
            "9 OFF   eYFP  OFT   LHb    LHA40       0.182 period1 TRUE       FALSE     \n"
          ],
          "name": "stdout"
        }
      ]
    },
    {
      "cell_type": "markdown",
      "metadata": {
        "id": "HYpjCqROAEae"
      },
      "source": [
        "Normality"
      ]
    },
    {
      "cell_type": "code",
      "metadata": {
        "colab": {
          "base_uri": "https://localhost:8080/"
        },
        "id": "R6XfBtywAE2C",
        "outputId": "d9018567-e8d1-47f9-8248-2f0f30364989"
      },
      "source": [
        "%%R\n",
        "shapiro <- df %>%\n",
        "  group_by(group,test,output,laser) %>%\n",
        "  shapiro_test(mobileScore)\n",
        "print(shapiro,n=24)"
      ],
      "execution_count": null,
      "outputs": [
        {
          "output_type": "stream",
          "text": [
            "# A tibble: 24 x 7\n",
            "   laser group test  output variable    statistic       p\n",
            "   <fct> <fct> <fct> <fct>  <chr>           <dbl>   <dbl>\n",
            " 1 OFF   ChR2  OFT   DRN    mobileScore     0.951 0.0541 \n",
            " 2 ON    ChR2  OFT   DRN    mobileScore     0.929 0.00896\n",
            " 3 OFF   ChR2  OFT   LHb    mobileScore     0.957 0.0974 \n",
            " 4 ON    ChR2  OFT   LHb    mobileScore     0.975 0.429  \n",
            " 5 OFF   ChR2  OFT   VTA    mobileScore     0.976 0.458  \n",
            " 6 ON    ChR2  OFT   VTA    mobileScore     0.976 0.471  \n",
            " 7 OFF   ChR2  TST   DRN    mobileScore     0.958 0.0999 \n",
            " 8 ON    ChR2  TST   DRN    mobileScore     0.975 0.424  \n",
            " 9 OFF   ChR2  TST   LHb    mobileScore     0.951 0.0536 \n",
            "10 ON    ChR2  TST   LHb    mobileScore     0.966 0.213  \n",
            "11 OFF   ChR2  TST   VTA    mobileScore     0.969 0.258  \n",
            "12 ON    ChR2  TST   VTA    mobileScore     0.967 0.234  \n",
            "13 OFF   eYFP  OFT   DRN    mobileScore     0.950 0.166  \n",
            "14 ON    eYFP  OFT   DRN    mobileScore     0.987 0.961  \n",
            "15 OFF   eYFP  OFT   LHb    mobileScore     0.933 0.0346 \n",
            "16 ON    eYFP  OFT   LHb    mobileScore     0.968 0.397  \n",
            "17 OFF   eYFP  OFT   VTA    mobileScore     0.971 0.565  \n",
            "18 ON    eYFP  OFT   VTA    mobileScore     0.985 0.941  \n",
            "19 OFF   eYFP  TST   DRN    mobileScore     0.958 0.139  \n",
            "20 ON    eYFP  TST   DRN    mobileScore     0.979 0.648  \n",
            "21 OFF   eYFP  TST   LHb    mobileScore     0.939 0.0533 \n",
            "22 ON    eYFP  TST   LHb    mobileScore     0.953 0.142  \n",
            "23 OFF   eYFP  TST   VTA    mobileScore     0.964 0.224  \n",
            "24 ON    eYFP  TST   VTA    mobileScore     0.962 0.192  \n"
          ],
          "name": "stdout"
        }
      ]
    },
    {
      "cell_type": "markdown",
      "metadata": {
        "id": "cLPZpOuTn2U7"
      },
      "source": [
        "ANOVA"
      ]
    },
    {
      "cell_type": "code",
      "metadata": {
        "colab": {
          "base_uri": "https://localhost:8080/"
        },
        "id": "yJp_HlXYxyt1",
        "outputId": "6d21edd5-34d2-410d-9b77-73424eab30ce"
      },
      "source": [
        "%%R\n",
        "res.aov <- anova_test(data=df, dv=mobileScore, wid=mouse, between=group, within=c(test,output,period,laser))\n",
        "get_anova_table(res.aov)"
      ],
      "execution_count": null,
      "outputs": [
        {
          "output_type": "stream",
          "text": [
            "ANOVA Table (type III tests)\n",
            "\n",
            "                           Effect  DFn   DFd      F        p p<.05      ges\n",
            "1                           group 1.00 11.00  4.507 0.057000       0.086000\n",
            "2                            test 1.00 11.00  3.028 0.110000       0.018000\n",
            "3                          output 2.00 22.00  2.495 0.106000       0.025000\n",
            "4                          period 1.84 20.24  1.821 0.189000       0.007000\n",
            "5                           laser 1.00 11.00 31.043 0.000167     * 0.140000\n",
            "6                      group:test 1.00 11.00  3.028 0.110000       0.018000\n",
            "7                    group:output 2.00 22.00  1.994 0.160000       0.020000\n",
            "8                    group:period 1.84 20.24 11.273 0.000655     * 0.043000\n",
            "9                     group:laser 1.00 11.00  6.036 0.032000     * 0.031000\n",
            "10                    test:output 2.00 22.00  0.312 0.735000       0.002000\n",
            "11                    test:period 2.12 23.36  4.080 0.028000     * 0.007000\n",
            "12                  output:period 2.77 30.51  2.097 0.125000       0.014000\n",
            "13                     test:laser 1.00 11.00  0.473 0.506000       0.000460\n",
            "14                   output:laser 2.00 22.00  2.344 0.119000       0.012000\n",
            "15                   period:laser 4.00 44.00  1.326 0.275000       0.003000\n",
            "16              group:test:output 2.00 22.00  0.312 0.735000       0.002000\n",
            "17              group:test:period 2.12 23.36  4.080 0.028000     * 0.007000\n",
            "18            group:output:period 2.77 30.51  0.995 0.403000       0.007000\n",
            "19               group:test:laser 1.00 11.00  0.473 0.506000       0.000460\n",
            "20             group:output:laser 2.00 22.00  0.172 0.843000       0.000904\n",
            "21             group:period:laser 4.00 44.00  9.951 0.000008     * 0.022000\n",
            "22             test:output:period 3.55 39.03  0.569 0.667000       0.002000\n",
            "23              test:output:laser 2.00 22.00  0.710 0.502000       0.004000\n",
            "24              test:period:laser 4.00 44.00  3.568 0.013000     * 0.006000\n",
            "25            output:period:laser 8.00 88.00  1.795 0.089000       0.011000\n",
            "26       group:test:output:period 3.55 39.03  0.569 0.667000       0.002000\n",
            "27        group:test:output:laser 2.00 22.00  0.710 0.502000       0.004000\n",
            "28        group:test:period:laser 4.00 44.00  3.568 0.013000     * 0.006000\n",
            "29      group:output:period:laser 8.00 88.00  1.400 0.208000       0.008000\n",
            "30       test:output:period:laser 8.00 88.00  0.634 0.747000       0.002000\n",
            "31 group:test:output:period:laser 8.00 88.00  0.634 0.747000       0.002000\n"
          ],
          "name": "stdout"
        }
      ]
    },
    {
      "cell_type": "code",
      "metadata": {
        "colab": {
          "base_uri": "https://localhost:8080/"
        },
        "id": "NEEY7edy92NO",
        "outputId": "7d964f88-dce7-46db-9973-16ac6607851a"
      },
      "source": [
        "%%R\n",
        "pwc <- df %>%\n",
        "  group_by(group,test,output) %>%\n",
        "  tukey_hsd(mobileScore ~ laser, paired = TRUE, p.adjust.method = \"bonferroni\") %>%\n",
        "  select(-term,-null.value,-estimate) \n",
        "pwc"
      ],
      "execution_count": null,
      "outputs": [
        {
          "output_type": "stream",
          "text": [
            "# A tibble: 12 x 9\n",
            "   group test  output group1 group2  conf.low conf.high    p.adj p.adj.signif\n",
            "   <fct> <fct> <fct>  <chr>  <chr>      <dbl>     <dbl>    <dbl> <chr>       \n",
            " 1 ChR2  OFT   DRN    OFF    ON      0.0249      0.0853 4.76e- 4 ***         \n",
            " 2 ChR2  OFT   LHb    OFF    ON      0.0973      0.157  3.57e-10 ****        \n",
            " 3 ChR2  OFT   VTA    OFF    ON      0.0683      0.124  1.5 e- 9 ****        \n",
            " 4 ChR2  TST   DRN    OFF    ON      0.0656      0.144  8.23e- 7 ****        \n",
            " 5 ChR2  TST   LHb    OFF    ON      0.0419      0.120  8.35e- 5 ****        \n",
            " 6 ChR2  TST   VTA    OFF    ON      0.0954      0.180  5.29e- 9 ****        \n",
            " 7 eYFP  OFT   DRN    OFF    ON     -0.0167      0.0717 2.18e- 1 ns          \n",
            " 8 eYFP  OFT   LHb    OFF    ON     -0.00875     0.0683 1.28e- 1 ns          \n",
            " 9 eYFP  OFT   VTA    OFF    ON      0.000522    0.0985 4.77e- 2 *           \n",
            "10 eYFP  TST   DRN    OFF    ON     -0.0407      0.0718 5.84e- 1 ns          \n",
            "11 eYFP  TST   LHb    OFF    ON     -0.0272      0.0670 4.02e- 1 ns          \n",
            "12 eYFP  TST   VTA    OFF    ON     -0.0156      0.0938 1.59e- 1 ns          \n"
          ],
          "name": "stdout"
        }
      ]
    },
    {
      "cell_type": "code",
      "metadata": {
        "id": "oh75nMeViu-C"
      },
      "source": [
        ""
      ],
      "execution_count": null,
      "outputs": []
    }
  ]
}