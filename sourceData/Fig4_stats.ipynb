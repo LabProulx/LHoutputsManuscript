{
  "nbformat": 4,
  "nbformat_minor": 0,
  "metadata": {
    "colab": {
      "name": "Fig4_stats.ipynb",
      "provenance": [],
      "collapsed_sections": [
        "Rnfi4_TYywz5",
        "y-Rp6P9Ow9nZ"
      ],
      "include_colab_link": true
    },
    "kernelspec": {
      "display_name": "Python 3",
      "name": "python3"
    }
  },
  "cells": [
    {
      "cell_type": "markdown",
      "metadata": {
        "id": "view-in-github",
        "colab_type": "text"
      },
      "source": [
        "<a href=\"https://colab.research.google.com/github/katemartian/LHoutputsManuscript/blob/master/Fig4_stats.ipynb\" target=\"_parent\"><img src=\"https://colab.research.google.com/assets/colab-badge.svg\" alt=\"Open In Colab\"/></a>"
      ]
    },
    {
      "cell_type": "markdown",
      "metadata": {
        "id": "XuW8U0XcOgfr"
      },
      "source": [
        "<h1><center>Fig4 stats"
      ]
    },
    {
      "cell_type": "markdown",
      "metadata": {
        "id": "fRGxoji5wWut"
      },
      "source": [
        "This notebook contains statistical analysis of the data from the figure 4."
      ]
    },
    {
      "cell_type": "markdown",
      "metadata": {
        "id": "I63KVyEQRiML"
      },
      "source": [
        "# Install libraries"
      ]
    },
    {
      "cell_type": "markdown",
      "metadata": {
        "id": "lPikJj4Fy7Co"
      },
      "source": [
        "Install necessary libraries to run statistical tests in R."
      ]
    },
    {
      "cell_type": "code",
      "metadata": {
        "id": "1mU2Ub43Rlnp"
      },
      "source": [
        "# Use R in Jupyter Notebook\n",
        "%load_ext rpy2.ipython"
      ],
      "execution_count": null,
      "outputs": []
    },
    {
      "cell_type": "code",
      "metadata": {
        "id": "_cOKZocy8Ew4"
      },
      "source": [
        "%%R\n",
        "install.packages(\"readxl\")\n",
        "install.packages(\"dplyr\")\n",
        "\n",
        "install.packages(\"ggplot2\")\n",
        "\n",
        "install.packages(\"nlme\")\n",
        "install.packages(\"multcomp\")"
      ],
      "execution_count": null,
      "outputs": []
    },
    {
      "cell_type": "code",
      "metadata": {
        "id": "K8dT63N3WwtF"
      },
      "source": [
        "%%R\n",
        "library(\"readxl\")\n",
        "library(\"dplyr\")\n",
        "\n",
        "library(\"ggplot2\")\n",
        "\n",
        "library(\"nlme\")\n",
        "library(\"multcomp\")"
      ],
      "execution_count": null,
      "outputs": []
    },
    {
      "cell_type": "markdown",
      "metadata": {
        "id": "N74NdD1aqeZt"
      },
      "source": [
        "And run function at the end of the notebook."
      ]
    },
    {
      "cell_type": "markdown",
      "metadata": {
        "id": "Ui4Xz0SEvTlI"
      },
      "source": [
        "# Directory"
      ]
    },
    {
      "cell_type": "markdown",
      "metadata": {
        "id": "5E_TgpseylYc"
      },
      "source": [
        "Set directory with the source data. Mount disk if you use Google Colab."
      ]
    },
    {
      "cell_type": "code",
      "metadata": {
        "colab": {
          "base_uri": "https://localhost:8080/"
        },
        "id": "5Lej-JJWr_zy",
        "outputId": "8f06c431-1b90-4aba-a875-2c743202a0a9"
      },
      "source": [
        "# Mount disk if you use Google Colab\n",
        "from google.colab import drive\n",
        "drive.mount('/content/drive')"
      ],
      "execution_count": null,
      "outputs": [
        {
          "output_type": "stream",
          "text": [
            "Mounted at /content/drive\n"
          ],
          "name": "stdout"
        }
      ]
    },
    {
      "cell_type": "code",
      "metadata": {
        "colab": {
          "base_uri": "https://localhost:8080/"
        },
        "id": "CQJxdEY-xisY",
        "outputId": "2cf23276-e630-45b0-b7ee-6d29139fdae4"
      },
      "source": [
        "# Change directory\n",
        "%cd /content/drive/MyDrive/!lab/Manuscripts/LHoutputs/sourcedata"
      ],
      "execution_count": null,
      "outputs": [
        {
          "output_type": "stream",
          "text": [
            "/content/drive/MyDrive/!lab/Manuscripts/LHoutputs/sourcedata\n"
          ],
          "name": "stdout"
        }
      ]
    },
    {
      "cell_type": "markdown",
      "metadata": {
        "id": "Rnfi4_TYywz5"
      },
      "source": [
        "# Learning avoidance task Fig4B"
      ]
    },
    {
      "cell_type": "code",
      "metadata": {
        "id": "DhLi1NcXRt2W"
      },
      "source": [
        "%%R\n",
        "df <- read_excel(\"fig4_LH_avoidanceTask.xlsx\", sheet = \"learningTask\")\n",
        "df$training = as.factor(df$training)\n",
        "df$number = as.numeric(df$number)\n",
        "df$latency = as.numeric(df$latency)"
      ],
      "execution_count": null,
      "outputs": []
    },
    {
      "cell_type": "code",
      "metadata": {
        "colab": {
          "base_uri": "https://localhost:8080/"
        },
        "id": "yBheUMDL3Sws",
        "outputId": "b4263bb9-e38f-4cd3-9d41-c45593774322"
      },
      "source": [
        "%%R\n",
        "wilcox.test(number ~ training, data=df)"
      ],
      "execution_count": null,
      "outputs": [
        {
          "output_type": "stream",
          "text": [
            "\n",
            "\tWilcoxon rank sum test with continuity correction\n",
            "\n",
            "data:  number by training\n",
            "W = 0, p-value = 0.002335\n",
            "alternative hypothesis: true location shift is not equal to 0\n",
            "\n"
          ],
          "name": "stdout"
        }
      ]
    },
    {
      "cell_type": "code",
      "metadata": {
        "colab": {
          "base_uri": "https://localhost:8080/"
        },
        "id": "805xwEWb5BYn",
        "outputId": "eb511aee-5633-4325-d870-538be9fd50f2"
      },
      "source": [
        "%%R\n",
        "wilcox.test(latency ~ training, data=df)"
      ],
      "execution_count": null,
      "outputs": [
        {
          "output_type": "stream",
          "text": [
            "\n",
            "\tWilcoxon rank sum exact test\n",
            "\n",
            "data:  latency by training\n",
            "W = 48, p-value = 0.000666\n",
            "alternative hypothesis: true location shift is not equal to 0\n",
            "\n"
          ],
          "name": "stdout"
        }
      ]
    },
    {
      "cell_type": "markdown",
      "metadata": {
        "id": "rQQCrtAD5DUt"
      },
      "source": [
        "# CS Fig4C"
      ]
    },
    {
      "cell_type": "code",
      "metadata": {
        "id": "BF7HcGaa5R54"
      },
      "source": [
        "%%R\n",
        "early <- read_excel(\"fig4_LH_avoidanceTask.xlsx\", sheet=\"earlyTr_CS-escape\")\n",
        "early$output = as.factor(early$output)\n",
        "early$period = as.factor(early$period)\n",
        "early$auc = as.numeric(early$auc)"
      ],
      "execution_count": null,
      "outputs": []
    },
    {
      "cell_type": "code",
      "metadata": {
        "id": "NhsszeAopMGg"
      },
      "source": [
        "%%R\n",
        "neworder <- c('baseline','CS','crossed')\n",
        "early <- arrange(transform(early, period=factor(period,levels=neworder)),period)\n",
        "early$period <- factor(early$period, labels=c('baseline','CS','crossed'))"
      ],
      "execution_count": null,
      "outputs": []
    },
    {
      "cell_type": "code",
      "metadata": {
        "id": "OlbHc3e3Lh9H"
      },
      "source": [
        "%%R\n",
        "late <- read_excel(\"fig4_LH_avoidanceTask.xlsx\", sheet=\"lateTr_CS-escape\")\n",
        "late$output = as.factor(late$output)\n",
        "late$period = as.factor(late$period)\n",
        "late$auc = as.numeric(late$auc)"
      ],
      "execution_count": null,
      "outputs": []
    },
    {
      "cell_type": "code",
      "metadata": {
        "id": "8kF9r-hwLh9R"
      },
      "source": [
        "%%R\n",
        "neworder <- c('baseline','CS','crossed')\n",
        "late <- arrange(transform(late, period=factor(period,levels=neworder)),period)\n",
        "late$period <- factor(late$period, labels=c('baseline','CS','crossed'))"
      ],
      "execution_count": null,
      "outputs": []
    },
    {
      "cell_type": "code",
      "metadata": {
        "colab": {
          "base_uri": "https://localhost:8080/",
          "height": 497
        },
        "id": "Fcz7dl5Jxg_W",
        "outputId": "501a7fa3-b5a2-4001-c34a-9a2d5161707e"
      },
      "source": [
        "%%R\n",
        "p1 <- ggplot(early[(early$output==\"LHA-DRN\"),], aes(x=period, y=auc)) + geom_point() + geom_line(aes(group=mouse))\n",
        "p2 <- ggplot(late[(late$output==\"LHA-DRN\"),], aes(x=period, y=auc)) + geom_point() + geom_line(aes(group=mouse))\n",
        "p3 <- ggplot(early[(early$output==\"LHA-VTA\"),], aes(x=period, y=auc)) + geom_point() + geom_line(aes(group=mouse))\n",
        "p4 <- ggplot(late[(late$output==\"LHA-VTA\"),], aes(x=period, y=auc)) + geom_point() + geom_line(aes(group=mouse))\n",
        "p5 <- ggplot(early[(early$output==\"LHA-LHb\"),], aes(x=period, y=auc)) + geom_point() + geom_line(aes(group=mouse))\n",
        "p6 <- ggplot(late[(late$output==\"LHA-LHb\"),], aes(x=period, y=auc)) + geom_point() + geom_line(aes(group=mouse))\n",
        "multiplot(p1,p2,p3,p4,p5,p6, cols=3)"
      ],
      "execution_count": null,
      "outputs": [
        {
          "output_type": "display_data",
          "data": {
            "image/png": "[encoded data removed]"
          },
          "metadata": {
            "tags": []
          }
        }
      ]
    },
    {
      "cell_type": "markdown",
      "metadata": {
        "id": "ybZ0KQQHMjGE"
      },
      "source": [
        "$n \\le 5$"
      ]
    },
    {
      "cell_type": "markdown",
      "metadata": {
        "id": "6fjC2X04k69w"
      },
      "source": [
        "Repeated measures ANOVA on ranks with Dunnett poshoc analysis"
      ]
    },
    {
      "cell_type": "code",
      "metadata": {
        "colab": {
          "base_uri": "https://localhost:8080/"
        },
        "id": "5DG3Ds7gM76s",
        "outputId": "b359c3b6-3b95-4461-c662-088ee0c89de4"
      },
      "source": [
        "%%R\n",
        "early[\"training\"] = \"early\"\n",
        "late[\"training\"] = \"late\"\n",
        "df <- rbind(early,late)\n",
        "anova <- aov(rank(auc) ~ training*output*period, random=~1|mouse, data=df)\n",
        "summary(anova)"
      ],
      "execution_count": null,
      "outputs": [
        {
          "output_type": "stream",
          "text": [
            "                       Df Sum Sq Mean Sq F value  Pr(>F)    \n",
            "training                1    570     570   7.314 0.01009 *  \n",
            "output                  2     18       9   0.117 0.89030    \n",
            "period                  2  10543    5271  67.630 2.1e-13 ***\n",
            "training:output         2    120      60   0.767 0.47108    \n",
            "training:period         2    813     407   5.218 0.00981 ** \n",
            "output:period           4    123      31   0.395 0.81082    \n",
            "training:output:period  4    201      50   0.644 0.63428    \n",
            "Residuals              39   3040      78                    \n",
            "---\n",
            "Signif. codes:  0 ‘***’ 0.001 ‘**’ 0.01 ‘*’ 0.05 ‘.’ 0.1 ‘ ’ 1\n"
          ],
          "name": "stdout"
        }
      ]
    },
    {
      "cell_type": "markdown",
      "metadata": {
        "id": "KcDf2MZNdB34"
      },
      "source": [
        "No difference by factor output"
      ]
    },
    {
      "cell_type": "code",
      "metadata": {
        "colab": {
          "base_uri": "https://localhost:8080/"
        },
        "id": "VpWuPYWsdB35",
        "outputId": "4291efec-2d61-4ebb-b33c-57d801f1f468"
      },
      "source": [
        "# Early training\n",
        "%%R\n",
        "lme.model <- lme(rank(auc) ~ period, random=~1|mouse, data=early)\n",
        "print(summary(glht(lme.model, linfct=mcp(period=\"Dunnet\"))))"
      ],
      "execution_count": null,
      "outputs": [
        {
          "output_type": "stream",
          "text": [
            "\n",
            "\t Simultaneous Tests for General Linear Hypotheses\n",
            "\n",
            "Multiple Comparisons of Means: Dunnett Contrasts\n",
            "\n",
            "\n",
            "Fit: lme.formula(fixed = rank(auc) ~ period, data = early, random = ~1 | \n",
            "    mouse)\n",
            "\n",
            "Linear Hypotheses:\n",
            "                        Estimate Std. Error z value Pr(>|z|)    \n",
            "CS - baseline == 0          1.00       2.45   0.408    0.886    \n",
            "crossed - baseline == 0    17.00       2.45   6.940   <1e-10 ***\n",
            "---\n",
            "Signif. codes:  0 ‘***’ 0.001 ‘**’ 0.01 ‘*’ 0.05 ‘.’ 0.1 ‘ ’ 1\n",
            "(Adjusted p values reported -- single-step method)\n",
            "\n"
          ],
          "name": "stdout"
        }
      ]
    },
    {
      "cell_type": "code",
      "metadata": {
        "colab": {
          "base_uri": "https://localhost:8080/"
        },
        "id": "PQ05aQSpdJsx",
        "outputId": "b09f2faf-c3d4-47a0-aa04-3a6879182ab1"
      },
      "source": [
        "# Late training\n",
        "%%R\n",
        "lme.model <- lme(rank(auc) ~ period, random=~1|mouse, data=late)\n",
        "print(summary(glht(lme.model, linfct=mcp(period=\"Dunnet\"))))"
      ],
      "execution_count": null,
      "outputs": [
        {
          "output_type": "stream",
          "text": [
            "\n",
            "\t Simultaneous Tests for General Linear Hypotheses\n",
            "\n",
            "Multiple Comparisons of Means: Dunnett Contrasts\n",
            "\n",
            "\n",
            "Fit: lme.formula(fixed = rank(auc) ~ period, data = late, random = ~1 | \n",
            "    mouse)\n",
            "\n",
            "Linear Hypotheses:\n",
            "                        Estimate Std. Error z value Pr(>|z|)    \n",
            "CS - baseline == 0          8.25       1.31   6.297 6.08e-10 ***\n",
            "crossed - baseline == 0    15.75       1.31  12.021  < 1e-10 ***\n",
            "---\n",
            "Signif. codes:  0 ‘***’ 0.001 ‘**’ 0.01 ‘*’ 0.05 ‘.’ 0.1 ‘ ’ 1\n",
            "(Adjusted p values reported -- single-step method)\n",
            "\n"
          ],
          "name": "stdout"
        }
      ]
    },
    {
      "cell_type": "markdown",
      "metadata": {
        "id": "1J4OYnmEdR6L"
      },
      "source": [
        "Including factor output"
      ]
    },
    {
      "cell_type": "code",
      "metadata": {
        "colab": {
          "base_uri": "https://localhost:8080/"
        },
        "id": "IUWpsgO6Dzel",
        "outputId": "19013b24-c50d-46de-d650-658689b17981"
      },
      "source": [
        "# Early training\n",
        "%%R\n",
        "print('----------------------LHA-DRN----------------------')\n",
        "drn = early[early$output=='LHA-DRN',]\n",
        "lme.model <- lme(rank(auc) ~ period, random=~1|mouse, data=drn)\n",
        "print(summary(glht(lme.model, linfct=mcp(period=\"Dunnet\"))))\n",
        "\n",
        "print('----------------------LHA-VTA----------------------')\n",
        "vta = early[early$output=='LHA-VTA',]\n",
        "lme.model <- lme(rank(auc) ~ period, random=~1|mouse, data=vta)\n",
        "print(summary(glht(lme.model, linfct=mcp(period=\"Dunnet\"))))\n",
        "\n",
        "print('----------------------LHA-LHb----------------------')\n",
        "lhb = early[early$output=='LHA-LHb',]\n",
        "lme.model <- lme(rank(auc) ~ period, random=~1|mouse, data = lhb)\n",
        "print(summary(glht(lme.model, linfct=mcp(period=\"Dunnet\"))))"
      ],
      "execution_count": null,
      "outputs": [
        {
          "output_type": "stream",
          "text": [
            "[1] \"----------------------LHA-DRN----------------------\"\n",
            "\n",
            "\t Simultaneous Tests for General Linear Hypotheses\n",
            "\n",
            "Multiple Comparisons of Means: Dunnett Contrasts\n",
            "\n",
            "\n",
            "Fit: lme.formula(fixed = rank(auc) ~ period, data = drn, random = ~1 | \n",
            "    mouse)\n",
            "\n",
            "Linear Hypotheses:\n",
            "                        Estimate Std. Error z value Pr(>|z|)   \n",
            "CS - baseline == 0        -1.000      1.414  -0.707  0.70129   \n",
            "crossed - baseline == 0    4.000      1.414   2.828  0.00901 **\n",
            "---\n",
            "Signif. codes:  0 ‘***’ 0.001 ‘**’ 0.01 ‘*’ 0.05 ‘.’ 0.1 ‘ ’ 1\n",
            "(Adjusted p values reported -- single-step method)\n",
            "\n",
            "[1] \"----------------------LHA-VTA----------------------\"\n",
            "\n",
            "\t Simultaneous Tests for General Linear Hypotheses\n",
            "\n",
            "Multiple Comparisons of Means: Dunnett Contrasts\n",
            "\n",
            "\n",
            "Fit: lme.formula(fixed = rank(auc) ~ period, data = vta, random = ~1 | \n",
            "    mouse)\n",
            "\n",
            "Linear Hypotheses:\n",
            "                        Estimate Std. Error z value Pr(>|z|)    \n",
            "CS - baseline == 0         1.000      1.732   0.577    0.787    \n",
            "crossed - baseline == 0    8.000      1.732   4.619  7.7e-06 ***\n",
            "---\n",
            "Signif. codes:  0 ‘***’ 0.001 ‘**’ 0.01 ‘*’ 0.05 ‘.’ 0.1 ‘ ’ 1\n",
            "(Adjusted p values reported -- single-step method)\n",
            "\n",
            "[1] \"----------------------LHA-LHb----------------------\"\n",
            "\n",
            "\t Simultaneous Tests for General Linear Hypotheses\n",
            "\n",
            "Multiple Comparisons of Means: Dunnett Contrasts\n",
            "\n",
            "\n",
            "Fit: lme.formula(fixed = rank(auc) ~ period, data = lhb, random = ~1 | \n",
            "    mouse)\n",
            "\n",
            "Linear Hypotheses:\n",
            "                        Estimate Std. Error z value Pr(>|z|)    \n",
            "CS - baseline == 0         1.000      1.105   0.905    0.566    \n",
            "crossed - baseline == 0    5.000      1.105   4.523 1.22e-05 ***\n",
            "---\n",
            "Signif. codes:  0 ‘***’ 0.001 ‘**’ 0.01 ‘*’ 0.05 ‘.’ 0.1 ‘ ’ 1\n",
            "(Adjusted p values reported -- single-step method)\n",
            "\n"
          ],
          "name": "stdout"
        }
      ]
    },
    {
      "cell_type": "code",
      "metadata": {
        "colab": {
          "base_uri": "https://localhost:8080/"
        },
        "id": "CZHrZoxSJuyD",
        "outputId": "12ab9506-399c-4c0d-a36b-f98222883aa2"
      },
      "source": [
        "# Late training\n",
        "%%R\n",
        "print('----------------------LHA-DRN----------------------')\n",
        "drn = late[late$output=='LHA-DRN',]\n",
        "lme.model <- lme(rank(auc) ~ period, random=~1|mouse, data=drn)\n",
        "print(summary(glht(lme.model, linfct=mcp(period=\"Dunnet\"))))\n",
        "\n",
        "print('----------------------LHA-VTA----------------------')\n",
        "vta = late[late$output=='LHA-VTA',]\n",
        "lme.model <- lme(rank(auc) ~ period, random=~1|mouse, data=vta)\n",
        "print(summary(glht(lme.model, linfct=mcp(period=\"Dunnet\"))))\n",
        "\n",
        "print('----------------------LHA-LHb----------------------')\n",
        "lhb = late[late$output=='LHA-LHb',]\n",
        "lme.model <- lme(rank(auc) ~ period, random=~1|mouse, data = lhb)\n",
        "print(summary(glht(lme.model, linfct=mcp(period=\"Dunnet\"))))"
      ],
      "execution_count": null,
      "outputs": [
        {
          "output_type": "stream",
          "text": [
            "[1] \"----------------------LHA-DRN----------------------\"\n",
            "\n",
            "\t Simultaneous Tests for General Linear Hypotheses\n",
            "\n",
            "Multiple Comparisons of Means: Dunnett Contrasts\n",
            "\n",
            "\n",
            "Fit: lme.formula(fixed = rank(auc) ~ period, data = drn, random = ~1 | \n",
            "    mouse)\n",
            "\n",
            "Linear Hypotheses:\n",
            "                        Estimate Std. Error z value Pr(>|z|)    \n",
            "CS - baseline == 0        2.0000     0.7071   2.828  0.00901 ** \n",
            "crossed - baseline == 0   4.0000     0.7071   5.657 3.08e-08 ***\n",
            "---\n",
            "Signif. codes:  0 ‘***’ 0.001 ‘**’ 0.01 ‘*’ 0.05 ‘.’ 0.1 ‘ ’ 1\n",
            "(Adjusted p values reported -- single-step method)\n",
            "\n",
            "[1] \"----------------------LHA-VTA----------------------\"\n",
            "\n",
            "\t Simultaneous Tests for General Linear Hypotheses\n",
            "\n",
            "Multiple Comparisons of Means: Dunnett Contrasts\n",
            "\n",
            "\n",
            "Fit: lme.formula(fixed = rank(auc) ~ period, data = vta, random = ~1 | \n",
            "    mouse)\n",
            "\n",
            "Linear Hypotheses:\n",
            "                        Estimate Std. Error z value Pr(>|z|)    \n",
            "CS - baseline == 0        3.0000     0.7454   4.025 0.000113 ***\n",
            "crossed - baseline == 0   6.0000     0.7454   8.050  < 1e-10 ***\n",
            "---\n",
            "Signif. codes:  0 ‘***’ 0.001 ‘**’ 0.01 ‘*’ 0.05 ‘.’ 0.1 ‘ ’ 1\n",
            "(Adjusted p values reported -- single-step method)\n",
            "\n",
            "[1] \"----------------------LHA-LHb----------------------\"\n",
            "\n",
            "\t Simultaneous Tests for General Linear Hypotheses\n",
            "\n",
            "Multiple Comparisons of Means: Dunnett Contrasts\n",
            "\n",
            "\n",
            "Fit: lme.formula(fixed = rank(auc) ~ period, data = lhb, random = ~1 | \n",
            "    mouse)\n",
            "\n",
            "Linear Hypotheses:\n",
            "                        Estimate Std. Error z value Pr(>|z|)    \n",
            "CS - baseline == 0        3.0000     0.8165   3.674 0.000471 ***\n",
            "crossed - baseline == 0   6.0000     0.8165   7.348  < 1e-10 ***\n",
            "---\n",
            "Signif. codes:  0 ‘***’ 0.001 ‘**’ 0.01 ‘*’ 0.05 ‘.’ 0.1 ‘ ’ 1\n",
            "(Adjusted p values reported -- single-step method)\n",
            "\n"
          ],
          "name": "stdout"
        }
      ]
    },
    {
      "cell_type": "markdown",
      "metadata": {
        "id": "LRv2pBnK1Ohl"
      },
      "source": [
        "Mobile score"
      ]
    },
    {
      "cell_type": "code",
      "metadata": {
        "id": "Ics_-fJpnm8H"
      },
      "source": [
        "%%R\n",
        "early <- read_excel(\"fig4_LH_avoidanceTask.xlsx\", sheet=\"earlyTr_CS-escape_mobileScore\")\n",
        "early$period = as.factor(early$period)\n",
        "early$auc = as.numeric(early$auc)"
      ],
      "execution_count": null,
      "outputs": []
    },
    {
      "cell_type": "code",
      "metadata": {
        "id": "FAgnTNWbnm8V"
      },
      "source": [
        "%%R\n",
        "neworder <- c('baseline','CS','crossed')\n",
        "early <- arrange(transform(early, period=factor(period,levels=neworder)),period)\n",
        "early$period <- factor(early$period, labels=c('baseline','CS','crossed'))"
      ],
      "execution_count": null,
      "outputs": []
    },
    {
      "cell_type": "code",
      "metadata": {
        "id": "SpyBb8sENIkN"
      },
      "source": [
        "%%R\n",
        "late <- read_excel(\"fig4_LH_avoidanceTask.xlsx\", sheet=\"lateTr_CS-escape_mobileScore\")\n",
        "late$period = as.factor(late$period)\n",
        "late$auc = as.numeric(late$auc)"
      ],
      "execution_count": null,
      "outputs": []
    },
    {
      "cell_type": "code",
      "metadata": {
        "id": "e9sYVgnJNIkU"
      },
      "source": [
        "%%R\n",
        "neworder <- c('baseline','CS','crossed')\n",
        "late <- arrange(transform(late, period=factor(period,levels=neworder)),period)\n",
        "late$period <- factor(late$period, labels=c('baseline','CS','crossed'))"
      ],
      "execution_count": null,
      "outputs": []
    },
    {
      "cell_type": "code",
      "metadata": {
        "colab": {
          "base_uri": "https://localhost:8080/",
          "height": 497
        },
        "id": "GiQoc4Qynm8W",
        "outputId": "7a36ec11-e1f4-40b4-b8aa-223338513511"
      },
      "source": [
        "%%R\n",
        "p1 <- ggplot(early, aes(x=period, y=auc)) + geom_point() + geom_line(aes(group=mouse))\n",
        "p2 <- ggplot(late, aes(x=period, y=auc)) + geom_point() + geom_line(aes(group=mouse))\n",
        "multiplot(p1,p2)"
      ],
      "execution_count": null,
      "outputs": [
        {
          "output_type": "display_data",
          "data": {
            "image/png": "[encoded data removed]"
          },
          "metadata": {
            "tags": []
          }
        }
      ]
    },
    {
      "cell_type": "code",
      "metadata": {
        "colab": {
          "base_uri": "https://localhost:8080/"
        },
        "id": "FzWxvI50KbcN",
        "outputId": "238ef149-b6d1-42be-f0cc-080e154983c9"
      },
      "source": [
        "%%R\n",
        "print(c(\"early Training baseline\", shapiro.test(early[(early$period==\"baseline\"), ]$auc)$p.value))\n",
        "print(c(\"early Training CS\", shapiro.test(early[(early$period==\"CS\"),]$auc)$p.value))\n",
        "print(c(\"early Training crossed\", shapiro.test(early[(early$period==\"crossed\"),]$auc)$p.value))\n",
        "print(\"\")\n",
        "print(c(\"late Training baseline\", shapiro.test(late[(late$period==\"baseline\"),]$auc)$p.value))\n",
        "print(c(\"late Training CS\", shapiro.test(late[(late$period==\"CS\"),]$auc)$p.value))\n",
        "print(c(\"late Training crossed\", shapiro.test(late[(late$period==\"crossed\"),]$auc)$p.value))"
      ],
      "execution_count": null,
      "outputs": [
        {
          "output_type": "stream",
          "text": [
            "[1] \"early Training baseline\" \"0.0506049305150441\"     \n",
            "[1] \"early Training CS\" \"0.129180086223467\"\n",
            "[1] \"early Training crossed\" \"0.146805405074845\"     \n",
            "[1] \"\"\n",
            "[1] \"late Training baseline\" \"0.581704548226573\"     \n",
            "[1] \"late Training CS\"  \"0.939045679306196\"\n",
            "[1] \"late Training crossed\" \"0.530565204855779\"    \n"
          ],
          "name": "stdout"
        }
      ]
    },
    {
      "cell_type": "markdown",
      "metadata": {
        "id": "oCemSNHfnm8Y"
      },
      "source": [
        "Repeated measures ANOVA with Dunnett poshoc analysis"
      ]
    },
    {
      "cell_type": "code",
      "metadata": {
        "colab": {
          "base_uri": "https://localhost:8080/"
        },
        "id": "XkTpH_O21IiX",
        "outputId": "6bef6249-2fec-4740-d548-979c767b405d"
      },
      "source": [
        "%%R\n",
        "early[\"training\"] = \"early\"\n",
        "late[\"training\"] = \"late\"\n",
        "df <- rbind(early,late)\n",
        "anova <- aov(auc ~ training*period, random=~1|mouse, data=df)\n",
        "summary(anova)"
      ],
      "execution_count": null,
      "outputs": [
        {
          "output_type": "stream",
          "text": [
            "                Df Sum Sq Mean Sq F value Pr(>F)    \n",
            "training         1 0.0030  0.0030   3.379 0.0759 .  \n",
            "period           2 0.6414  0.3207 365.027 <2e-16 ***\n",
            "training:period  2 0.0017  0.0008   0.955 0.3963    \n",
            "Residuals       30 0.0264  0.0009                   \n",
            "---\n",
            "Signif. codes:  0 ‘***’ 0.001 ‘**’ 0.01 ‘*’ 0.05 ‘.’ 0.1 ‘ ’ 1\n"
          ],
          "name": "stdout"
        }
      ]
    },
    {
      "cell_type": "code",
      "metadata": {
        "colab": {
          "base_uri": "https://localhost:8080/"
        },
        "id": "T6b2epQsnm8Z",
        "outputId": "bccddec6-993d-4cb0-ba8c-a2a9d7ee1278"
      },
      "source": [
        "# Early training \n",
        "%%R\n",
        "lme.model <- lme(auc ~ period, random=~1|mouse, data=early)\n",
        "print(summary(glht(lme.model, linfct=mcp(period=\"Dunnet\"))))"
      ],
      "execution_count": null,
      "outputs": [
        {
          "output_type": "stream",
          "text": [
            "\n",
            "\t Simultaneous Tests for General Linear Hypotheses\n",
            "\n",
            "Multiple Comparisons of Means: Dunnett Contrasts\n",
            "\n",
            "\n",
            "Fit: lme.formula(fixed = auc ~ period, data = early, random = ~1 | \n",
            "    mouse)\n",
            "\n",
            "Linear Hypotheses:\n",
            "                        Estimate Std. Error z value Pr(>|z|)    \n",
            "CS - baseline == 0       0.03714    0.01110   3.345  0.00161 ** \n",
            "crossed - baseline == 0  0.31416    0.01110  28.295  < 1e-10 ***\n",
            "---\n",
            "Signif. codes:  0 ‘***’ 0.001 ‘**’ 0.01 ‘*’ 0.05 ‘.’ 0.1 ‘ ’ 1\n",
            "(Adjusted p values reported -- single-step method)\n",
            "\n"
          ],
          "name": "stdout"
        }
      ]
    },
    {
      "cell_type": "code",
      "metadata": {
        "colab": {
          "base_uri": "https://localhost:8080/"
        },
        "id": "Wk_G3x8Ynm8a",
        "outputId": "b213721b-ba5a-4b0d-c057-6910e67a759e"
      },
      "source": [
        "# Late training\n",
        "%%R\n",
        "lme.model <- lme(auc ~ period, random=~1|mouse, data=late)\n",
        "print(summary(glht(lme.model, linfct=mcp(period=\"Dunnet\"))))"
      ],
      "execution_count": null,
      "outputs": [
        {
          "output_type": "stream",
          "text": [
            "\n",
            "\t Simultaneous Tests for General Linear Hypotheses\n",
            "\n",
            "Multiple Comparisons of Means: Dunnett Contrasts\n",
            "\n",
            "\n",
            "Fit: lme.formula(fixed = auc ~ period, data = late, random = ~1 | \n",
            "    mouse)\n",
            "\n",
            "Linear Hypotheses:\n",
            "                        Estimate Std. Error z value Pr(>|z|)    \n",
            "CS - baseline == 0       0.04011    0.01889   2.123   0.0621 .  \n",
            "crossed - baseline == 0  0.28680    0.01889  15.180   <1e-10 ***\n",
            "---\n",
            "Signif. codes:  0 ‘***’ 0.001 ‘**’ 0.01 ‘*’ 0.05 ‘.’ 0.1 ‘ ’ 1\n",
            "(Adjusted p values reported -- single-step method)\n",
            "\n"
          ],
          "name": "stdout"
        }
      ]
    },
    {
      "cell_type": "markdown",
      "metadata": {
        "id": "8IDRRL4lKAw8"
      },
      "source": [
        "# Avoidance mobility onset Fig4D"
      ]
    },
    {
      "cell_type": "code",
      "metadata": {
        "id": "V3vJ92v5KAw-"
      },
      "source": [
        "%%R\n",
        "df <- read_excel(\"fig4_LH_avoidanceTask.xlsx\", sheet=\"avoidance\")\n",
        "df$output = as.factor(df$output)\n",
        "df$period = as.factor(df$period)\n",
        "df$auc = as.numeric(df$auc)"
      ],
      "execution_count": null,
      "outputs": []
    },
    {
      "cell_type": "code",
      "metadata": {
        "id": "e8Owm6QhKAw_"
      },
      "source": [
        "%%R\n",
        "neworder <- c('immobile','preonset','onset','mobile')\n",
        "df <- arrange(transform(df, period=factor(period,levels=neworder)),period)\n",
        "df$period <- factor(df$period, labels=c('immobile','preonset','onset','mobile'))"
      ],
      "execution_count": null,
      "outputs": []
    },
    {
      "cell_type": "code",
      "metadata": {
        "colab": {
          "base_uri": "https://localhost:8080/",
          "height": 497
        },
        "id": "7ajRHxygKAxA",
        "outputId": "25a77183-7e5d-4aee-f9db-de43af061a87"
      },
      "source": [
        "%%R\n",
        "p1 <- ggplot(df[(df$output==\"LHA-DRN\"),], aes(x=period, y=auc)) + geom_point() + geom_line(aes(group=mouse))\n",
        "p2 <- ggplot(df[(df$output==\"LHA-VTA\"),], aes(x=period, y=auc)) + geom_point() + geom_line(aes(group=mouse))\n",
        "p3 <- ggplot(df[(df$output==\"LHA-LHb\"),], aes(x=period, y=auc)) + geom_point() + geom_line(aes(group=mouse))\n",
        "multiplot(p1,p2,p3, cols=3)"
      ],
      "execution_count": null,
      "outputs": [
        {
          "output_type": "display_data",
          "data": {
            "image/png": "[encoded data removed]"
          },
          "metadata": {
            "tags": []
          }
        }
      ]
    },
    {
      "cell_type": "markdown",
      "metadata": {
        "id": "s9aI_RDz3LNh"
      },
      "source": [
        "$n<5$"
      ]
    },
    {
      "cell_type": "markdown",
      "metadata": {
        "id": "-0ahIgwskogA"
      },
      "source": [
        "Repeated measures ANOVA on ranks with Dunnett poshoc analysis"
      ]
    },
    {
      "cell_type": "code",
      "metadata": {
        "colab": {
          "base_uri": "https://localhost:8080/"
        },
        "id": "6KsxcJI3O76-",
        "outputId": "33bd9058-521d-430c-b7d1-9a26220725b2"
      },
      "source": [
        "%%R\n",
        "anova <- aov(rank(auc) ~ output*period, random=~1|mouse, data=df)\n",
        "summary(anova)"
      ],
      "execution_count": null,
      "outputs": [
        {
          "output_type": "stream",
          "text": [
            "              Df Sum Sq Mean Sq F value   Pr(>F)    \n",
            "output         2   13.3     6.7   0.293    0.749    \n",
            "period         3 2109.3   703.1  30.905 1.05e-07 ***\n",
            "output:period  6  150.4    25.1   1.102    0.395    \n",
            "Residuals     20  455.0    22.8                     \n",
            "---\n",
            "Signif. codes:  0 ‘***’ 0.001 ‘**’ 0.01 ‘*’ 0.05 ‘.’ 0.1 ‘ ’ 1\n"
          ],
          "name": "stdout"
        }
      ]
    },
    {
      "cell_type": "markdown",
      "metadata": {
        "id": "9VzjEJXZb0wb"
      },
      "source": [
        "No difference by factor output"
      ]
    },
    {
      "cell_type": "code",
      "metadata": {
        "colab": {
          "base_uri": "https://localhost:8080/"
        },
        "id": "nS-l5WOQKAxC",
        "outputId": "972c0bf0-7f28-4b32-c5fa-799dd8867555"
      },
      "source": [
        "%%R\n",
        "lme.model <- lme(rank(auc) ~ period, random=~1|mouse, data=df)\n",
        "print(summary(glht(lme.model, linfct=mcp(period=\"Dunnet\"))))"
      ],
      "execution_count": null,
      "outputs": [
        {
          "output_type": "stream",
          "text": [
            "\n",
            "\t Simultaneous Tests for General Linear Hypotheses\n",
            "\n",
            "Multiple Comparisons of Means: Dunnett Contrasts\n",
            "\n",
            "\n",
            "Fit: lme.formula(fixed = rank(auc) ~ period, data = df, random = ~1 | \n",
            "    mouse)\n",
            "\n",
            "Linear Hypotheses:\n",
            "                         Estimate Std. Error z value Pr(>|z|)    \n",
            "preonset - immobile == 0    9.625      2.026   4.750   <1e-05 ***\n",
            "onset - immobile == 0      16.875      2.026   8.329   <1e-05 ***\n",
            "mobile - immobile == 0     21.500      2.026  10.611   <1e-05 ***\n",
            "---\n",
            "Signif. codes:  0 ‘***’ 0.001 ‘**’ 0.01 ‘*’ 0.05 ‘.’ 0.1 ‘ ’ 1\n",
            "(Adjusted p values reported -- single-step method)\n",
            "\n"
          ],
          "name": "stdout"
        }
      ]
    },
    {
      "cell_type": "markdown",
      "metadata": {
        "id": "ghEa23PVddSM"
      },
      "source": [
        "Including factor output"
      ]
    },
    {
      "cell_type": "code",
      "metadata": {
        "colab": {
          "base_uri": "https://localhost:8080/"
        },
        "id": "2EkASU8Icsgq",
        "outputId": "3f126c6b-16cb-441f-bbf1-c9f7701b2cbe"
      },
      "source": [
        "%%R\n",
        "print('----------------------LHA-DRN----------------------')\n",
        "drn = df[df$output=='LHA-DRN',]\n",
        "lme.model <- lme(rank(auc) ~ period, random=~1|mouse, data=drn)\n",
        "print(summary(glht(lme.model, linfct=mcp(period=\"Dunnet\"))))\n",
        "\n",
        "print('----------------------LHA-VTA----------------------')\n",
        "vta = df[df$output=='LHA-VTA',]\n",
        "lme.model <- lme(rank(auc) ~ period, random=~1|mouse, data=vta)\n",
        "print(summary(glht(lme.model, linfct=mcp(period=\"Dunnet\"))))\n",
        "\n",
        "print('----------------------LHA-LHb----------------------')\n",
        "lhb = df[df$output=='LHA-LHb',]\n",
        "lme.model <- lme(rank(auc) ~ period, random=~1|mouse, data = lhb)\n",
        "print(summary(glht(lme.model, linfct=mcp(period=\"Dunnet\"))))"
      ],
      "execution_count": null,
      "outputs": [
        {
          "output_type": "stream",
          "text": [
            "[1] \"----------------------LHA-DRN----------------------\"\n",
            "\n",
            "\t Simultaneous Tests for General Linear Hypotheses\n",
            "\n",
            "Multiple Comparisons of Means: Dunnett Contrasts\n",
            "\n",
            "\n",
            "Fit: lme.formula(fixed = rank(auc) ~ period, data = drn, random = ~1 | \n",
            "    mouse)\n",
            "\n",
            "Linear Hypotheses:\n",
            "                         Estimate Std. Error z value Pr(>|z|)    \n",
            "preonset - immobile == 0   2.0000     0.4082   4.899 2.38e-06 ***\n",
            "onset - immobile == 0      5.5000     0.4082  13.472  < 1e-06 ***\n",
            "mobile - immobile == 0     4.5000     0.4082  11.023  < 1e-06 ***\n",
            "---\n",
            "Signif. codes:  0 ‘***’ 0.001 ‘**’ 0.01 ‘*’ 0.05 ‘.’ 0.1 ‘ ’ 1\n",
            "(Adjusted p values reported -- single-step method)\n",
            "\n",
            "[1] \"----------------------LHA-VTA----------------------\"\n",
            "\n",
            "\t Simultaneous Tests for General Linear Hypotheses\n",
            "\n",
            "Multiple Comparisons of Means: Dunnett Contrasts\n",
            "\n",
            "\n",
            "Fit: lme.formula(fixed = rank(auc) ~ period, data = vta, random = ~1 | \n",
            "    mouse)\n",
            "\n",
            "Linear Hypotheses:\n",
            "                         Estimate Std. Error z value Pr(>|z|)    \n",
            "preonset - immobile == 0    3.667      1.097   3.342  0.00239 ** \n",
            "onset - immobile == 0       5.333      1.097   4.861  < 1e-04 ***\n",
            "mobile - immobile == 0      9.000      1.097   8.203  < 1e-04 ***\n",
            "---\n",
            "Signif. codes:  0 ‘***’ 0.001 ‘**’ 0.01 ‘*’ 0.05 ‘.’ 0.1 ‘ ’ 1\n",
            "(Adjusted p values reported -- single-step method)\n",
            "\n",
            "[1] \"----------------------LHA-LHb----------------------\"\n",
            "\n",
            "\t Simultaneous Tests for General Linear Hypotheses\n",
            "\n",
            "Multiple Comparisons of Means: Dunnett Contrasts\n",
            "\n",
            "\n",
            "Fit: lme.formula(fixed = rank(auc) ~ period, data = lhb, random = ~1 | \n",
            "    mouse)\n",
            "\n",
            "Linear Hypotheses:\n",
            "                         Estimate Std. Error z value Pr(>|z|)    \n",
            "preonset - immobile == 0    3.667      1.240   2.958  0.00882 ** \n",
            "onset - immobile == 0       6.333      1.240   5.108  < 0.001 ***\n",
            "mobile - immobile == 0      8.000      1.240   6.453  < 0.001 ***\n",
            "---\n",
            "Signif. codes:  0 ‘***’ 0.001 ‘**’ 0.01 ‘*’ 0.05 ‘.’ 0.1 ‘ ’ 1\n",
            "(Adjusted p values reported -- single-step method)\n",
            "\n"
          ],
          "name": "stdout"
        }
      ]
    },
    {
      "cell_type": "markdown",
      "metadata": {
        "id": "hQE1km0BlIP0"
      },
      "source": [
        "Mobile score"
      ]
    },
    {
      "cell_type": "code",
      "metadata": {
        "id": "rne0OhKalX4s"
      },
      "source": [
        "%%R\n",
        "df <- read_excel(\"fig4_LH_avoidanceTask.xlsx\", sheet=\"avoidance_mobileScore\")\n",
        "df$period = as.factor(df$period)\n",
        "df$auc = as.numeric(df$auc)"
      ],
      "execution_count": null,
      "outputs": []
    },
    {
      "cell_type": "code",
      "metadata": {
        "id": "IiBXtxRblX4u"
      },
      "source": [
        "%%R\n",
        "neworder <- c('immobile','preonset','onset','mobile')\n",
        "df <- arrange(transform(df, period=factor(period,levels=neworder)),period)\n",
        "df$period <- factor(df$period, labels=c('immobile','preonset','onset','mobile'))"
      ],
      "execution_count": null,
      "outputs": []
    },
    {
      "cell_type": "code",
      "metadata": {
        "colab": {
          "base_uri": "https://localhost:8080/",
          "height": 497
        },
        "id": "oOo-LkR2lX4u",
        "outputId": "3db7109a-5594-4a0c-80d1-d4262aa8c882"
      },
      "source": [
        "%%R\n",
        "ggplot(df, aes(x=period, y=auc)) + geom_point() + geom_line(aes(group=mouse))"
      ],
      "execution_count": null,
      "outputs": [
        {
          "output_type": "display_data",
          "data": {
            "image/png": "[encoded data removed]"
          },
          "metadata": {
            "tags": []
          }
        }
      ]
    },
    {
      "cell_type": "markdown",
      "metadata": {
        "id": "CZjk7mHvL25x"
      },
      "source": [
        "Normality test"
      ]
    },
    {
      "cell_type": "code",
      "metadata": {
        "colab": {
          "base_uri": "https://localhost:8080/"
        },
        "id": "konKGUd4L25x",
        "outputId": "285fa210-99a8-4f6f-cb63-b771363795f2"
      },
      "source": [
        "%%R\n",
        "print(c(\"immobile\", shapiro.test(df[(df$period==\"immobile\"), ]$auc)$p.value))\n",
        "print(c(\"preonset\", shapiro.test(df[(df$period==\"preonset\"),]$auc)$p.value))\n",
        "print(c(\"onset\", shapiro.test(df[(df$period==\"onset\"),]$auc)$p.value))\n",
        "print(c(\"mobile\", shapiro.test(df[(df$period==\"mobile\"),]$auc)$p.value))"
      ],
      "execution_count": null,
      "outputs": [
        {
          "output_type": "stream",
          "text": [
            "[1] \"immobile\"          \"0.782761349762765\"\n",
            "[1] \"preonset\"          \"0.679898340606618\"\n",
            "[1] \"onset\"            \"0.72992559885069\"\n",
            "[1] \"mobile\"            \"0.240420804906177\"\n"
          ],
          "name": "stdout"
        }
      ]
    },
    {
      "cell_type": "markdown",
      "metadata": {
        "id": "Qso_mIzuooMo"
      },
      "source": [
        "Repeated measures ANOVA on ranks with Dunnett poshoc analysis"
      ]
    },
    {
      "cell_type": "code",
      "metadata": {
        "colab": {
          "base_uri": "https://localhost:8080/"
        },
        "id": "7ZxndATklGcs",
        "outputId": "0a4c2c30-1f81-4b3e-f929-7f8bea8c2819"
      },
      "source": [
        "%%R\n",
        "lme.model <- lme(auc ~ period, random=~1|mouse, data=df)\n",
        "print(summary(glht(lme.model, linfct=mcp(period=\"Dunnet\"))))"
      ],
      "execution_count": null,
      "outputs": [
        {
          "output_type": "stream",
          "text": [
            "\n",
            "\t Simultaneous Tests for General Linear Hypotheses\n",
            "\n",
            "Multiple Comparisons of Means: Dunnett Contrasts\n",
            "\n",
            "\n",
            "Fit: lme.formula(fixed = auc ~ period, data = df, random = ~1 | mouse)\n",
            "\n",
            "Linear Hypotheses:\n",
            "                         Estimate Std. Error z value Pr(>|z|)    \n",
            "preonset - immobile == 0  0.01779    0.02282   0.780    0.775    \n",
            "onset - immobile == 0     0.17822    0.02282   7.810   <1e-04 ***\n",
            "mobile - immobile == 0    0.20969    0.02282   9.189   <1e-04 ***\n",
            "---\n",
            "Signif. codes:  0 ‘***’ 0.001 ‘**’ 0.01 ‘*’ 0.05 ‘.’ 0.1 ‘ ’ 1\n",
            "(Adjusted p values reported -- single-step method)\n",
            "\n"
          ],
          "name": "stdout"
        }
      ]
    },
    {
      "cell_type": "markdown",
      "metadata": {
        "id": "y-Rp6P9Ow9nZ"
      },
      "source": [
        "# Functions"
      ]
    },
    {
      "cell_type": "code",
      "metadata": {
        "id": "efhtms8akfyR"
      },
      "source": [
        "%%R\n",
        "# Multiple plot function\n",
        "#\n",
        "# ggplot objects can be passed in ..., or to plotlist (as a list of ggplot objects)\n",
        "# - cols:   Number of columns in layout\n",
        "# - layout: A matrix specifying the layout. If present, 'cols' is ignored.\n",
        "#\n",
        "# If the layout is something like matrix(c(1,2,3,3), nrow=2, byrow=TRUE),\n",
        "# then plot 1 will go in the upper left, 2 will go in the upper right, and\n",
        "# 3 will go all the way across the bottom.\n",
        "#\n",
        "multiplot <- function(..., plotlist=NULL, file, cols=1, layout=NULL) {\n",
        "  library(grid)\n",
        "\n",
        "  # Make a list from the ... arguments and plotlist\n",
        "  plots <- c(list(...), plotlist)\n",
        "\n",
        "  numPlots = length(plots)\n",
        "\n",
        "  # If layout is NULL, then use 'cols' to determine layout\n",
        "  if (is.null(layout)) {\n",
        "    # Make the panel\n",
        "    # ncol: Number of columns of plots\n",
        "    # nrow: Number of rows needed, calculated from # of cols\n",
        "    layout <- matrix(seq(1, cols * ceiling(numPlots/cols)),\n",
        "                    ncol = cols, nrow = ceiling(numPlots/cols))\n",
        "  }\n",
        "\n",
        " if (numPlots==1) {\n",
        "    print(plots[[1]])\n",
        "\n",
        "  } else {\n",
        "    # Set up the page\n",
        "    grid.newpage()\n",
        "    pushViewport(viewport(layout = grid.layout(nrow(layout), ncol(layout))))\n",
        "\n",
        "    # Make each plot, in the correct location\n",
        "    for (i in 1:numPlots) {\n",
        "      # Get the i,j matrix positions of the regions that contain this subplot\n",
        "      matchidx <- as.data.frame(which(layout == i, arr.ind = TRUE))\n",
        "\n",
        "      print(plots[[i]], vp = viewport(layout.pos.row = matchidx$row,\n",
        "                                      layout.pos.col = matchidx$col))\n",
        "    }\n",
        "  }\n",
        "}"
      ],
      "execution_count": null,
      "outputs": []
    }
  ]
}
