{
  "nbformat": 4,
  "nbformat_minor": 0,
  "metadata": {
    "colab": {
      "name": "Fig7_stats.ipynb",
      "provenance": [],
      "include_colab_link": true
    },
    "kernelspec": {
      "display_name": "Python 3",
      "name": "python3"
    }
  },
  "cells": [
    {
      "cell_type": "markdown",
      "metadata": {
        "id": "view-in-github",
        "colab_type": "text"
      },
      "source": [
        "<a href=\"https://colab.research.google.com/github/katemartian/LHoutputsManuscript/blob/master/Fig7_stats.ipynb\" target=\"_parent\"><img src=\"https://colab.research.google.com/assets/colab-badge.svg\" alt=\"Open In Colab\"/></a>"
      ]
    },
    {
      "cell_type": "markdown",
      "metadata": {
        "id": "XuW8U0XcOgfr"
      },
      "source": [
        "<h1><center>Fig7 stats"
      ]
    },
    {
      "cell_type": "markdown",
      "metadata": {
        "id": "fRGxoji5wWut"
      },
      "source": [
        "This notebook contains statistical analysis of the data from the figure 7 and its supplemental figures."
      ]
    },
    {
      "cell_type": "markdown",
      "metadata": {
        "id": "I63KVyEQRiML"
      },
      "source": [
        "# Install libraries"
      ]
    },
    {
      "cell_type": "markdown",
      "metadata": {
        "id": "lPikJj4Fy7Co"
      },
      "source": [
        "Install all necessary libraries to run statistical tests in R."
      ]
    },
    {
      "cell_type": "code",
      "metadata": {
        "id": "1mU2Ub43Rlnp"
      },
      "source": [
        "# Use R in Jupyter Notebook\n",
        "%load_ext rpy2.ipython"
      ],
      "execution_count": null,
      "outputs": []
    },
    {
      "cell_type": "code",
      "metadata": {
        "id": "_cOKZocy8Ew4"
      },
      "source": [
        "%%R\n",
        "install.packages(\"readxl\")\n",
        "install.packages(\"dplyr\")\n",
        "\n",
        "install.packages(\"ggplot2\")\n",
        "\n",
        "install.packages(\"nlme\")\n",
        "install.packages(\"multcomp\")"
      ],
      "execution_count": null,
      "outputs": []
    },
    {
      "cell_type": "code",
      "metadata": {
        "id": "K8dT63N3WwtF"
      },
      "source": [
        "%%R\n",
        "library(\"readxl\")\n",
        "library(\"dplyr\")\n",
        "\n",
        "library(\"ggplot2\")\n",
        "\n",
        "library(\"nlme\")\n",
        "library(\"multcomp\")"
      ],
      "execution_count": null,
      "outputs": []
    },
    {
      "cell_type": "markdown",
      "metadata": {
        "id": "N74NdD1aqeZt"
      },
      "source": [
        "And run function at the end of the notebook."
      ]
    },
    {
      "cell_type": "markdown",
      "metadata": {
        "id": "Ui4Xz0SEvTlI"
      },
      "source": [
        "# Directory"
      ]
    },
    {
      "cell_type": "markdown",
      "metadata": {
        "id": "5E_TgpseylYc"
      },
      "source": [
        "Set directory with the source data. Mount disk if you use Google Colab."
      ]
    },
    {
      "cell_type": "code",
      "metadata": {
        "colab": {
          "base_uri": "https://localhost:8080/"
        },
        "id": "5Lej-JJWr_zy",
        "outputId": "7c3a2f2c-f8b4-4356-9ead-8b2353bef3ba"
      },
      "source": [
        "# Mount disk if you use Google Colab\n",
        "from google.colab import drive\n",
        "drive.mount('/content/drive')"
      ],
      "execution_count": null,
      "outputs": [
        {
          "output_type": "stream",
          "text": [
            "Mounted at /content/drive\n"
          ],
          "name": "stdout"
        }
      ]
    },
    {
      "cell_type": "code",
      "metadata": {
        "colab": {
          "base_uri": "https://localhost:8080/"
        },
        "id": "CQJxdEY-xisY",
        "outputId": "33b579d4-9e70-48be-f10b-840e5618b4bf"
      },
      "source": [
        "# Change directory\n",
        "%cd /content/drive/MyDrive/!lab/Manuscripts/LHoutputs/sourcedata"
      ],
      "execution_count": null,
      "outputs": [
        {
          "output_type": "stream",
          "text": [
            "/content/drive/MyDrive/!lab/Manuscripts/LHoutputs/sourcedata\n"
          ],
          "name": "stdout"
        }
      ]
    },
    {
      "cell_type": "markdown",
      "metadata": {
        "id": "vICOOVuxMXKK"
      },
      "source": [
        "# SCT Average duration Fig7B"
      ]
    },
    {
      "cell_type": "code",
      "metadata": {
        "id": "DhLi1NcXRt2W"
      },
      "source": [
        "%%R\n",
        "df <- read_excel(\"fig7_LHopto_RTPP-SCT.xlsx\", sheet = \"SCTavgDuration\")\n",
        "df$group = as.factor(df$group)\n",
        "df$output = as.factor(df$output)\n",
        "df$measure = as.numeric(df$measure)"
      ],
      "execution_count": null,
      "outputs": []
    },
    {
      "cell_type": "code",
      "metadata": {
        "id": "NhsszeAopMGg"
      },
      "source": [
        "%%R\n",
        "neworder <- c('no-stim','LHA-DRN','LHA-VTA','LHA-LHb')\n",
        "df <- arrange(transform(df, output=factor(output,levels=neworder)),output)\n",
        "df$output <- factor(df$output, labels = c('no-stim','LHA-DRN','LHA-VTA','LHA-LHb'))"
      ],
      "execution_count": null,
      "outputs": []
    },
    {
      "cell_type": "code",
      "metadata": {
        "id": "IA-zJt-Wxg_V"
      },
      "source": [
        "%%R\n",
        "chr2 <- df[df$group==\"ChR2\",]\n",
        "eyfp <- df[df$group==\"eYFP\",]"
      ],
      "execution_count": null,
      "outputs": []
    },
    {
      "cell_type": "code",
      "metadata": {
        "colab": {
          "base_uri": "https://localhost:8080/",
          "height": 497
        },
        "id": "Fcz7dl5Jxg_W",
        "outputId": "b0674fcd-1c7f-421d-99b6-20d9d078c557"
      },
      "source": [
        "%%R\n",
        "p1 <- ggplot(chr2[(chr2$output!=\"LHA-LHb\" & chr2$output!=\"LHA-VTA\"),], aes(x=output, y=measure)) + geom_point() + geom_line(aes(group=mouse))\n",
        "p2 <- ggplot(chr2[(chr2$output!=\"LHA-LHb\" & chr2$output!=\"LHA-DRN\"),], aes(x=output, y=measure)) + geom_point() + geom_line(aes(group=mouse))\n",
        "p3 <- ggplot(chr2[(chr2$output!=\"LHA-VTA\" & chr2$output!=\"LHA-DRN\"),], aes(x=output, y=measure)) + geom_point() + geom_line(aes(group=mouse))\n",
        "p4 <- ggplot(eyfp[(eyfp$output!=\"LHA-LHb\" & eyfp$output!=\"LHA-VTA\"),], aes(x=output, y=measure)) + geom_point() + geom_line(aes(group=mouse))\n",
        "p5 <- ggplot(eyfp[(eyfp$output!=\"LHA-LHb\" & eyfp$output!=\"LHA-DRN\"),], aes(x=output, y=measure)) + geom_point() + geom_line(aes(group=mouse))\n",
        "p6 <- ggplot(eyfp[(eyfp$output!=\"LHA-VTA\" & eyfp$output!=\"LHA-DRN\"),], aes(x=output, y=measure)) + geom_point() + geom_line(aes(group=mouse))\n",
        "multiplot(p1,p4, p2,p5, p3,p6, cols=3)"
      ],
      "execution_count": null,
      "outputs": [
        {
          "output_type": "display_data",
          "data": {
            "image/png": "[encoded data removed]"
          },
          "metadata": {
            "tags": []
          }
        }
      ]
    },
    {
      "cell_type": "markdown",
      "metadata": {
        "id": "4sQcFOMO4aAl"
      },
      "source": [
        "Repeated measures ANOVA on ranks with Dunnet poshoc analysis"
      ]
    },
    {
      "cell_type": "code",
      "metadata": {
        "colab": {
          "base_uri": "https://localhost:8080/"
        },
        "id": "6KsxcJI3O76-",
        "outputId": "2082b19a-434e-4823-bb5e-3c17c1471261"
      },
      "source": [
        "%%R\n",
        "anova <- aov(rank(measure) ~ group*output, random=~1|mouse, data=df)\n",
        "summary(anova)"
      ],
      "execution_count": null,
      "outputs": [
        {
          "output_type": "stream",
          "text": [
            "             Df Sum Sq Mean Sq F value Pr(>F)\n",
            "group         1    160   159.5   1.042  0.314\n",
            "output        3    968   322.8   2.108  0.116\n",
            "group:output  3    454   151.4   0.989  0.409\n",
            "Residuals    36   5513   153.1               \n"
          ],
          "name": "stdout"
        }
      ]
    },
    {
      "cell_type": "code",
      "metadata": {
        "colab": {
          "base_uri": "https://localhost:8080/"
        },
        "id": "a87Sxlnq0qE3",
        "outputId": "085404ff-3e07-45da-fb49-bf25e01753ee"
      },
      "source": [
        "%%R\n",
        "print(\"--------------------- ChR2-eYFP --------------------\")\n",
        "model1 <- lme(rank(measure)~output, random=~1|mouse, data=df[df$group==\"ChR2\",], na.action=na.omit)\n",
        "print(summary(glht(model1, linfct=mcp(output=\"Dunnet\"), corr=\"bonferonni\")))\n",
        "\n",
        "print(\"----------------------- eYFP ----------------------\")\n",
        "model2 <- lme(rank(measure)~output, random=~1|mouse, data=df[df$group==\"eYFP\",], na.action=na.omit)\n",
        "print(summary(glht(model2, linfct=mcp(output=\"Dunnet\"), corr=\"bonferonni\")))"
      ],
      "execution_count": null,
      "outputs": [
        {
          "output_type": "stream",
          "text": [
            "[1] \"--------------------- ChR2-eYFP --------------------\"\n",
            "\n",
            "\t Simultaneous Tests for General Linear Hypotheses\n",
            "\n",
            "Multiple Comparisons of Means: Dunnett Contrasts\n",
            "\n",
            "\n",
            "Fit: lme.formula(fixed = rank(measure) ~ output, data = df[df$group == \n",
            "    \"ChR2\", ], random = ~1 | mouse, na.action = na.omit)\n",
            "\n",
            "Linear Hypotheses:\n",
            "                       Estimate Std. Error z value Pr(>|z|)    \n",
            "LHA-DRN - no-stim == 0   -3.200      2.864  -1.117    0.559    \n",
            "LHA-VTA - no-stim == 0   -5.857      2.615  -2.240    0.068 .  \n",
            "LHA-LHb - no-stim == 0  -14.500      3.066  -4.729   <0.001 ***\n",
            "---\n",
            "Signif. codes:  0 ‘***’ 0.001 ‘**’ 0.01 ‘*’ 0.05 ‘.’ 0.1 ‘ ’ 1\n",
            "(Adjusted p values reported -- single-step method)\n",
            "\n",
            "[1] \"----------------------- eYFP ----------------------\"\n",
            "\n",
            "\t Simultaneous Tests for General Linear Hypotheses\n",
            "\n",
            "Multiple Comparisons of Means: Dunnett Contrasts\n",
            "\n",
            "\n",
            "Fit: lme.formula(fixed = rank(measure) ~ output, data = df[df$group == \n",
            "    \"eYFP\", ], random = ~1 | mouse, na.action = na.omit)\n",
            "\n",
            "Linear Hypotheses:\n",
            "                       Estimate Std. Error z value Pr(>|z|)\n",
            "LHA-DRN - no-stim == 0   -4.400      3.701  -1.189    0.497\n",
            "LHA-VTA - no-stim == 0   -3.850      3.925  -0.981    0.642\n",
            "LHA-LHb - no-stim == 0   -2.400      3.701  -0.649    0.857\n",
            "(Adjusted p values reported -- single-step method)\n",
            "\n"
          ],
          "name": "stdout"
        }
      ]
    },
    {
      "cell_type": "markdown",
      "metadata": {
        "id": "xWaUlXBzM6mi"
      },
      "source": [
        "# SCT Interval between consumptions Fig7C"
      ]
    },
    {
      "cell_type": "code",
      "metadata": {
        "id": "9Hrfa90aM6mp"
      },
      "source": [
        "%%R\n",
        "df <- read_excel(\"fig7_LHopto_RTPP-SCT.xlsx\", sheet = \"SCTinterval\")\n",
        "df$group = as.factor(df$group)\n",
        "df$output = as.factor(df$output)\n",
        "df$measure = as.numeric(df$measure)"
      ],
      "execution_count": null,
      "outputs": []
    },
    {
      "cell_type": "code",
      "metadata": {
        "id": "OUrgrgrFQzoJ"
      },
      "source": [
        "%%R\n",
        "neworder <- c('no-stim','LHA-DRN','LHA-VTA','LHA-LHb')\n",
        "df <- arrange(transform(df, output=factor(output,levels=neworder)),output)\n",
        "df$output <- factor(df$output, labels = c('no-stim','LHA-DRN','LHA-VTA','LHA-LHb'))"
      ],
      "execution_count": null,
      "outputs": []
    },
    {
      "cell_type": "code",
      "metadata": {
        "id": "n1P1wAgixd7D"
      },
      "source": [
        "%%R\n",
        "chr2 <- df[df$group==\"ChR2\",]\n",
        "eyfp <- df[df$group==\"eYFP\",]"
      ],
      "execution_count": null,
      "outputs": []
    },
    {
      "cell_type": "code",
      "metadata": {
        "colab": {
          "base_uri": "https://localhost:8080/",
          "height": 497
        },
        "id": "W9hWY-nCxd7F",
        "outputId": "dc90c60a-61ee-472c-fc90-8bb4732d670d"
      },
      "source": [
        "%%R\n",
        "p1 <- ggplot(chr2[(chr2$output!=\"LHA-LHb\" & chr2$output!=\"LHA-VTA\"),], aes(x=output, y=measure)) + geom_point() + geom_line(aes(group=mouse))\n",
        "p2 <- ggplot(chr2[(chr2$output!=\"LHA-LHb\" & chr2$output!=\"LHA-DRN\"),], aes(x=output, y=measure)) + geom_point() + geom_line(aes(group=mouse))\n",
        "p3 <- ggplot(chr2[(chr2$output!=\"LHA-VTA\" & chr2$output!=\"LHA-DRN\"),], aes(x=output, y=measure)) + geom_point() + geom_line(aes(group=mouse))\n",
        "p4 <- ggplot(eyfp[(eyfp$output!=\"LHA-LHb\" & eyfp$output!=\"LHA-VTA\"),], aes(x=output, y=measure)) + geom_point() + geom_line(aes(group=mouse))\n",
        "p5 <- ggplot(eyfp[(eyfp$output!=\"LHA-LHb\" & eyfp$output!=\"LHA-DRN\"),], aes(x=output, y=measure)) + geom_point() + geom_line(aes(group=mouse))\n",
        "p6 <- ggplot(eyfp[(eyfp$output!=\"LHA-VTA\" & eyfp$output!=\"LHA-DRN\"),], aes(x=output, y=measure)) + geom_point() + geom_line(aes(group=mouse))\n",
        "multiplot(p1,p4, p2,p5, p3,p6, cols=3)"
      ],
      "execution_count": null,
      "outputs": [
        {
          "output_type": "display_data",
          "data": {
            "image/png": "[encoded data removed]"
          },
          "metadata": {
            "tags": []
          }
        }
      ]
    },
    {
      "cell_type": "markdown",
      "metadata": {
        "id": "SvSDbxCe4XHe"
      },
      "source": [
        "Repeated measures ANOVA on ranks with Dunnet poshoc analysis"
      ]
    },
    {
      "cell_type": "code",
      "metadata": {
        "colab": {
          "base_uri": "https://localhost:8080/"
        },
        "id": "BF2_1CC95ibe",
        "outputId": "a4e96171-8e4d-43e1-a3c8-e34812482845"
      },
      "source": [
        "%%R\n",
        "anova <- aov(rank(measure) ~ group*output, random=~1|mouse, data=df)\n",
        "summary(anova)"
      ],
      "execution_count": null,
      "outputs": [
        {
          "output_type": "stream",
          "text": [
            "             Df Sum Sq Mean Sq F value Pr(>F)  \n",
            "group         1    374   373.5   2.865 0.0992 .\n",
            "output        3   1180   393.2   3.016 0.0424 *\n",
            "group:output  3    849   283.0   2.171 0.1084  \n",
            "Residuals    36   4693   130.4                 \n",
            "---\n",
            "Signif. codes:  0 ‘***’ 0.001 ‘**’ 0.01 ‘*’ 0.05 ‘.’ 0.1 ‘ ’ 1\n"
          ],
          "name": "stdout"
        }
      ]
    },
    {
      "cell_type": "code",
      "metadata": {
        "colab": {
          "base_uri": "https://localhost:8080/"
        },
        "id": "aRcJtYKW0Yvj",
        "outputId": "9eccb6a5-e8a7-4878-fac8-8862d9018678"
      },
      "source": [
        "%%R\n",
        "print(\"--------------------- ChR2-eYFP --------------------\")\n",
        "model1 <- lme(rank(measure)~output, random=~1|mouse, data=df[df$group==\"ChR2\",], na.action=na.omit)\n",
        "print(summary(glht(model1, linfct=mcp(output=\"Dunnet\"), corr=\"bonferonni\")))\n",
        "\n",
        "print(\"----------------------- eYFP ----------------------\")\n",
        "model2 <- lme(rank(measure)~output, random=~1|mouse, data=df[df$group==\"eYFP\",], na.action=na.omit)\n",
        "print(summary(glht(model2, linfct=mcp(output=\"Dunnet\"), corr=\"bonferonni\")))"
      ],
      "execution_count": null,
      "outputs": [
        {
          "output_type": "stream",
          "text": [
            "[1] \"--------------------- ChR2-eYFP --------------------\"\n",
            "\n",
            "\t Simultaneous Tests for General Linear Hypotheses\n",
            "\n",
            "Multiple Comparisons of Means: Dunnett Contrasts\n",
            "\n",
            "\n",
            "Fit: lme.formula(fixed = rank(measure) ~ output, data = df[df$group == \n",
            "    \"ChR2\", ], random = ~1 | mouse, na.action = na.omit)\n",
            "\n",
            "Linear Hypotheses:\n",
            "                       Estimate Std. Error z value Pr(>|z|)    \n",
            "LHA-DRN - no-stim == 0  -7.1519     2.1384  -3.344  0.00248 ** \n",
            "LHA-VTA - no-stim == 0 -10.0000     1.8987  -5.267  < 0.001 ***\n",
            "LHA-LHb - no-stim == 0   0.3471     2.3161   0.150  0.99785    \n",
            "---\n",
            "Signif. codes:  0 ‘***’ 0.001 ‘**’ 0.01 ‘*’ 0.05 ‘.’ 0.1 ‘ ’ 1\n",
            "(Adjusted p values reported -- single-step method)\n",
            "\n",
            "[1] \"----------------------- eYFP ----------------------\"\n",
            "\n",
            "\t Simultaneous Tests for General Linear Hypotheses\n",
            "\n",
            "Multiple Comparisons of Means: Dunnett Contrasts\n",
            "\n",
            "\n",
            "Fit: lme.formula(fixed = rank(measure) ~ output, data = df[df$group == \n",
            "    \"eYFP\", ], random = ~1 | mouse, na.action = na.omit)\n",
            "\n",
            "Linear Hypotheses:\n",
            "                       Estimate Std. Error z value Pr(>|z|)\n",
            "LHA-DRN - no-stim == 0   -0.400      2.639  -0.152    0.998\n",
            "LHA-VTA - no-stim == 0   -1.774      2.839  -0.625    0.870\n",
            "LHA-LHb - no-stim == 0   -1.600      2.639  -0.606    0.880\n",
            "(Adjusted p values reported -- single-step method)\n",
            "\n"
          ],
          "name": "stdout"
        }
      ]
    },
    {
      "cell_type": "markdown",
      "metadata": {
        "id": "IzHKy0MtMk7T"
      },
      "source": [
        "# SCT Number of consumptions Fig7D"
      ]
    },
    {
      "cell_type": "code",
      "metadata": {
        "id": "0MRBjq98Mk7U"
      },
      "source": [
        "%%R\n",
        "df <- read_excel(\"fig7_LHopto_RTPP-SCT.xlsx\", sheet = \"SCTnumber\")\n",
        "df$group = as.factor(df$group)\n",
        "df$output = as.factor(df$output)\n",
        "df$auc = as.numeric(df$measure)"
      ],
      "execution_count": null,
      "outputs": []
    },
    {
      "cell_type": "code",
      "metadata": {
        "id": "8GrVAaukQ_L8"
      },
      "source": [
        "%%R\n",
        "neworder <- c('no-stim','LHA-DRN','LHA-VTA','LHA-LHb')\n",
        "df <- arrange(transform(df, output=factor(output,levels=neworder)),output)\n",
        "df$output <- factor(df$output, labels = c('no-stim','LHA-DRN','LHA-VTA','LHA-LHb'))"
      ],
      "execution_count": null,
      "outputs": []
    },
    {
      "cell_type": "code",
      "metadata": {
        "id": "A9vDOOeJxVOy"
      },
      "source": [
        "%%R\n",
        "chr2 <- df[df$group==\"ChR2\",]\n",
        "eyfp <- df[df$group==\"eYFP\",]"
      ],
      "execution_count": null,
      "outputs": []
    },
    {
      "cell_type": "code",
      "metadata": {
        "colab": {
          "base_uri": "https://localhost:8080/",
          "height": 497
        },
        "id": "hOUVyYCcxVOz",
        "outputId": "a76d6496-fb85-480c-fb34-f5320a2c01c1"
      },
      "source": [
        "%%R\n",
        "p1 <- ggplot(chr2[(chr2$output!=\"LHA-LHb\" & chr2$output!=\"LHA-VTA\"),], aes(x=output, y=measure)) + geom_point() + geom_line(aes(group=mouse))\n",
        "p2 <- ggplot(chr2[(chr2$output!=\"LHA-LHb\" & chr2$output!=\"LHA-DRN\"),], aes(x=output, y=measure)) + geom_point() + geom_line(aes(group=mouse))\n",
        "p3 <- ggplot(chr2[(chr2$output!=\"LHA-VTA\" & chr2$output!=\"LHA-DRN\"),], aes(x=output, y=measure)) + geom_point() + geom_line(aes(group=mouse))\n",
        "p4 <- ggplot(eyfp[(eyfp$output!=\"LHA-LHb\" & eyfp$output!=\"LHA-VTA\"),], aes(x=output, y=measure)) + geom_point() + geom_line(aes(group=mouse))\n",
        "p5 <- ggplot(eyfp[(eyfp$output!=\"LHA-LHb\" & eyfp$output!=\"LHA-DRN\"),], aes(x=output, y=measure)) + geom_point() + geom_line(aes(group=mouse))\n",
        "p6 <- ggplot(eyfp[(eyfp$output!=\"LHA-VTA\" & eyfp$output!=\"LHA-DRN\"),], aes(x=output, y=measure)) + geom_point() + geom_line(aes(group=mouse))\n",
        "multiplot(p1,p4, p2,p5, p3,p6, cols=3)"
      ],
      "execution_count": null,
      "outputs": [
        {
          "output_type": "display_data",
          "data": {
            "image/png": "[encoded data removed]"
          },
          "metadata": {
            "tags": []
          }
        }
      ]
    },
    {
      "cell_type": "markdown",
      "metadata": {
        "id": "Zx7SIwHb4Sbw"
      },
      "source": [
        "Repeated measures ANOVA on ranks with Dunnet poshoc analysis"
      ]
    },
    {
      "cell_type": "code",
      "metadata": {
        "colab": {
          "base_uri": "https://localhost:8080/"
        },
        "id": "3FWDiUiwBCeP",
        "outputId": "c36477ef-424f-42f1-8aaf-7bff2ecb31ad"
      },
      "source": [
        "%%R\n",
        "anova <- aov(rank(measure) ~ group*output, random=~1|mouse, data=df)\n",
        "summary(anova)"
      ],
      "execution_count": null,
      "outputs": [
        {
          "output_type": "stream",
          "text": [
            "             Df Sum Sq Mean Sq F value Pr(>F)   \n",
            "group         1  498.2   498.2   5.372 0.0266 * \n",
            "output        3 1279.9   426.6   4.600 0.0083 **\n",
            "group:output  3 1228.1   409.4   4.414 0.0100 * \n",
            "Residuals    34 3153.2    92.7                  \n",
            "---\n",
            "Signif. codes:  0 ‘***’ 0.001 ‘**’ 0.01 ‘*’ 0.05 ‘.’ 0.1 ‘ ’ 1\n"
          ],
          "name": "stdout"
        }
      ]
    },
    {
      "cell_type": "code",
      "metadata": {
        "colab": {
          "base_uri": "https://localhost:8080/"
        },
        "id": "k8mXo9DLRV_T",
        "outputId": "82259b63-0471-46c8-d2ad-6d319620c566"
      },
      "source": [
        "%%R\n",
        "print(\"--------------------- ChR2-eYFP --------------------\")\n",
        "model1 <- lme(rank(measure)~output, random=~1|mouse, data=df[df$group==\"ChR2\",], na.action=na.omit)\n",
        "print(summary(glht(model1, linfct=mcp(output=\"Dunnet\"), corr=\"bonferonni\")))\n",
        "\n",
        "print(\"----------------------- eYFP ----------------------\")\n",
        "model2 <- lme(rank(measure)~output, random=~1|mouse, data=df[df$group==\"eYFP\",], na.action=na.omit)\n",
        "print(summary(glht(model2, linfct=mcp(output=\"Dunnet\"), corr=\"bonferonni\")))"
      ],
      "execution_count": null,
      "outputs": [
        {
          "output_type": "stream",
          "text": [
            "[1] \"--------------------- ChR2-eYFP --------------------\"\n",
            "\n",
            "\t Simultaneous Tests for General Linear Hypotheses\n",
            "\n",
            "Multiple Comparisons of Means: Dunnett Contrasts\n",
            "\n",
            "\n",
            "Fit: lme.formula(fixed = rank(measure) ~ output, data = df[df$group == \n",
            "    \"ChR2\", ], random = ~1 | mouse, na.action = na.omit)\n",
            "\n",
            "Linear Hypotheses:\n",
            "                       Estimate Std. Error z value Pr(>|z|)    \n",
            "LHA-DRN - no-stim == 0    8.329      2.459   3.387  0.00202 ** \n",
            "LHA-VTA - no-stim == 0   12.357      2.234   5.532  < 1e-04 ***\n",
            "LHA-LHb - no-stim == 0    1.246      2.641   0.472  0.94102    \n",
            "---\n",
            "Signif. codes:  0 ‘***’ 0.001 ‘**’ 0.01 ‘*’ 0.05 ‘.’ 0.1 ‘ ’ 1\n",
            "(Adjusted p values reported -- single-step method)\n",
            "\n",
            "[1] \"----------------------- eYFP ----------------------\"\n",
            "\n",
            "\t Simultaneous Tests for General Linear Hypotheses\n",
            "\n",
            "Multiple Comparisons of Means: Dunnett Contrasts\n",
            "\n",
            "\n",
            "Fit: lme.formula(fixed = rank(measure) ~ output, data = df[df$group == \n",
            "    \"eYFP\", ], random = ~1 | mouse, na.action = na.omit)\n",
            "\n",
            "Linear Hypotheses:\n",
            "                       Estimate Std. Error z value Pr(>|z|)\n",
            "LHA-DRN - no-stim == 0    0.800      2.752   0.291    0.984\n",
            "LHA-VTA - no-stim == 0   -0.871      2.958  -0.294    0.983\n",
            "LHA-LHb - no-stim == 0    1.600      2.752   0.581    0.892\n",
            "(Adjusted p values reported -- single-step method)\n",
            "\n"
          ],
          "name": "stdout"
        }
      ]
    },
    {
      "cell_type": "markdown",
      "metadata": {
        "id": "6v6aZF5bSCKj"
      },
      "source": [
        "# SCT Total duration Fig7E\n"
      ]
    },
    {
      "cell_type": "code",
      "metadata": {
        "id": "yptCk3WJSCKo"
      },
      "source": [
        "%%R\n",
        "df <- read_excel(\"fig7_LHopto_RTPP-SCT.xlsx\", sheet = \"SCTtotalDuration\")\n",
        "df$group = as.factor(df$group)\n",
        "df$output = as.factor(df$output)\n",
        "df$measure = as.numeric(df$measure)"
      ],
      "execution_count": null,
      "outputs": []
    },
    {
      "cell_type": "code",
      "metadata": {
        "id": "65xl3NgsRA8F"
      },
      "source": [
        "%%R\n",
        "neworder <- c('no-stim','LHA-DRN','LHA-VTA','LHA-LHb')\n",
        "df <- arrange(transform(df, output=factor(output,levels=neworder)),output)\n",
        "df$output <- factor(df$output, labels = c('no-stim','LHA-DRN','LHA-VTA','LHA-LHb'))"
      ],
      "execution_count": null,
      "outputs": []
    },
    {
      "cell_type": "code",
      "metadata": {
        "id": "WVieooekl_cX"
      },
      "source": [
        "%%R\n",
        "chr2 <- df[df$group==\"ChR2\",]\n",
        "eyfp <- df[df$group==\"eYFP\",]"
      ],
      "execution_count": null,
      "outputs": []
    },
    {
      "cell_type": "code",
      "metadata": {
        "colab": {
          "base_uri": "https://localhost:8080/",
          "height": 497
        },
        "id": "J01o7nDAxNdt",
        "outputId": "b234308f-bfc6-4a09-9662-0b80267ebcc2"
      },
      "source": [
        "%%R\n",
        "p1 <- ggplot(chr2[(chr2$output!=\"LHA-LHb\" & chr2$output!=\"LHA-VTA\"),], aes(x=output, y=measure)) + geom_point() + geom_line(aes(group=mouse))\n",
        "p2 <- ggplot(chr2[(chr2$output!=\"LHA-LHb\" & chr2$output!=\"LHA-DRN\"),], aes(x=output, y=measure)) + geom_point() + geom_line(aes(group=mouse))\n",
        "p3 <- ggplot(chr2[(chr2$output!=\"LHA-VTA\" & chr2$output!=\"LHA-DRN\"),], aes(x=output, y=measure)) + geom_point() + geom_line(aes(group=mouse))\n",
        "p4 <- ggplot(eyfp[(eyfp$output!=\"LHA-LHb\" & eyfp$output!=\"LHA-VTA\"),], aes(x=output, y=measure)) + geom_point() + geom_line(aes(group=mouse))\n",
        "p5 <- ggplot(eyfp[(eyfp$output!=\"LHA-LHb\" & eyfp$output!=\"LHA-DRN\"),], aes(x=output, y=measure)) + geom_point() + geom_line(aes(group=mouse))\n",
        "p6 <- ggplot(eyfp[(eyfp$output!=\"LHA-VTA\" & eyfp$output!=\"LHA-DRN\"),], aes(x=output, y=measure)) + geom_point() + geom_line(aes(group=mouse))\n",
        "multiplot(p1,p4, p2,p5, p3,p6, cols=3)"
      ],
      "execution_count": null,
      "outputs": [
        {
          "output_type": "display_data",
          "data": {
            "image/png": "[encoded data removed]"
          },
          "metadata": {
            "tags": []
          }
        }
      ]
    },
    {
      "cell_type": "markdown",
      "metadata": {
        "id": "ERj6I-V3zdjI"
      },
      "source": [
        "Repeated measures ANOVA on ranks with Dunnet poshoc analysis"
      ]
    },
    {
      "cell_type": "code",
      "metadata": {
        "colab": {
          "base_uri": "https://localhost:8080/"
        },
        "id": "UBA_TnBpBel6",
        "outputId": "03903bd3-eaac-4f58-bf37-f797cd56dedc"
      },
      "source": [
        "%%R\n",
        "anova <- aov(rank(measure) ~ group*output, random=~1|mouse, data=df)\n",
        "summary(anova)"
      ],
      "execution_count": null,
      "outputs": [
        {
          "output_type": "stream",
          "text": [
            "             Df Sum Sq Mean Sq F value   Pr(>F)    \n",
            "group         1  135.2   135.2   1.532 0.224304    \n",
            "output        3  943.8   314.6   3.566 0.024053 *  \n",
            "group:output  3 2091.9   697.3   7.903 0.000393 ***\n",
            "Residuals    34 2999.7    88.2                     \n",
            "---\n",
            "Signif. codes:  0 ‘***’ 0.001 ‘**’ 0.01 ‘*’ 0.05 ‘.’ 0.1 ‘ ’ 1\n"
          ],
          "name": "stdout"
        }
      ]
    },
    {
      "cell_type": "code",
      "metadata": {
        "colab": {
          "base_uri": "https://localhost:8080/"
        },
        "id": "5RgRT5uqztc2",
        "outputId": "d2646d42-e4f7-4f8c-a647-ae927a1c8631"
      },
      "source": [
        "%%R\n",
        "print(\"--------------------- ChR2-eYFP --------------------\")\n",
        "model1 <- lme(rank(measure)~output, random=~1|mouse, data=df[df$group==\"ChR2\",], na.action=na.omit)\n",
        "print(summary(glht(model1, linfct=mcp(output=\"Dunnet\"), corr=\"bonferonni\")))\n",
        "\n",
        "print(\"----------------------- eYFP ----------------------\")\n",
        "model2 <- lme(rank(measure)~output, random=~1|mouse, data=df[df$group==\"eYFP\",], na.action=na.omit)\n",
        "print(summary(glht(model2, linfct=mcp(output=\"Dunnet\"), corr=\"bonferonni\")))"
      ],
      "execution_count": null,
      "outputs": [
        {
          "output_type": "stream",
          "text": [
            "[1] \"--------------------- ChR2-eYFP --------------------\"\n",
            "\n",
            "\t Simultaneous Tests for General Linear Hypotheses\n",
            "\n",
            "Multiple Comparisons of Means: Dunnett Contrasts\n",
            "\n",
            "\n",
            "Fit: lme.formula(fixed = rank(measure) ~ output, data = df[df$group == \n",
            "    \"ChR2\", ], random = ~1 | mouse, na.action = na.omit)\n",
            "\n",
            "Linear Hypotheses:\n",
            "                       Estimate Std. Error z value Pr(>|z|)   \n",
            "LHA-DRN - no-stim == 0    5.287      2.389   2.213  0.07272 . \n",
            "LHA-VTA - no-stim == 0    7.143      2.151   3.320  0.00265 **\n",
            "LHA-LHb - no-stim == 0   -7.571      2.576  -2.939  0.00941 **\n",
            "---\n",
            "Signif. codes:  0 ‘***’ 0.001 ‘**’ 0.01 ‘*’ 0.05 ‘.’ 0.1 ‘ ’ 1\n",
            "(Adjusted p values reported -- single-step method)\n",
            "\n",
            "[1] \"----------------------- eYFP ----------------------\"\n",
            "\n",
            "\t Simultaneous Tests for General Linear Hypotheses\n",
            "\n",
            "Multiple Comparisons of Means: Dunnett Contrasts\n",
            "\n",
            "\n",
            "Fit: lme.formula(fixed = rank(measure) ~ output, data = df[df$group == \n",
            "    \"eYFP\", ], random = ~1 | mouse, na.action = na.omit)\n",
            "\n",
            "Linear Hypotheses:\n",
            "                       Estimate Std. Error z value Pr(>|z|)\n",
            "LHA-DRN - no-stim == 0   -3.200      3.154  -1.015    0.619\n",
            "LHA-VTA - no-stim == 0   -3.415      3.378  -1.011    0.622\n",
            "LHA-LHb - no-stim == 0   -0.400      3.154  -0.127    0.999\n",
            "(Adjusted p values reported -- single-step method)\n",
            "\n"
          ],
          "name": "stdout"
        }
      ]
    },
    {
      "cell_type": "markdown",
      "metadata": {
        "id": "GwhxRWAl00Zr"
      },
      "source": [
        "# RTPP SuppFig1B"
      ]
    },
    {
      "cell_type": "code",
      "metadata": {
        "id": "0f1eNKmN2RK-"
      },
      "source": [
        "%%R\n",
        "df <- read_excel(\"fig7_LHopto_RTPP-SCT.xlsx\", sheet=\"RTPP\")\n",
        "df$group = as.factor(df$group)\n",
        "df$output = as.factor(df$output)\n",
        "df$score = as.numeric(df$score)"
      ],
      "execution_count": null,
      "outputs": []
    },
    {
      "cell_type": "code",
      "metadata": {
        "colab": {
          "base_uri": "https://localhost:8080/",
          "height": 497
        },
        "id": "26zn31o8GJpA",
        "outputId": "94f295f6-6b72-4af7-fdea-c5ede72a6e09"
      },
      "source": [
        "%%R\n",
        "p1 <- ggplot(df[(df$output==\"LHA-DRN\"),], aes(x=group, y=score)) + geom_point() + ylim(-1,1)\n",
        "p2 <- ggplot(df[(df$output==\"LHA-VTA\"),], aes(x=group, y=score)) + geom_point() + ylim(-1,1)\n",
        "p3 <- ggplot(df[(df$output==\"LHA-LHb\"),], aes(x=group, y=score)) + geom_point() + ylim(-1,1)\n",
        "multiplot(p1,p2,p3, cols=3)"
      ],
      "execution_count": null,
      "outputs": [
        {
          "output_type": "display_data",
          "data": {
            "image/png": "[encoded data removed]"
          },
          "metadata": {
            "tags": []
          }
        }
      ]
    },
    {
      "cell_type": "markdown",
      "metadata": {
        "id": "zmfTUC2kI08w"
      },
      "source": [
        "Compare to 0"
      ]
    },
    {
      "cell_type": "code",
      "metadata": {
        "colab": {
          "base_uri": "https://localhost:8080/"
        },
        "id": "us_uPM4ED9h-",
        "outputId": "d6f14e64-235e-467f-b12c-046624acea49"
      },
      "source": [
        "%%R\n",
        "print(c(\"ChR2 LHA-DRN\", t.test(df[(df$group==\"ChR2\" & df$output==\"LHA-DRN\"),]$score, mu=0)$p.value))\n",
        "print(c(\"ChR2 LHA-VTA\", t.test(df[(df$group==\"ChR2\" & df$output==\"LHA-VTA\"),]$score, mu=0)$p.value))\n",
        "print(c(\"ChR2 LHA-LHb\", t.test(df[(df$group==\"ChR2\" & df$output==\"LHA-LHb\"),]$score, mu=0)$p.value))\n",
        "print(\"\")\n",
        "print(c(\"eYFP LHA-DRN\", t.test(df[(df$group==\"eYFP\" & df$output==\"LHA-DRN\"),]$score, mu=0)$p.value))\n",
        "print(c(\"eYFP LHA-DRN\", t.test(df[(df$group==\"eYFP\" & df$output==\"LHA-VTA\"),]$score, mu=0)$p.value))\n",
        "print(c(\"eYFP LHA-DRN\", t.test(df[(df$group==\"eYFP\" & df$output==\"LHA-LHb\"),]$score, mu=0)$p.value))"
      ],
      "execution_count": null,
      "outputs": [
        {
          "output_type": "stream",
          "text": [
            "[1] \"ChR2 LHA-DRN\"      \"0.858745114089463\"\n",
            "[1] \"ChR2 LHA-VTA\"      \"0.302239235635755\"\n",
            "[1] \"ChR2 LHA-LHb\"         \"1.18885255670219e-05\"\n",
            "[1] \"\"\n",
            "[1] \"eYFP LHA-DRN\"      \"0.351501296090827\"\n",
            "[1] \"eYFP LHA-DRN\"      \"0.236275519472289\"\n",
            "[1] \"eYFP LHA-DRN\"      \"0.119614071952133\"\n"
          ],
          "name": "stdout"
        }
      ]
    },
    {
      "cell_type": "code",
      "metadata": {
        "id": "mIWVUlK5HTXc",
        "colab": {
          "base_uri": "https://localhost:8080/"
        },
        "outputId": "ac0c9156-af4c-48cb-8a24-9e4acb7ee625"
      },
      "source": [
        "%%R\n",
        "fit <- aov(rank(score) ~ group*output, random=~1|mouse, data = df)\n",
        "print(summary(fit))\n",
        "print(TukeyHSD(fit))"
      ],
      "execution_count": null,
      "outputs": [
        {
          "output_type": "stream",
          "text": [
            "             Df Sum Sq Mean Sq F value  Pr(>F)   \n",
            "group         1  156.4   156.4   1.951 0.17185   \n",
            "output        2 1213.4   606.7   7.565 0.00198 **\n",
            "group:output  2  923.5   461.8   5.758 0.00716 **\n",
            "Residuals    33 2646.6    80.2                   \n",
            "---\n",
            "Signif. codes:  0 ‘***’ 0.001 ‘**’ 0.01 ‘*’ 0.05 ‘.’ 0.1 ‘ ’ 1\n",
            "  Tukey multiple comparisons of means\n",
            "    95% family-wise confidence level\n",
            "\n",
            "Fit: aov(formula = rank(score) ~ group * output, data = df, random = ~1 | mouse)\n",
            "\n",
            "$group\n",
            "              diff       lwr      upr     p adj\n",
            "eYFP-ChR2 4.116667 -1.880292 10.11362 0.1718535\n",
            "\n",
            "$output\n",
            "                      diff        lwr       upr     p adj\n",
            "LHA-LHb-LHA-DRN -13.362714 -22.159720 -4.565707 0.0020400\n",
            "LHA-VTA-LHA-DRN  -3.117674 -11.581630  5.346282 0.6417266\n",
            "LHA-VTA-LHA-LHb  10.245040   1.600154 18.889925 0.0172957\n",
            "\n",
            "$`group:output`\n",
            "                                   diff        lwr       upr     p adj\n",
            "eYFP:LHA-DRN-ChR2:LHA-DRN -3.300000e+00 -18.736366 12.136366 0.9864232\n",
            "ChR2:LHA-LHb-ChR2:LHA-DRN -2.250000e+01 -36.513771 -8.486229 0.0003787\n",
            "eYFP:LHA-LHb-ChR2:LHA-DRN -3.300000e+00 -18.736366 12.136366 0.9864232\n",
            "ChR2:LHA-VTA-ChR2:LHA-DRN -4.055556e+00 -17.212699  9.101588 0.9352628\n",
            "eYFP:LHA-VTA-ChR2:LHA-DRN -5.300000e+00 -20.736366 10.136366 0.9015004\n",
            "ChR2:LHA-LHb-eYFP:LHA-DRN -1.920000e+01 -35.054772 -3.345228 0.0103179\n",
            "eYFP:LHA-LHb-eYFP:LHA-DRN -1.776357e-14 -17.125111 17.125111 1.0000000\n",
            "ChR2:LHA-VTA-eYFP:LHA-DRN -7.555556e-01 -15.858484 14.347373 0.9999878\n",
            "eYFP:LHA-VTA-eYFP:LHA-DRN -2.000000e+00 -19.125111 15.125111 0.9992078\n",
            "eYFP:LHA-LHb-ChR2:LHA-LHb  1.920000e+01   3.345228 35.054772 0.0103179\n",
            "ChR2:LHA-VTA-ChR2:LHA-LHb  1.844444e+01   4.798829 32.090059 0.0032980\n",
            "eYFP:LHA-VTA-ChR2:LHA-LHb  1.720000e+01   1.345228 33.054772 0.0271301\n",
            "ChR2:LHA-VTA-eYFP:LHA-LHb -7.555556e-01 -15.858484 14.347373 0.9999878\n",
            "eYFP:LHA-VTA-eYFP:LHA-LHb -2.000000e+00 -19.125111 15.125111 0.9992078\n",
            "eYFP:LHA-VTA-ChR2:LHA-VTA -1.244444e+00 -16.347373 13.858484 0.9998559\n",
            "\n"
          ],
          "name": "stdout"
        }
      ]
    },
    {
      "cell_type": "markdown",
      "metadata": {
        "id": "y-Rp6P9Ow9nZ"
      },
      "source": [
        "# Functions"
      ]
    },
    {
      "cell_type": "code",
      "metadata": {
        "id": "efhtms8akfyR"
      },
      "source": [
        "%%R\n",
        "# Multiple plot function\n",
        "#\n",
        "# ggplot objects can be passed in ..., or to plotlist (as a list of ggplot objects)\n",
        "# - cols:   Number of columns in layout\n",
        "# - layout: A matrix specifying the layout. If present, 'cols' is ignored.\n",
        "#\n",
        "# If the layout is something like matrix(c(1,2,3,3), nrow=2, byrow=TRUE),\n",
        "# then plot 1 will go in the upper left, 2 will go in the upper right, and\n",
        "# 3 will go all the way across the bottom.\n",
        "#\n",
        "multiplot <- function(..., plotlist=NULL, file, cols=1, layout=NULL) {\n",
        "  require(grid)\n",
        "\n",
        "  # Make a list from the ... arguments and plotlist\n",
        "  plots <- c(list(...), plotlist)\n",
        "\n",
        "  numPlots = length(plots)\n",
        "\n",
        "  # If layout is NULL, then use 'cols' to determine layout\n",
        "  if (is.null(layout)) {\n",
        "    # Make the panel\n",
        "    # ncol: Number of columns of plots\n",
        "    # nrow: Number of rows needed, calculated from # of cols\n",
        "    layout <- matrix(seq(1, cols * ceiling(numPlots/cols)),\n",
        "                    ncol = cols, nrow = ceiling(numPlots/cols))\n",
        "  }\n",
        "\n",
        " if (numPlots==1) {\n",
        "    print(plots[[1]])\n",
        "\n",
        "  } else {\n",
        "    # Set up the page\n",
        "    grid.newpage()\n",
        "    pushViewport(viewport(layout = grid.layout(nrow(layout), ncol(layout))))\n",
        "\n",
        "    # Make each plot, in the correct location\n",
        "    for (i in 1:numPlots) {\n",
        "      # Get the i,j matrix positions of the regions that contain this subplot\n",
        "      matchidx <- as.data.frame(which(layout == i, arr.ind = TRUE))\n",
        "\n",
        "      print(plots[[i]], vp = viewport(layout.pos.row = matchidx$row,\n",
        "                                      layout.pos.col = matchidx$col))\n",
        "    }\n",
        "  }\n",
        "}"
      ],
      "execution_count": null,
      "outputs": []
    }
  ]
}
