{
  "nbformat": 4,
  "nbformat_minor": 0,
  "metadata": {
    "colab": {
      "name": "Fig1_stats.ipynb",
      "provenance": [],
      "include_colab_link": true
    },
    "kernelspec": {
      "display_name": "Python 3",
      "name": "python3"
    }
  },
  "cells": [
    {
      "cell_type": "markdown",
      "metadata": {
        "id": "view-in-github",
        "colab_type": "text"
      },
      "source": [
        "<a href=\"https://colab.research.google.com/github/katemartian/LHoutputsManuscript/blob/master/Fig1_stats.ipynb\" target=\"_parent\"><img src=\"https://colab.research.google.com/assets/colab-badge.svg\" alt=\"Open In Colab\"/></a>"
      ]
    },
    {
      "cell_type": "markdown",
      "metadata": {
        "id": "XuW8U0XcOgfr"
      },
      "source": [
        "<h1><center>Fig1 stats"
      ]
    },
    {
      "cell_type": "markdown",
      "metadata": {
        "id": "fRGxoji5wWut"
      },
      "source": [
        "This notebook contains statistical analysis of the data from the figure 1 and its supplemental figures."
      ]
    },
    {
      "cell_type": "markdown",
      "metadata": {
        "id": "I63KVyEQRiML"
      },
      "source": [
        "# Install libraries"
      ]
    },
    {
      "cell_type": "markdown",
      "metadata": {
        "id": "lPikJj4Fy7Co"
      },
      "source": [
        "Install necessary libraries to run statistical tests in R."
      ]
    },
    {
      "cell_type": "code",
      "metadata": {
        "id": "1mU2Ub43Rlnp"
      },
      "source": [
        "# Use R in Jupyter Notebook\n",
        "%load_ext rpy2.ipython"
      ],
      "execution_count": null,
      "outputs": []
    },
    {
      "cell_type": "code",
      "metadata": {
        "id": "_cOKZocy8Ew4"
      },
      "source": [
        "%%R\n",
        "install.packages(\"readxl\")\n",
        "install.packages(\"dplyr\")\n",
        "\n",
        "install.packages(\"ggplot2\")\n",
        "\n",
        "install.packages(\"nlme\")\n",
        "install.packages(\"multcomp\")"
      ],
      "execution_count": null,
      "outputs": []
    },
    {
      "cell_type": "code",
      "metadata": {
        "id": "K8dT63N3WwtF"
      },
      "source": [
        "%%R\n",
        "library(\"readxl\")\n",
        "library(\"dplyr\")\n",
        "\n",
        "library(\"ggplot2\")\n",
        "\n",
        "library(\"nlme\")\n",
        "library(\"multcomp\")"
      ],
      "execution_count": null,
      "outputs": []
    },
    {
      "cell_type": "markdown",
      "metadata": {
        "id": "N74NdD1aqeZt"
      },
      "source": [
        "And run function at the end of the notebook."
      ]
    },
    {
      "cell_type": "markdown",
      "metadata": {
        "id": "Ui4Xz0SEvTlI"
      },
      "source": [
        "# Directory"
      ]
    },
    {
      "cell_type": "markdown",
      "metadata": {
        "id": "5E_TgpseylYc"
      },
      "source": [
        "Set directory with the source data. Mount disk if you use Google Colab."
      ]
    },
    {
      "cell_type": "code",
      "metadata": {
        "colab": {
          "base_uri": "https://localhost:8080/"
        },
        "id": "5Lej-JJWr_zy",
        "outputId": "ecb4c621-52a7-4eaa-fca1-1535664bb5cc"
      },
      "source": [
        "# Mount disk if you use Google Colab\n",
        "from google.colab import drive\n",
        "drive.mount('/content/drive')"
      ],
      "execution_count": null,
      "outputs": [
        {
          "output_type": "stream",
          "text": [
            "Mounted at /content/drive\n"
          ],
          "name": "stdout"
        }
      ]
    },
    {
      "cell_type": "code",
      "metadata": {
        "colab": {
          "base_uri": "https://localhost:8080/"
        },
        "id": "hwlO8GyDCW8F",
        "outputId": "cf916657-2c12-496b-b436-4e8f1f8db719"
      },
      "source": [
        "# Change directory\n",
        "%cd /content/drive/MyDrive/!lab/Manuscripts/LHoutputs/sourcedata"
      ],
      "execution_count": null,
      "outputs": [
        {
          "output_type": "stream",
          "text": [
            "/content/drive/MyDrive/!lab/Manuscripts/LHoutputs/sourcedata\n"
          ],
          "name": "stdout"
        }
      ]
    },
    {
      "cell_type": "markdown",
      "metadata": {
        "id": "0laQVZXESU9G"
      },
      "source": [
        "# APT Fig1F & SuppFig1C\n"
      ]
    },
    {
      "cell_type": "code",
      "metadata": {
        "id": "DhLi1NcXRt2W"
      },
      "source": [
        "%%R\n",
        "gcamp <- read_excel(\"fig1_LH_apt-sct-oft-tst.xlsx\", sheet = \"APT\")\n",
        "gcamp$output = as.factor(gcamp$output)\n",
        "gcamp$period = as.factor(gcamp$period)\n",
        "gcamp$auc = as.numeric(gcamp$auc)"
      ],
      "execution_count": null,
      "outputs": []
    },
    {
      "cell_type": "code",
      "metadata": {
        "id": "f_iEUf2BQkjy"
      },
      "source": [
        "%%R\n",
        "neworder <- c('baseline','airpuff')\n",
        "gcamp <- arrange(transform(gcamp, period=factor(period,levels=neworder)),period)\n",
        "gcamp$period <- factor(gcamp$period, labels=c('baseline','airpuff'))"
      ],
      "execution_count": null,
      "outputs": []
    },
    {
      "cell_type": "code",
      "metadata": {
        "id": "vbrs0uYp7dYp"
      },
      "source": [
        "%%R\n",
        "eyfp <- read_excel(\"fig1-supp1_LH-eYFP.xlsx\", sheet = \"APT\")\n",
        "eyfp$output = as.factor(eyfp$output)\n",
        "eyfp$period = as.factor(eyfp$period)\n",
        "eyfp$auc = as.numeric(eyfp$auc)"
      ],
      "execution_count": null,
      "outputs": []
    },
    {
      "cell_type": "code",
      "metadata": {
        "id": "4El0j-sb83tM"
      },
      "source": [
        "%%R\n",
        "neworder <- c('baseline','airpuff')\n",
        "eyfp <- arrange(transform(eyfp, period=factor(period,levels=neworder)),period)\n",
        "eyfp$period <- factor(eyfp$period, labels=c('baseline','airpuff'))"
      ],
      "execution_count": null,
      "outputs": []
    },
    {
      "cell_type": "code",
      "metadata": {
        "colab": {
          "base_uri": "https://localhost:8080/",
          "height": 497
        },
        "id": "Fcz7dl5Jxg_W",
        "outputId": "2bed05bc-993d-4e08-dbc1-9fb33ef52517"
      },
      "source": [
        "%%R\n",
        "p1 <- ggplot(gcamp[(gcamp$output==\"LHA-DRN\"),], aes(x=period, y=auc)) + geom_point() + geom_line(aes(group=mouse)) + ylim(-1.5,5)\n",
        "p2 <- ggplot(eyfp[(eyfp$output==\"LHA-DRN\"),], aes(x=period, y=auc)) + geom_point() + geom_line(aes(group=mouse)) + ylim(-1.5,5)\n",
        "p3 <- ggplot(gcamp[(gcamp$output==\"LHA-VTA\"),], aes(x=period, y=auc)) + geom_point() + geom_line(aes(group=mouse)) + ylim(-1.5,5)\n",
        "p4 <- ggplot(eyfp[(eyfp$output==\"LHA-VTA\"),], aes(x=period, y=auc)) + geom_point() + geom_line(aes(group=mouse)) + ylim(-1.5,5)\n",
        "p5 <- ggplot(gcamp[(gcamp$output==\"LHA-LHb\"),], aes(x=period, y=auc)) + geom_point() + geom_line(aes(group=mouse)) + ylim(.5-1,5)\n",
        "p6 <- ggplot(eyfp[(eyfp$output==\"LHA-LHb\"),], aes(x=period, y=auc)) + geom_point() + geom_line(aes(group=mouse)) + ylim(-1.5,5)\n",
        "multiplot(p1,p2,p3,p4,p5,p6, cols=3)"
      ],
      "execution_count": null,
      "outputs": [
        {
          "output_type": "display_data",
          "data": {
            "image/png": "[encoded data removed]"
          },
          "metadata": {
            "tags": []
          }
        }
      ]
    },
    {
      "cell_type": "markdown",
      "metadata": {
        "id": "YRfjpjxQBbqH"
      },
      "source": [
        "Normality test"
      ]
    },
    {
      "cell_type": "code",
      "metadata": {
        "colab": {
          "base_uri": "https://localhost:8080/"
        },
        "id": "TKnnKN5kBbqR",
        "outputId": "56b823cc-6e6c-4525-bfa0-9a568eafb361"
      },
      "source": [
        "%%R\n",
        "print(\"---------------- GCaMP ---------------\")\n",
        "print(c(\"LHA-DRN baseline\", shapiro.test(gcamp[(gcamp$output==\"LHA-DRN\" & gcamp$period==\"baseline\"), ]$auc)$p.value))\n",
        "print(c(\"LHA-DRN airpuff\", shapiro.test(gcamp[(gcamp$output==\"LHA-DRN\" & gcamp$period==\"airpuff\"),]$auc)$p.value))\n",
        "\n",
        "print(c(\"LHA-VTA baseline\", shapiro.test(gcamp[(gcamp$output==\"LHA-VTA\" & gcamp$period==\"baseline\"),]$auc)$p.value))\n",
        "print(c(\"LHA-VTA airpuff\", shapiro.test(gcamp[(gcamp$output==\"LHA-VTA\" & gcamp$period==\"airpuff\"),]$auc)$p.value))\n",
        "\n",
        "print(c(\"LHA-LHb baseline\", shapiro.test(gcamp[(gcamp$output==\"LHA-LHb\" & gcamp$period==\"baseline\"),]$auc)$p.value))\n",
        "print(c(\"LHA-LHb airpuff\", shapiro.test(gcamp[(gcamp$output==\"LHA-LHb\" & gcamp$period==\"airpuff\"),]$auc)$p.value))\n",
        "\n",
        "print(\"---------------- eYFP ----------------\")\n",
        "print(c(\"baseline\", shapiro.test(eyfp[eyfp$period==\"baseline\",]$auc)$p.value))\n",
        "print(c(\"airpuff\", shapiro.test(eyfp[eyfp$period==\"airpuff\",]$auc)$p.value))"
      ],
      "execution_count": null,
      "outputs": [
        {
          "output_type": "stream",
          "text": [
            "[1] \"---------------- GCaMP ---------------\"\n",
            "[1] \"LHA-DRN baseline\"  \"0.853219235949639\"\n",
            "[1] \"LHA-DRN airpuff\"  \"0.46799416091219\"\n",
            "[1] \"LHA-VTA baseline\"  \"0.323828303475983\"\n",
            "[1] \"LHA-VTA airpuff\"   \"0.217280971093933\"\n",
            "[1] \"LHA-LHb baseline\"  \"0.329025094480721\"\n",
            "[1] \"LHA-LHb airpuff\"  \"0.63766521964144\"\n",
            "[1] \"---------------- eYFP ----------------\"\n",
            "[1] \"baseline\"          \"0.124623705196389\"\n",
            "[1] \"airpuff\"           \"0.379391521626777\"\n"
          ],
          "name": "stdout"
        }
      ]
    },
    {
      "cell_type": "markdown",
      "metadata": {
        "id": "UZXbsqL2B5t8"
      },
      "source": [
        "$p > 0.5$"
      ]
    },
    {
      "cell_type": "markdown",
      "metadata": {
        "id": "6fjC2X04k69w"
      },
      "source": [
        "Repeated measures ANOVA with Dunnett poshoc analysis"
      ]
    },
    {
      "cell_type": "code",
      "metadata": {
        "colab": {
          "base_uri": "https://localhost:8080/"
        },
        "id": "KsHaBleW9uZ3",
        "outputId": "a5b111da-6ccb-4c1e-c080-1441a07613d3"
      },
      "source": [
        "%%R\n",
        "gcamp[\"group\"] = \"GCaMP\"\n",
        "eyfp[\"group\"] = \"eYFP\"\n",
        "df <- rbind(gcamp,eyfp)\n",
        "anova <- aov(auc ~ group*output*period, random=~1|mouse, data=df)\n",
        "summary(anova)"
      ],
      "execution_count": null,
      "outputs": [
        {
          "output_type": "stream",
          "text": [
            "                    Df Sum Sq Mean Sq F value   Pr(>F)    \n",
            "group                1  18.28   18.28  75.719 1.48e-12 ***\n",
            "output               2   5.99    3.00  12.415 2.65e-05 ***\n",
            "period               1  64.57   64.57 267.519  < 2e-16 ***\n",
            "group:output         2   0.42    0.21   0.860    0.428    \n",
            "group:period         1  18.14   18.14  75.134 1.69e-12 ***\n",
            "output:period        2   5.75    2.88  11.913 3.83e-05 ***\n",
            "group:output:period  2   0.39    0.20   0.811    0.449    \n",
            "Residuals           66  15.93    0.24                     \n",
            "---\n",
            "Signif. codes:  0 ‘***’ 0.001 ‘**’ 0.01 ‘*’ 0.05 ‘.’ 0.1 ‘ ’ 1\n"
          ],
          "name": "stdout"
        }
      ]
    },
    {
      "cell_type": "code",
      "metadata": {
        "colab": {
          "base_uri": "https://localhost:8080/"
        },
        "id": "IUWpsgO6Dzel",
        "outputId": "a81f4047-0ff7-4685-ef80-f3877e767806"
      },
      "source": [
        "# GCaMP\n",
        "%%R\n",
        "print('----------------------LHA-DRN----------------------')\n",
        "drn = gcamp[gcamp$output=='LHA-DRN',]\n",
        "lme.model <- lme(auc ~ period, random=~1|mouse, data=drn)\n",
        "print(summary(glht(lme.model, linfct=mcp(period=\"Dunnet\"))))\n",
        "\n",
        "print('----------------------LHA-VTA----------------------')\n",
        "vta = gcamp[gcamp$output=='LHA-VTA',]\n",
        "lme.model <- lme(auc ~ period, random=~1|mouse, data=vta)\n",
        "print(summary(glht(lme.model, linfct=mcp(period=\"Dunnet\"))))\n",
        "\n",
        "print('----------------------LHA-LHb----------------------')\n",
        "lhb = gcamp[gcamp$output=='LHA-LHb',]\n",
        "lme.model <- lme(auc ~ period, random=~1|mouse, data = lhb)\n",
        "print(summary(glht(lme.model, linfct=mcp(period=\"Dunnet\"))))"
      ],
      "execution_count": null,
      "outputs": [
        {
          "output_type": "stream",
          "text": [
            "[1] \"----------------------LHA-DRN----------------------\"\n",
            "\n",
            "\t Simultaneous Tests for General Linear Hypotheses\n",
            "\n",
            "Multiple Comparisons of Means: Dunnett Contrasts\n",
            "\n",
            "\n",
            "Fit: lme.formula(fixed = auc ~ period, data = drn, random = ~1 | mouse)\n",
            "\n",
            "Linear Hypotheses:\n",
            "                        Estimate Std. Error z value Pr(>|z|)    \n",
            "airpuff - baseline == 0   1.8427     0.1348   13.66   <2e-16 ***\n",
            "---\n",
            "Signif. codes:  0 ‘***’ 0.001 ‘**’ 0.01 ‘*’ 0.05 ‘.’ 0.1 ‘ ’ 1\n",
            "(Adjusted p values reported -- single-step method)\n",
            "\n",
            "[1] \"----------------------LHA-VTA----------------------\"\n",
            "\n",
            "\t Simultaneous Tests for General Linear Hypotheses\n",
            "\n",
            "Multiple Comparisons of Means: Dunnett Contrasts\n",
            "\n",
            "\n",
            "Fit: lme.formula(fixed = auc ~ period, data = vta, random = ~1 | mouse)\n",
            "\n",
            "Linear Hypotheses:\n",
            "                        Estimate Std. Error z value Pr(>|z|)    \n",
            "airpuff - baseline == 0   1.8329     0.2331   7.865 3.77e-15 ***\n",
            "---\n",
            "Signif. codes:  0 ‘***’ 0.001 ‘**’ 0.01 ‘*’ 0.05 ‘.’ 0.1 ‘ ’ 1\n",
            "(Adjusted p values reported -- single-step method)\n",
            "\n",
            "[1] \"----------------------LHA-LHb----------------------\"\n",
            "\n",
            "\t Simultaneous Tests for General Linear Hypotheses\n",
            "\n",
            "Multiple Comparisons of Means: Dunnett Contrasts\n",
            "\n",
            "\n",
            "Fit: lme.formula(fixed = auc ~ period, data = lhb, random = ~1 | mouse)\n",
            "\n",
            "Linear Hypotheses:\n",
            "                        Estimate Std. Error z value Pr(>|z|)    \n",
            "airpuff - baseline == 0   3.1346     0.2732   11.47   <2e-16 ***\n",
            "---\n",
            "Signif. codes:  0 ‘***’ 0.001 ‘**’ 0.01 ‘*’ 0.05 ‘.’ 0.1 ‘ ’ 1\n",
            "(Adjusted p values reported -- single-step method)\n",
            "\n"
          ],
          "name": "stdout"
        }
      ]
    },
    {
      "cell_type": "code",
      "metadata": {
        "colab": {
          "base_uri": "https://localhost:8080/"
        },
        "id": "beg-InbO3P4c",
        "outputId": "ffa8cefb-80b3-4cb0-833b-eaffa8262508"
      },
      "source": [
        "#eYFP\n",
        "%%R\n",
        "lme.model <- lme(auc ~ period, random=~1|mouse, data=eyfp)\n",
        "print(summary(glht(lme.model, linfct=mcp(period=\"Dunnet\"))))"
      ],
      "execution_count": null,
      "outputs": [
        {
          "output_type": "stream",
          "text": [
            "\n",
            "\t Simultaneous Tests for General Linear Hypotheses\n",
            "\n",
            "Multiple Comparisons of Means: Dunnett Contrasts\n",
            "\n",
            "\n",
            "Fit: lme.formula(fixed = auc ~ period, data = eyfp, random = ~1 | \n",
            "    mouse)\n",
            "\n",
            "Linear Hypotheses:\n",
            "                        Estimate Std. Error z value Pr(>|z|)  \n",
            "airpuff - baseline == 0  -0.4419     0.2077  -2.128   0.0333 *\n",
            "---\n",
            "Signif. codes:  0 ‘***’ 0.001 ‘**’ 0.01 ‘*’ 0.05 ‘.’ 0.1 ‘ ’ 1\n",
            "(Adjusted p values reported -- single-step method)\n",
            "\n"
          ],
          "name": "stdout"
        }
      ]
    },
    {
      "cell_type": "markdown",
      "metadata": {
        "id": "B-YoHPKqSYSS"
      },
      "source": [
        "# SCT Fig1I - SuppFig1F"
      ]
    },
    {
      "cell_type": "code",
      "metadata": {
        "id": "7f6JmRMF6trP"
      },
      "source": [
        "%%R\n",
        "gcamp <- read_excel(\"fig1_LH_apt-sct-oft-tst.xlsx\", sheet = \"SCT\")\n",
        "gcamp$output = as.factor(gcamp$output)\n",
        "gcamp$period = as.factor(gcamp$period)\n",
        "gcamp$auc = as.numeric(gcamp$auc)"
      ],
      "execution_count": null,
      "outputs": []
    },
    {
      "cell_type": "code",
      "metadata": {
        "id": "TwT4db816trQ"
      },
      "source": [
        "%%R\n",
        "neworder <- c('baseline','onset','drinking')\n",
        "gcamp <- arrange(transform(gcamp, period=factor(period,levels=neworder)),period)\n",
        "gcamp$period <- factor(gcamp$period, labels=c('baseline','onset','drinking'))"
      ],
      "execution_count": null,
      "outputs": []
    },
    {
      "cell_type": "code",
      "metadata": {
        "id": "OtJPb42L6trQ"
      },
      "source": [
        "%%R\n",
        "eyfp <- read_excel(\"fig1-supp1_LH-eYFP.xlsx\", sheet = \"SCT\")\n",
        "eyfp$output = as.factor(eyfp$output)\n",
        "eyfp$period = as.factor(eyfp$period)\n",
        "eyfp$auc = as.numeric(eyfp$auc)"
      ],
      "execution_count": null,
      "outputs": []
    },
    {
      "cell_type": "code",
      "metadata": {
        "id": "0lgizNl66trR"
      },
      "source": [
        "%%R\n",
        "neworder <- c('baseline','onset','drinking')\n",
        "eyfp <- arrange(transform(eyfp, period=factor(period,levels=neworder)),period)\n",
        "eyfp$period <- factor(eyfp$period, labels=c('baseline','onset','drinking'))"
      ],
      "execution_count": null,
      "outputs": []
    },
    {
      "cell_type": "code",
      "metadata": {
        "colab": {
          "base_uri": "https://localhost:8080/",
          "height": 497
        },
        "id": "7gslEi5f6trR",
        "outputId": "8e542c47-947f-4bcf-c979-a0c3ff89686d"
      },
      "source": [
        "%%R\n",
        "p1 <- ggplot(gcamp[(gcamp$output==\"LHA-DRN\"),], aes(x=period, y=auc)) + geom_point() + geom_line(aes(group=mouse)) + ylim(-2.5,2.5)\n",
        "p2 <- ggplot(eyfp[(eyfp$output==\"LHA-DRN\"),], aes(x=period, y=auc)) + geom_point() + geom_line(aes(group=mouse)) + ylim(-2.5,2.5)\n",
        "p3 <- ggplot(gcamp[(gcamp$output==\"LHA-VTA\"),], aes(x=period, y=auc)) + geom_point() + geom_line(aes(group=mouse)) + ylim(-2.5,2.5)\n",
        "p4 <- ggplot(eyfp[(eyfp$output==\"LHA-VTA\"),], aes(x=period, y=auc)) + geom_point() + geom_line(aes(group=mouse)) + ylim(-2.5,2.5)\n",
        "p5 <- ggplot(gcamp[(gcamp$output==\"LHA-LHb\"),], aes(x=period, y=auc)) + geom_point() + geom_line(aes(group=mouse)) + ylim(-2.5,2.5)\n",
        "p6 <- ggplot(eyfp[(eyfp$output==\"LHA-LHb\"),], aes(x=period, y=auc)) + geom_point() + geom_line(aes(group=mouse)) + ylim(-2.5,2.5)\n",
        "multiplot(p1,p2,p3,p4,p5,p6, cols=3)"
      ],
      "execution_count": null,
      "outputs": [
        {
          "output_type": "display_data",
          "data": {
            "image/png": "[encoded data removed]"
          },
          "metadata": {
            "tags": []
          }
        }
      ]
    },
    {
      "cell_type": "markdown",
      "metadata": {
        "id": "DxNVlIPB8oN1"
      },
      "source": [
        "Normality test"
      ]
    },
    {
      "cell_type": "code",
      "metadata": {
        "colab": {
          "base_uri": "https://localhost:8080/"
        },
        "id": "ZPty8u5Z8vIu",
        "outputId": "96649d24-f3c5-411e-8af3-f5ce8d4844cc"
      },
      "source": [
        "%%R\n",
        "print(\"---------------- GCaMP ---------------\")\n",
        "print(c(\"LHA-DRN baseline\", shapiro.test(gcamp[(gcamp$output==\"LHA-DRN\" & gcamp$period==\"baseline\"), ]$auc)$p.value))\n",
        "print(c(\"LHA-DRN onset\", shapiro.test(gcamp[(gcamp$output==\"LHA-DRN\" & gcamp$period==\"onset\"),]$auc)$p.value))\n",
        "print(c(\"LHA-DRN drinking\", shapiro.test(gcamp[(gcamp$output==\"LHA-DRN\" & gcamp$period==\"drinking\"),]$auc)$p.value))\n",
        "\n",
        "print(c(\"LHA-VTA baseline\", shapiro.test(gcamp[(gcamp$output==\"LHA-VTA\" & gcamp$period==\"baseline\"),]$auc)$p.value))\n",
        "print(c(\"LHA-VTA onset\", shapiro.test(gcamp[(gcamp$output==\"LHA-VTA\" & gcamp$period==\"onset\"),]$auc)$p.value))\n",
        "print(c(\"LHA-VTA drinking\", shapiro.test(gcamp[(gcamp$output==\"LHA-VTA\" & gcamp$period==\"drinking\"),]$auc)$p.value))\n",
        "\n",
        "print(c(\"LHA-LHb baseline\", shapiro.test(gcamp[(gcamp$output==\"LHA-LHb\" & gcamp$period==\"baseline\"),]$auc)$p.value))\n",
        "print(c(\"LHA-LHb onset\", shapiro.test(gcamp[(gcamp$output==\"LHA-LHb\" & gcamp$period==\"onset\"),]$auc)$p.value))\n",
        "print(c(\"LHA-LHb drinking\", shapiro.test(gcamp[(gcamp$output==\"LHA-LHb\" & gcamp$period==\"drinking\"),]$auc)$p.value))\n",
        "\n",
        "print(\"---------------- eYFP ----------------\")\n",
        "print(c(\"baseline\", shapiro.test(eyfp[eyfp$period==\"baseline\",]$auc)$p.value))\n",
        "print(c(\"onset\", shapiro.test(eyfp[eyfp$period==\"onset\",]$auc)$p.value))\n",
        "print(c(\"drinking\", shapiro.test(eyfp[eyfp$period==\"drinking\",]$auc)$p.value))"
      ],
      "execution_count": null,
      "outputs": [
        {
          "output_type": "stream",
          "text": [
            "[1] \"---------------- GCaMP ---------------\"\n",
            "[1] \"LHA-DRN baseline\"  \"0.638380139867139\"\n",
            "[1] \"LHA-DRN onset\"     \"0.910307103029594\"\n",
            "[1] \"LHA-DRN drinking\"  \"0.834627270094983\"\n",
            "[1] \"LHA-VTA baseline\"  \"0.776785788962589\"\n",
            "[1] \"LHA-VTA onset\"     \"0.223846150299267\"\n",
            "[1] \"LHA-VTA drinking\"  \"0.793944787432539\"\n",
            "[1] \"LHA-LHb baseline\"   \"0.0631809013192717\"\n",
            "[1] \"LHA-LHb onset\"     \"0.846893102720771\"\n",
            "[1] \"LHA-LHb drinking\"  \"0.336878665023069\"\n",
            "[1] \"---------------- eYFP ----------------\"\n",
            "[1] \"baseline\"         \"0.44706995172397\"\n",
            "[1] \"onset\"             \"0.448852969148718\"\n",
            "[1] \"drinking\"          \"0.687674587471778\"\n"
          ],
          "name": "stdout"
        }
      ]
    },
    {
      "cell_type": "markdown",
      "metadata": {
        "id": "5yFN-xtICGQp"
      },
      "source": [
        "$p > 0.5$"
      ]
    },
    {
      "cell_type": "markdown",
      "metadata": {
        "id": "kOtz6tNT6trR"
      },
      "source": [
        "Repeated measures ANOVA with Dunnett poshoc analysis"
      ]
    },
    {
      "cell_type": "code",
      "metadata": {
        "colab": {
          "base_uri": "https://localhost:8080/"
        },
        "id": "0tqJDdYi_XqB",
        "outputId": "c762ec47-8147-4a1c-83af-e5876924c6f8"
      },
      "source": [
        "%%R\n",
        "gcamp[\"group\"] = \"GCaMP\"\n",
        "eyfp[\"group\"] = \"eYFP\"\n",
        "df <- rbind(gcamp,eyfp)\n",
        "anova <- aov(auc ~ group*output*period, random=~1|mouse, data=df)\n",
        "summary(anova)"
      ],
      "execution_count": null,
      "outputs": [
        {
          "output_type": "stream",
          "text": [
            "                     Df Sum Sq Mean Sq F value  Pr(>F)    \n",
            "group                 1  2.226   2.226  11.103 0.00116 ** \n",
            "output                2  0.542   0.271   1.351 0.26314    \n",
            "period                2 25.435  12.717  63.437 < 2e-16 ***\n",
            "group:output          2  0.212   0.106   0.528 0.59096    \n",
            "group:period          2  5.026   2.513  12.535 1.2e-05 ***\n",
            "output:period         4  0.828   0.207   1.033 0.39338    \n",
            "group:output:period   4  0.183   0.046   0.229 0.92175    \n",
            "Residuals           114 22.854   0.200                    \n",
            "---\n",
            "Signif. codes:  0 ‘***’ 0.001 ‘**’ 0.01 ‘*’ 0.05 ‘.’ 0.1 ‘ ’ 1\n"
          ],
          "name": "stdout"
        }
      ]
    },
    {
      "cell_type": "code",
      "metadata": {
        "colab": {
          "base_uri": "https://localhost:8080/"
        },
        "id": "AXdqxwS-6trS",
        "outputId": "00a6de73-fa95-4237-f905-e4e94602776c"
      },
      "source": [
        "# GCaMP\n",
        "%%R\n",
        "print('----------------------LHA-DRN----------------------')\n",
        "drn = gcamp[gcamp$output=='LHA-DRN',]\n",
        "lme.model <- lme(auc ~ period, random=~1|mouse, data=drn)\n",
        "print(summary(glht(lme.model, linfct=mcp(period=\"Dunnet\"))))\n",
        "\n",
        "print('----------------------LHA-VTA----------------------')\n",
        "vta = gcamp[gcamp$output=='LHA-VTA',]\n",
        "lme.model <- lme(auc ~ period, random=~1|mouse, data=vta)\n",
        "print(summary(glht(lme.model, linfct=mcp(period=\"Dunnet\"))))\n",
        "\n",
        "print('----------------------LHA-LHb----------------------')\n",
        "lhb = gcamp[gcamp$output=='LHA-LHb',]\n",
        "lme.model <- lme(auc ~ period, random=~1|mouse, data = lhb)\n",
        "print(summary(glht(lme.model, linfct=mcp(period=\"Dunnet\"))))"
      ],
      "execution_count": null,
      "outputs": [
        {
          "output_type": "stream",
          "text": [
            "[1] \"----------------------LHA-DRN----------------------\"\n",
            "\n",
            "\t Simultaneous Tests for General Linear Hypotheses\n",
            "\n",
            "Multiple Comparisons of Means: Dunnett Contrasts\n",
            "\n",
            "\n",
            "Fit: lme.formula(fixed = auc ~ period, data = drn, random = ~1 | mouse)\n",
            "\n",
            "Linear Hypotheses:\n",
            "                         Estimate Std. Error z value Pr(>|z|)    \n",
            "onset - baseline == 0      0.3778     0.1533   2.464    0.026 *  \n",
            "drinking - baseline == 0  -0.9717     0.1533  -6.337 4.68e-10 ***\n",
            "---\n",
            "Signif. codes:  0 ‘***’ 0.001 ‘**’ 0.01 ‘*’ 0.05 ‘.’ 0.1 ‘ ’ 1\n",
            "(Adjusted p values reported -- single-step method)\n",
            "\n",
            "[1] \"----------------------LHA-VTA----------------------\"\n",
            "\n",
            "\t Simultaneous Tests for General Linear Hypotheses\n",
            "\n",
            "Multiple Comparisons of Means: Dunnett Contrasts\n",
            "\n",
            "\n",
            "Fit: lme.formula(fixed = auc ~ period, data = vta, random = ~1 | mouse)\n",
            "\n",
            "Linear Hypotheses:\n",
            "                         Estimate Std. Error z value Pr(>|z|)    \n",
            "onset - baseline == 0      0.5310     0.1481   3.586 0.000661 ***\n",
            "drinking - baseline == 0  -0.8193     0.1481  -5.533 6.28e-08 ***\n",
            "---\n",
            "Signif. codes:  0 ‘***’ 0.001 ‘**’ 0.01 ‘*’ 0.05 ‘.’ 0.1 ‘ ’ 1\n",
            "(Adjusted p values reported -- single-step method)\n",
            "\n",
            "[1] \"----------------------LHA-LHb----------------------\"\n",
            "\n",
            "\t Simultaneous Tests for General Linear Hypotheses\n",
            "\n",
            "Multiple Comparisons of Means: Dunnett Contrasts\n",
            "\n",
            "\n",
            "Fit: lme.formula(fixed = auc ~ period, data = lhb, random = ~1 | mouse)\n",
            "\n",
            "Linear Hypotheses:\n",
            "                         Estimate Std. Error z value Pr(>|z|)    \n",
            "onset - baseline == 0     0.06647    0.14089   0.472    0.851    \n",
            "drinking - baseline == 0 -0.86475    0.14089  -6.138 1.67e-09 ***\n",
            "---\n",
            "Signif. codes:  0 ‘***’ 0.001 ‘**’ 0.01 ‘*’ 0.05 ‘.’ 0.1 ‘ ’ 1\n",
            "(Adjusted p values reported -- single-step method)\n",
            "\n"
          ],
          "name": "stdout"
        }
      ]
    },
    {
      "cell_type": "code",
      "metadata": {
        "colab": {
          "base_uri": "https://localhost:8080/"
        },
        "id": "EsQ1AUcm6trS",
        "outputId": "595c82da-7084-4838-edca-1b87d0b62067"
      },
      "source": [
        "#eYFP\n",
        "%%R\n",
        "lme.model <- lme(auc ~ period, random=~1|mouse, data=eyfp)\n",
        "print(summary(glht(lme.model, linfct=mcp(period=\"Dunnet\"))))"
      ],
      "execution_count": null,
      "outputs": [
        {
          "output_type": "stream",
          "text": [
            "\n",
            "\t Simultaneous Tests for General Linear Hypotheses\n",
            "\n",
            "Multiple Comparisons of Means: Dunnett Contrasts\n",
            "\n",
            "\n",
            "Fit: lme.formula(fixed = auc ~ period, data = eyfp, random = ~1 | \n",
            "    mouse)\n",
            "\n",
            "Linear Hypotheses:\n",
            "                         Estimate Std. Error z value Pr(>|z|)  \n",
            "onset - baseline == 0      0.2572     0.1330   1.934   0.0961 .\n",
            "drinking - baseline == 0   0.2795     0.1330   2.102   0.0654 .\n",
            "---\n",
            "Signif. codes:  0 ‘***’ 0.001 ‘**’ 0.01 ‘*’ 0.05 ‘.’ 0.1 ‘ ’ 1\n",
            "(Adjusted p values reported -- single-step method)\n",
            "\n"
          ],
          "name": "stdout"
        }
      ]
    },
    {
      "cell_type": "markdown",
      "metadata": {
        "id": "9JFesubZDV5j"
      },
      "source": [
        "# OFT Fig1M & FigSupp1I"
      ]
    },
    {
      "cell_type": "code",
      "metadata": {
        "id": "sLyihwtmDnVu"
      },
      "source": [
        "%%R\n",
        "gcamp <- read_excel(\"fig1_LH_apt-sct-oft-tst.xlsx\", sheet = \"OFT\")\n",
        "gcamp$output = as.factor(gcamp$output)\n",
        "gcamp$period = as.factor(gcamp$period)\n",
        "gcamp$auc = as.numeric(gcamp$auc)"
      ],
      "execution_count": null,
      "outputs": []
    },
    {
      "cell_type": "code",
      "metadata": {
        "id": "QosVdtHRDnVv"
      },
      "source": [
        "%%R\n",
        "neworder <- c('immobile','preonset','onset','mobile')\n",
        "gcamp <- arrange(transform(gcamp, period=factor(period,levels=neworder)),period)\n",
        "gcamp$period <- factor(gcamp$period, labels=c('immobile','preonset','onset','mobile'))"
      ],
      "execution_count": null,
      "outputs": []
    },
    {
      "cell_type": "code",
      "metadata": {
        "id": "BwMtjyTIDnVw"
      },
      "source": [
        "%%R\n",
        "eyfp <- read_excel(\"fig1-supp1_LH-eYFP.xlsx\", sheet = \"OFT\")\n",
        "eyfp$output = as.factor(eyfp$output)\n",
        "eyfp$period = as.factor(eyfp$period)\n",
        "eyfp$auc = as.numeric(eyfp$auc)"
      ],
      "execution_count": null,
      "outputs": []
    },
    {
      "cell_type": "code",
      "metadata": {
        "id": "4_IZT0ZGDnVw"
      },
      "source": [
        "%%R\n",
        "neworder <- c('immobile','preonset','onset','mobile')\n",
        "eyfp <- arrange(transform(eyfp, period=factor(period,levels=neworder)),period)\n",
        "eyfp$period <- factor(eyfp$period, labels=c('immobile','preonset','onset','mobile'))"
      ],
      "execution_count": null,
      "outputs": []
    },
    {
      "cell_type": "code",
      "metadata": {
        "colab": {
          "base_uri": "https://localhost:8080/",
          "height": 497
        },
        "id": "BTELZI8sDnVw",
        "outputId": "42fcf9d6-c0e1-4422-92aa-67ccbdafeefd"
      },
      "source": [
        "%%R\n",
        "p1 <- ggplot(gcamp[(gcamp$output==\"LHA-DRN\"),], aes(x=period, y=auc)) + geom_point() + geom_line(aes(group=mouse)) + ylim(-2.5,2.5)\n",
        "p2 <- ggplot(eyfp[(eyfp$output==\"LHA-DRN\"),], aes(x=period, y=auc)) + geom_point() + geom_line(aes(group=mouse)) + ylim(-2.5,2.5)\n",
        "p3 <- ggplot(gcamp[(gcamp$output==\"LHA-VTA\"),], aes(x=period, y=auc)) + geom_point() + geom_line(aes(group=mouse)) + ylim(-2.5,2.5)\n",
        "p4 <- ggplot(eyfp[(eyfp$output==\"LHA-VTA\"),], aes(x=period, y=auc)) + geom_point() + geom_line(aes(group=mouse)) + ylim(-2.5,2.5)\n",
        "p5 <- ggplot(gcamp[(gcamp$output==\"LHA-LHb\"),], aes(x=period, y=auc)) + geom_point() + geom_line(aes(group=mouse)) + ylim(-2.5,2.5)\n",
        "p6 <- ggplot(eyfp[(eyfp$output==\"LHA-LHb\"),], aes(x=period, y=auc)) + geom_point() + geom_line(aes(group=mouse)) + ylim(-2.5,2.5)\n",
        "multiplot(p1,p2,p3,p4,p5,p6, cols=3)"
      ],
      "execution_count": null,
      "outputs": [
        {
          "output_type": "display_data",
          "data": {
            "image/png": "[encoded data removed]"
          },
          "metadata": {
            "tags": []
          }
        }
      ]
    },
    {
      "cell_type": "markdown",
      "metadata": {
        "id": "-jpEQXFWDnVx"
      },
      "source": [
        "Normality test"
      ]
    },
    {
      "cell_type": "code",
      "metadata": {
        "colab": {
          "base_uri": "https://localhost:8080/"
        },
        "id": "4OA5mdigDnVx",
        "outputId": "37ceca41-11ad-4ad5-d95e-d1b7ccd5b137"
      },
      "source": [
        "%%R\n",
        "print(\"---------------- GCaMP ---------------\")\n",
        "print(c(\"LHA-DRN immobile\", shapiro.test(gcamp[(gcamp$output==\"LHA-DRN\" & gcamp$period==\"immobile\"), ]$auc)$p.value))\n",
        "print(c(\"LHA-DRN preonset\", shapiro.test(gcamp[(gcamp$output==\"LHA-DRN\" & gcamp$period==\"preonset\"),]$auc)$p.value))\n",
        "print(c(\"LHA-DRN onset\", shapiro.test(gcamp[(gcamp$output==\"LHA-DRN\" & gcamp$period==\"onset\"),]$auc)$p.value))\n",
        "print(c(\"LHA-DRN mobile\", shapiro.test(gcamp[(gcamp$output==\"LHA-DRN\" & gcamp$period==\"mobile\"),]$auc)$p.value))\n",
        "print(\"\")\n",
        "print(c(\"LHA-VTA immobile\", shapiro.test(gcamp[(gcamp$output==\"LHA-VTA\" & gcamp$period==\"immobile\"),]$auc)$p.value))\n",
        "print(c(\"LHA-VTA preonset\", shapiro.test(gcamp[(gcamp$output==\"LHA-VTA\" & gcamp$period==\"preonset\"),]$auc)$p.value))\n",
        "print(c(\"LHA-VTA onset\", shapiro.test(gcamp[(gcamp$output==\"LHA-VTA\" & gcamp$period==\"onset\"),]$auc)$p.value))\n",
        "print(c(\"LHA-VTA mobile\", shapiro.test(gcamp[(gcamp$output==\"LHA-VTA\" & gcamp$period==\"mobile\"),]$auc)$p.value))\n",
        "print(\"\")\n",
        "print(c(\"LHA-LHb immobile\", shapiro.test(gcamp[(gcamp$output==\"LHA-LHb\" & gcamp$period==\"immobile\"),]$auc)$p.value))\n",
        "print(c(\"LHA-LHb preonset\", shapiro.test(gcamp[(gcamp$output==\"LHA-LHb\" & gcamp$period==\"preonset\"),]$auc)$p.value))\n",
        "print(c(\"LHA-LHb onset\", shapiro.test(gcamp[(gcamp$output==\"LHA-LHb\" & gcamp$period==\"onset\"),]$auc)$p.value))\n",
        "print(c(\"LHA-LHb mobile\", shapiro.test(gcamp[(gcamp$output==\"LHA-LHb\" & gcamp$period==\"mobile\"),]$auc)$p.value))\n",
        "\n",
        "print(\"---------------- eYFP ----------------\")\n",
        "print(c(\"immobile\", shapiro.test(eyfp[eyfp$period==\"immobile\",]$auc)$p.value))\n",
        "print(c(\"preonset\", shapiro.test(eyfp[eyfp$period==\"preonset\",]$auc)$p.value))\n",
        "print(c(\"onset\", shapiro.test(eyfp[eyfp$period==\"onset\",]$auc)$p.value))\n",
        "print(c(\"mobile\", shapiro.test(eyfp[eyfp$period==\"mobile\",]$auc)$p.value))"
      ],
      "execution_count": null,
      "outputs": [
        {
          "output_type": "stream",
          "text": [
            "[1] \"---------------- GCaMP ---------------\"\n",
            "[1] \"LHA-DRN immobile\"  \"0.795403692729759\"\n",
            "[1] \"LHA-DRN preonset\"  \"0.666627844813454\"\n",
            "[1] \"LHA-DRN onset\"     \"0.545651499359147\"\n",
            "[1] \"LHA-DRN mobile\"     \"0.0532590138063385\"\n",
            "[1] \"\"\n",
            "[1] \"LHA-VTA immobile\"  \"0.321038902708742\"\n",
            "[1] \"LHA-VTA preonset\"  \"0.648472861098257\"\n",
            "[1] \"LHA-VTA onset\"     \"0.476847708680051\"\n",
            "[1] \"LHA-VTA mobile\"    \"0.380828803816646\"\n",
            "[1] \"\"\n",
            "[1] \"LHA-LHb immobile\"   \"0.0789021732911321\"\n",
            "[1] \"LHA-LHb preonset\"   \"0.0552902671736715\"\n",
            "[1] \"LHA-LHb onset\"     \"0.841420032470075\"\n",
            "[1] \"LHA-LHb mobile\"    \"0.603098850313034\"\n",
            "[1] \"---------------- eYFP ----------------\"\n",
            "[1] \"immobile\"          \"0.556465591082225\"\n",
            "[1] \"preonset\"           \"0.0061311139893838\"\n",
            "[1] \"onset\"              \"0.0344814529396953\"\n",
            "[1] \"mobile\"            \"0.802172226392132\"\n"
          ],
          "name": "stdout"
        }
      ]
    },
    {
      "cell_type": "markdown",
      "metadata": {
        "id": "nK8F4uKIR9Nt"
      },
      "source": [
        "GCaMP: $p>0.5$"
      ]
    },
    {
      "cell_type": "markdown",
      "metadata": {
        "id": "TaGLrgwhDnVx"
      },
      "source": [
        "Repeated measures ANOVA with Dunnett poshoc analysis"
      ]
    },
    {
      "cell_type": "code",
      "metadata": {
        "colab": {
          "base_uri": "https://localhost:8080/"
        },
        "id": "_KxGpknx_lDz",
        "outputId": "0272cd19-5164-41f8-97b3-77302075cc6f"
      },
      "source": [
        "%%R\n",
        "gcamp[\"group\"] = \"GCaMP\"\n",
        "eyfp[\"group\"] = \"eYFP\"\n",
        "df <- rbind(gcamp,eyfp)\n",
        "anova <- aov(auc ~ group*output*period, random=~1|mouse, data=df)\n",
        "summary(anova)"
      ],
      "execution_count": null,
      "outputs": [
        {
          "output_type": "stream",
          "text": [
            "                    Df Sum Sq Mean Sq F value   Pr(>F)    \n",
            "group                1  0.032  0.0316   0.599    0.441    \n",
            "output               2  0.221  0.1106   2.092    0.129    \n",
            "period               3  4.800  1.5999  30.273 1.05e-13 ***\n",
            "group:output         2  0.103  0.0515   0.975    0.381    \n",
            "group:period         3  1.469  0.4896   9.264 2.05e-05 ***\n",
            "output:period        6  0.128  0.0213   0.403    0.875    \n",
            "group:output:period  6  0.087  0.0145   0.275    0.947    \n",
            "Residuals           92  4.862  0.0528                     \n",
            "---\n",
            "Signif. codes:  0 ‘***’ 0.001 ‘**’ 0.01 ‘*’ 0.05 ‘.’ 0.1 ‘ ’ 1\n"
          ],
          "name": "stdout"
        }
      ]
    },
    {
      "cell_type": "code",
      "metadata": {
        "colab": {
          "base_uri": "https://localhost:8080/"
        },
        "id": "K-ZDJMIODnVy",
        "outputId": "df524309-4b94-43d8-99ba-b069f76a87fe"
      },
      "source": [
        "# GCaMP\n",
        "%%R\n",
        "print('----------------------LHA-DRN----------------------')\n",
        "drn = gcamp[gcamp$output=='LHA-DRN',]\n",
        "lme.model <- lme(auc ~ period, random=~1|mouse, data=drn)\n",
        "print(summary(glht(lme.model, linfct=mcp(period=\"Dunnet\"))))\n",
        "\n",
        "print('----------------------LHA-VTA----------------------')\n",
        "vta = gcamp[gcamp$output=='LHA-VTA',]\n",
        "lme.model <- lme(auc ~ period, random=~1|mouse, data=vta)\n",
        "print(summary(glht(lme.model, linfct=mcp(period=\"Dunnet\"))))\n",
        "\n",
        "print('----------------------LHA-LHb----------------------')\n",
        "lhb = gcamp[gcamp$output=='LHA-LHb',]\n",
        "lme.model <- lme(auc ~ period, random=~1|mouse, data = lhb)\n",
        "print(summary(glht(lme.model, linfct=mcp(period=\"Dunnet\"))))"
      ],
      "execution_count": null,
      "outputs": [
        {
          "output_type": "stream",
          "text": [
            "[1] \"----------------------LHA-DRN----------------------\"\n",
            "\n",
            "\t Simultaneous Tests for General Linear Hypotheses\n",
            "\n",
            "Multiple Comparisons of Means: Dunnett Contrasts\n",
            "\n",
            "\n",
            "Fit: lme.formula(fixed = auc ~ period, data = drn, random = ~1 | mouse)\n",
            "\n",
            "Linear Hypotheses:\n",
            "                         Estimate Std. Error z value Pr(>|z|)    \n",
            "preonset - immobile == 0  0.02183    0.09027   0.242     0.99    \n",
            "onset - immobile == 0     0.48283    0.09027   5.348   <1e-06 ***\n",
            "mobile - immobile == 0    0.55188    0.09027   6.113   <1e-06 ***\n",
            "---\n",
            "Signif. codes:  0 ‘***’ 0.001 ‘**’ 0.01 ‘*’ 0.05 ‘.’ 0.1 ‘ ’ 1\n",
            "(Adjusted p values reported -- single-step method)\n",
            "\n",
            "[1] \"----------------------LHA-VTA----------------------\"\n",
            "\n",
            "\t Simultaneous Tests for General Linear Hypotheses\n",
            "\n",
            "Multiple Comparisons of Means: Dunnett Contrasts\n",
            "\n",
            "\n",
            "Fit: lme.formula(fixed = auc ~ period, data = vta, random = ~1 | mouse)\n",
            "\n",
            "Linear Hypotheses:\n",
            "                         Estimate Std. Error z value Pr(>|z|)    \n",
            "preonset - immobile == 0 -0.02485    0.08498  -0.292    0.983    \n",
            "onset - immobile == 0     0.55379    0.08498   6.516   <1e-06 ***\n",
            "mobile - immobile == 0    0.67576    0.08498   7.952   <1e-06 ***\n",
            "---\n",
            "Signif. codes:  0 ‘***’ 0.001 ‘**’ 0.01 ‘*’ 0.05 ‘.’ 0.1 ‘ ’ 1\n",
            "(Adjusted p values reported -- single-step method)\n",
            "\n",
            "[1] \"----------------------LHA-LHb----------------------\"\n",
            "\n",
            "\t Simultaneous Tests for General Linear Hypotheses\n",
            "\n",
            "Multiple Comparisons of Means: Dunnett Contrasts\n",
            "\n",
            "\n",
            "Fit: lme.formula(fixed = auc ~ period, data = lhb, random = ~1 | mouse)\n",
            "\n",
            "Linear Hypotheses:\n",
            "                          Estimate Std. Error z value Pr(>|z|)    \n",
            "preonset - immobile == 0 -0.005658   0.100868  -0.056        1    \n",
            "onset - immobile == 0     0.365555   0.100868   3.624   <0.001 ***\n",
            "mobile - immobile == 0    0.414608   0.100868   4.110   <0.001 ***\n",
            "---\n",
            "Signif. codes:  0 ‘***’ 0.001 ‘**’ 0.01 ‘*’ 0.05 ‘.’ 0.1 ‘ ’ 1\n",
            "(Adjusted p values reported -- single-step method)\n",
            "\n"
          ],
          "name": "stdout"
        }
      ]
    },
    {
      "cell_type": "code",
      "metadata": {
        "colab": {
          "base_uri": "https://localhost:8080/"
        },
        "id": "R4lxjaiUDnVy",
        "outputId": "2578e6cc-2a4e-4e6d-e3de-57e1c6758c3a"
      },
      "source": [
        "#eYFP\n",
        "%%R\n",
        "lme.model <- lme(rank(auc) ~ period, random=~1|mouse, data=eyfp)\n",
        "print(summary(glht(lme.model, linfct=mcp(period=\"Dunnet\"))))"
      ],
      "execution_count": null,
      "outputs": [
        {
          "output_type": "stream",
          "text": [
            "\n",
            "\t Simultaneous Tests for General Linear Hypotheses\n",
            "\n",
            "Multiple Comparisons of Means: Dunnett Contrasts\n",
            "\n",
            "\n",
            "Fit: lme.formula(fixed = rank(auc) ~ period, data = eyfp, random = ~1 | \n",
            "    mouse)\n",
            "\n",
            "Linear Hypotheses:\n",
            "                         Estimate Std. Error z value Pr(>|z|)\n",
            "preonset - immobile == 0   0.1667     4.1654    0.04    1.000\n",
            "onset - immobile == 0     -2.6667     4.1654   -0.64    0.859\n",
            "mobile - immobile == 0    -4.1667     4.1654   -1.00    0.624\n",
            "(Adjusted p values reported -- single-step method)\n",
            "\n"
          ],
          "name": "stdout"
        }
      ]
    },
    {
      "cell_type": "markdown",
      "metadata": {
        "id": "c-Cizyx2OeEy"
      },
      "source": [
        "Mobile score"
      ]
    },
    {
      "cell_type": "code",
      "metadata": {
        "id": "6Iyj5u26OeEy"
      },
      "source": [
        "%%R\n",
        "gcamp <- read_excel(\"fig1_LH_apt-sct-oft-tst.xlsx\", sheet = \"OFT_mobileScore\")\n",
        "gcamp$period = as.factor(gcamp$period)\n",
        "gcamp$auc = as.numeric(gcamp$auc)"
      ],
      "execution_count": null,
      "outputs": []
    },
    {
      "cell_type": "code",
      "metadata": {
        "id": "Dl_rEcxROeEz"
      },
      "source": [
        "%%R\n",
        "neworder <- c('immobile','preonset','onset','mobile')\n",
        "gcamp <- arrange(transform(gcamp, period=factor(period,levels=neworder)),period)\n",
        "gcamp$period <- factor(gcamp$period, labels=c('immobile','preonset','onset','mobile'))"
      ],
      "execution_count": null,
      "outputs": []
    },
    {
      "cell_type": "code",
      "metadata": {
        "id": "yxCuj0iZOeEz"
      },
      "source": [
        "%%R\n",
        "eyfp <- read_excel(\"fig1-supp1_LH-eYFP.xlsx\", sheet = \"OFT_mobileScore\")\n",
        "eyfp$period = as.factor(eyfp$period)\n",
        "eyfp$auc = as.numeric(eyfp$auc)"
      ],
      "execution_count": null,
      "outputs": []
    },
    {
      "cell_type": "code",
      "metadata": {
        "id": "BbDwosm9OeE0"
      },
      "source": [
        "%%R\n",
        "neworder <- c('immobile','preonset','onset','mobile')\n",
        "eyfp <- arrange(transform(eyfp, period=factor(period,levels=neworder)),period)\n",
        "eyfp$period <- factor(eyfp$period, labels=c('immobile','preonset','onset','mobile'))"
      ],
      "execution_count": null,
      "outputs": []
    },
    {
      "cell_type": "code",
      "metadata": {
        "colab": {
          "base_uri": "https://localhost:8080/",
          "height": 497
        },
        "id": "uQIuQ1HVOeE0",
        "outputId": "9b058028-9d68-474f-85b8-b1f0c7ee5c6f"
      },
      "source": [
        "%%R\n",
        "p1 <- ggplot(gcamp, aes(x=period, y=auc)) + geom_point() + geom_line(aes(group=mouse)) + ylim(0,0.5)\n",
        "p2 <- ggplot(eyfp, aes(x=period, y=auc)) + geom_point() + geom_line(aes(group=mouse)) + ylim(0,0.5)\n",
        "multiplot(p1,p2)"
      ],
      "execution_count": null,
      "outputs": [
        {
          "output_type": "display_data",
          "data": {
            "image/png": "[encoded data removed]"
          },
          "metadata": {
            "tags": []
          }
        }
      ]
    },
    {
      "cell_type": "markdown",
      "metadata": {
        "id": "TCy2_TMgOeE2"
      },
      "source": [
        "Normality test"
      ]
    },
    {
      "cell_type": "code",
      "metadata": {
        "colab": {
          "base_uri": "https://localhost:8080/"
        },
        "id": "vu7Wh98yOeE2",
        "outputId": "29739cc4-5f79-435d-fca4-50231274e51f"
      },
      "source": [
        "%%R\n",
        "print(\"---------------- GCaMP ---------------\")\n",
        "print(c(\"immobile\", shapiro.test(gcamp[(gcamp$period==\"immobile\"), ]$auc)$p.value))\n",
        "print(c(\"preonset\", shapiro.test(gcamp[(gcamp$period==\"preonset\"),]$auc)$p.value))\n",
        "print(c(\"onset\", shapiro.test(gcamp[(gcamp$period==\"onset\"),]$auc)$p.value))\n",
        "print(c(\"mobile\", shapiro.test(gcamp[(gcamp$period==\"mobile\"),]$auc)$p.value))"
      ],
      "execution_count": null,
      "outputs": [
        {
          "output_type": "stream",
          "text": [
            "[1] \"---------------- GCaMP ---------------\"\n",
            "[1] \"immobile\"          \"0.894431017122535\"\n",
            "[1] \"preonset\"          \"0.464470154561756\"\n",
            "[1] \"onset\"             \"0.758369212135172\"\n",
            "[1] \"mobile\"             \"0.0979688224246382\"\n"
          ],
          "name": "stdout"
        }
      ]
    },
    {
      "cell_type": "markdown",
      "metadata": {
        "id": "Ecpnv9rkOeE2"
      },
      "source": [
        "$p > 0.5$"
      ]
    },
    {
      "cell_type": "markdown",
      "metadata": {
        "id": "iqJsT-TvOeE3"
      },
      "source": [
        "Repeated measures ANOVA with Dunnett poshoc analysis"
      ]
    },
    {
      "cell_type": "code",
      "metadata": {
        "colab": {
          "base_uri": "https://localhost:8080/"
        },
        "id": "U0GjJG18_4y3",
        "outputId": "c3b69837-fd08-4beb-f6f9-2d761f238ab2"
      },
      "source": [
        "%%R\n",
        "gcamp[\"group\"] = \"GCaMP\"\n",
        "eyfp[\"group\"] = \"eYFP\"\n",
        "df <- rbind(gcamp,eyfp)\n",
        "anova <- aov(auc ~ group*period, random=~1|mouse, data=df)\n",
        "summary(anova)"
      ],
      "execution_count": null,
      "outputs": [
        {
          "output_type": "stream",
          "text": [
            "             Df  Sum Sq Mean Sq F value Pr(>F)    \n",
            "group         1 0.00107 0.00107   1.566  0.217    \n",
            "period        3 0.17355 0.05785  84.809 <2e-16 ***\n",
            "group:period  3 0.00122 0.00041   0.597  0.621    \n",
            "Residuals    44 0.03001 0.00068                   \n",
            "---\n",
            "Signif. codes:  0 ‘***’ 0.001 ‘**’ 0.01 ‘*’ 0.05 ‘.’ 0.1 ‘ ’ 1\n"
          ],
          "name": "stdout"
        }
      ]
    },
    {
      "cell_type": "code",
      "metadata": {
        "colab": {
          "base_uri": "https://localhost:8080/"
        },
        "id": "dJmmGF5rOeE3",
        "outputId": "360059e4-49f8-48f2-f9f5-520fb0ebf0be"
      },
      "source": [
        "# GCaMP\n",
        "%%R\n",
        "lme.model <- lme(auc ~ period, random=~1|mouse, data=gcamp)\n",
        "print(summary(glht(lme.model, linfct=mcp(period=\"Dunnet\"))))"
      ],
      "execution_count": null,
      "outputs": [
        {
          "output_type": "stream",
          "text": [
            "\n",
            "\t Simultaneous Tests for General Linear Hypotheses\n",
            "\n",
            "Multiple Comparisons of Means: Dunnett Contrasts\n",
            "\n",
            "\n",
            "Fit: lme.formula(fixed = auc ~ period, data = gcamp, random = ~1 | \n",
            "    mouse)\n",
            "\n",
            "Linear Hypotheses:\n",
            "                         Estimate Std. Error z value Pr(>|z|)    \n",
            "preonset - immobile == 0 -0.01423    0.01139  -1.249 0.453173    \n",
            "onset - immobile == 0     0.04692    0.01139   4.121 0.000131 ***\n",
            "mobile - immobile == 0    0.12905    0.01139  11.334  < 1e-04 ***\n",
            "---\n",
            "Signif. codes:  0 ‘***’ 0.001 ‘**’ 0.01 ‘*’ 0.05 ‘.’ 0.1 ‘ ’ 1\n",
            "(Adjusted p values reported -- single-step method)\n",
            "\n"
          ],
          "name": "stdout"
        }
      ]
    },
    {
      "cell_type": "code",
      "metadata": {
        "colab": {
          "base_uri": "https://localhost:8080/"
        },
        "id": "qHMUXwWvOeE3",
        "outputId": "e1be0444-a00d-4fdf-d75f-2067f2f65370"
      },
      "source": [
        "#eYFP\n",
        "%%R\n",
        "lme.model <- lme(rank(auc) ~ period, random=~1|mouse, data=eyfp)\n",
        "print(summary(glht(lme.model, linfct=mcp(period=\"Dunnet\"))))"
      ],
      "execution_count": null,
      "outputs": [
        {
          "output_type": "stream",
          "text": [
            "\n",
            "\t Simultaneous Tests for General Linear Hypotheses\n",
            "\n",
            "Multiple Comparisons of Means: Dunnett Contrasts\n",
            "\n",
            "\n",
            "Fit: lme.formula(fixed = rank(auc) ~ period, data = eyfp, random = ~1 | \n",
            "    mouse)\n",
            "\n",
            "Linear Hypotheses:\n",
            "                           Estimate Std. Error z value Pr(>|z|)    \n",
            "preonset - immobile == 0 -1.110e-15  1.155e+00   0.000   1.0000    \n",
            "onset - immobile == 0     3.000e+00  1.155e+00   2.598   0.0256 *  \n",
            "mobile - immobile == 0    5.000e+00  1.155e+00   4.330   <0.001 ***\n",
            "---\n",
            "Signif. codes:  0 ‘***’ 0.001 ‘**’ 0.01 ‘*’ 0.05 ‘.’ 0.1 ‘ ’ 1\n",
            "(Adjusted p values reported -- single-step method)\n",
            "\n"
          ],
          "name": "stdout"
        }
      ]
    },
    {
      "cell_type": "markdown",
      "metadata": {
        "id": "H1PAdyv6Kbb_"
      },
      "source": [
        "# TST Fig1P & FigSupp1M"
      ]
    },
    {
      "cell_type": "code",
      "metadata": {
        "id": "AzyFVxrTKbcJ"
      },
      "source": [
        "%%R\n",
        "gcamp <- read_excel(\"fig1_LH_apt-sct-oft-tst.xlsx\", sheet = \"TST\")\n",
        "gcamp$output = as.factor(gcamp$output)\n",
        "gcamp$period = as.factor(gcamp$period)\n",
        "gcamp$auc = as.numeric(gcamp$auc)"
      ],
      "execution_count": null,
      "outputs": []
    },
    {
      "cell_type": "code",
      "metadata": {
        "id": "34-Y299mKbcK"
      },
      "source": [
        "%%R\n",
        "neworder <- c('immobile','preonset','onset','mobile')\n",
        "gcamp <- arrange(transform(gcamp, period=factor(period,levels=neworder)),period)\n",
        "gcamp$period <- factor(gcamp$period, labels=c('immobile','preonset','onset','mobile'))"
      ],
      "execution_count": null,
      "outputs": []
    },
    {
      "cell_type": "code",
      "metadata": {
        "id": "JnFnBICMKbcL"
      },
      "source": [
        "%%R\n",
        "eyfp <- read_excel(\"fig1-supp1_LH-eYFP.xlsx\", sheet = \"TST\")\n",
        "eyfp$output = as.factor(eyfp$output)\n",
        "eyfp$period = as.factor(eyfp$period)\n",
        "eyfp$auc = as.numeric(eyfp$auc)"
      ],
      "execution_count": null,
      "outputs": []
    },
    {
      "cell_type": "code",
      "metadata": {
        "id": "-tj4DI2QKbcL"
      },
      "source": [
        "%%R\n",
        "neworder <- c('immobile','preonset','onset','mobile')\n",
        "eyfp <- arrange(transform(eyfp, period=factor(period,levels=neworder)),period)\n",
        "eyfp$period <- factor(eyfp$period, labels=c('immobile','preonset','onset','mobile'))"
      ],
      "execution_count": null,
      "outputs": []
    },
    {
      "cell_type": "code",
      "metadata": {
        "colab": {
          "base_uri": "https://localhost:8080/",
          "height": 497
        },
        "id": "zqrBUas-KbcL",
        "outputId": "6e945b3b-5d95-4907-c82b-167e967d4852"
      },
      "source": [
        "%%R\n",
        "p1 <- ggplot(gcamp[(gcamp$output==\"LHA-DRN\"),], aes(x=period, y=auc)) + geom_point() + geom_line(aes(group=mouse)) + ylim(-1,2)\n",
        "p2 <- ggplot(eyfp[(eyfp$output==\"LHA-DRN\"),], aes(x=period, y=auc)) + geom_point() + geom_line(aes(group=mouse)) + ylim(-1,2)\n",
        "p3 <- ggplot(gcamp[(gcamp$output==\"LHA-VTA\"),], aes(x=period, y=auc)) + geom_point() + geom_line(aes(group=mouse)) + ylim(-1,2)\n",
        "p4 <- ggplot(eyfp[(eyfp$output==\"LHA-VTA\"),], aes(x=period, y=auc)) + geom_point() + geom_line(aes(group=mouse)) + ylim(-1,2)\n",
        "p5 <- ggplot(gcamp[(gcamp$output==\"LHA-LHb\"),], aes(x=period, y=auc)) + geom_point() + geom_line(aes(group=mouse)) + ylim(-1,2)\n",
        "p6 <- ggplot(eyfp[(eyfp$output==\"LHA-LHb\"),], aes(x=period, y=auc)) + geom_point() + geom_line(aes(group=mouse)) + ylim(-1,2)\n",
        "multiplot(p1,p2,p3,p4,p5,p6, cols=3)"
      ],
      "execution_count": null,
      "outputs": [
        {
          "output_type": "display_data",
          "data": {
            "image/png": "[encoded data removed]"
          },
          "metadata": {
            "tags": []
          }
        }
      ]
    },
    {
      "cell_type": "markdown",
      "metadata": {
        "id": "JxQqmNGRKbcM"
      },
      "source": [
        "Normality test"
      ]
    },
    {
      "cell_type": "code",
      "metadata": {
        "colab": {
          "base_uri": "https://localhost:8080/"
        },
        "id": "FzWxvI50KbcN",
        "outputId": "a11d0d6f-3203-4b3e-e9c8-14f7ff047e85"
      },
      "source": [
        "%%R\n",
        "print(\"---------------- GCaMP ---------------\")\n",
        "print(c(\"LHA-DRN immobile\", shapiro.test(gcamp[(gcamp$output==\"LHA-DRN\" & gcamp$period==\"immobile\"), ]$auc)$p.value))\n",
        "print(c(\"LHA-DRN preonset\", shapiro.test(gcamp[(gcamp$output==\"LHA-DRN\" & gcamp$period==\"preonset\"),]$auc)$p.value))\n",
        "print(c(\"LHA-DRN onset\", shapiro.test(gcamp[(gcamp$output==\"LHA-DRN\" & gcamp$period==\"onset\"),]$auc)$p.value))\n",
        "print(c(\"LHA-DRN mobile\", shapiro.test(gcamp[(gcamp$output==\"LHA-DRN\" & gcamp$period==\"mobile\"),]$auc)$p.value))\n",
        "print(\"\")\n",
        "print(c(\"LHA-VTA immobile\", shapiro.test(gcamp[(gcamp$output==\"LHA-VTA\" & gcamp$period==\"immobile\"),]$auc)$p.value))\n",
        "print(c(\"LHA-VTA preonset\", shapiro.test(gcamp[(gcamp$output==\"LHA-VTA\" & gcamp$period==\"preonset\"),]$auc)$p.value))\n",
        "print(c(\"LHA-VTA onset\", shapiro.test(gcamp[(gcamp$output==\"LHA-VTA\" & gcamp$period==\"onset\"),]$auc)$p.value))\n",
        "print(c(\"LHA-VTA mobile\", shapiro.test(gcamp[(gcamp$output==\"LHA-VTA\" & gcamp$period==\"mobile\"),]$auc)$p.value))\n",
        "print(\"\")\n",
        "print(c(\"LHA-LHb immobile\", shapiro.test(gcamp[(gcamp$output==\"LHA-LHb\" & gcamp$period==\"immobile\"),]$auc)$p.value))\n",
        "print(c(\"LHA-LHb preonset\", shapiro.test(gcamp[(gcamp$output==\"LHA-LHb\" & gcamp$period==\"preonset\"),]$auc)$p.value))\n",
        "print(c(\"LHA-LHb onset\", shapiro.test(gcamp[(gcamp$output==\"LHA-LHb\" & gcamp$period==\"onset\"),]$auc)$p.value))\n",
        "print(c(\"LHA-LHb mobile\", shapiro.test(gcamp[(gcamp$output==\"LHA-LHb\" & gcamp$period==\"mobile\"),]$auc)$p.value))\n",
        "\n",
        "print(\"---------------- eYFP ----------------\")\n",
        "print(c(\"immobile\", shapiro.test(eyfp[eyfp$period==\"immobile\",]$auc)$p.value))\n",
        "print(c(\"preonset\", shapiro.test(eyfp[eyfp$period==\"preonset\",]$auc)$p.value))\n",
        "print(c(\"onset\", shapiro.test(eyfp[eyfp$period==\"onset\",]$auc)$p.value))\n",
        "print(c(\"mobile\", shapiro.test(eyfp[eyfp$period==\"mobile\",]$auc)$p.value))"
      ],
      "execution_count": null,
      "outputs": [
        {
          "output_type": "stream",
          "text": [
            "[1] \"---------------- GCaMP ---------------\"\n",
            "[1] \"LHA-DRN immobile\"  \"0.752753845977096\"\n",
            "[1] \"LHA-DRN preonset\"  \"0.155649738400565\"\n",
            "[1] \"LHA-DRN onset\"     \"0.327631806703167\"\n",
            "[1] \"LHA-DRN mobile\"    \"0.744987166242646\"\n",
            "[1] \"\"\n",
            "[1] \"LHA-VTA immobile\"  \"0.255475624273444\"\n",
            "[1] \"LHA-VTA preonset\" \"0.44301941526295\"\n",
            "[1] \"LHA-VTA onset\"     \"0.795524130850089\"\n",
            "[1] \"LHA-VTA mobile\"    \"0.458596446574544\"\n",
            "[1] \"\"\n",
            "[1] \"LHA-LHb immobile\" \"0.95687533724764\"\n",
            "[1] \"LHA-LHb preonset\"  \"0.625507134679822\"\n",
            "[1] \"LHA-LHb onset\"     \"0.378427417733485\"\n",
            "[1] \"LHA-LHb mobile\"    \"0.190882536161675\"\n",
            "[1] \"---------------- eYFP ----------------\"\n",
            "[1] \"immobile\"          \"0.579528048581544\"\n",
            "[1] \"preonset\"          \"0.801132248706236\"\n",
            "[1] \"onset\"             \"0.584215589131319\"\n",
            "[1] \"mobile\"             \"0.0523675653559756\"\n"
          ],
          "name": "stdout"
        }
      ]
    },
    {
      "cell_type": "markdown",
      "metadata": {
        "id": "ZwCsHTxtKbcN"
      },
      "source": [
        "$p > 0.5$"
      ]
    },
    {
      "cell_type": "markdown",
      "metadata": {
        "id": "jzGATg5XKbcO"
      },
      "source": [
        "Repeated measures ANOVA with Dunnett poshoc analysis"
      ]
    },
    {
      "cell_type": "code",
      "metadata": {
        "colab": {
          "base_uri": "https://localhost:8080/"
        },
        "id": "pORaMGLOAMnf",
        "outputId": "52f453b9-dca2-4b76-abc4-b912d9b3a294"
      },
      "source": [
        "%%R\n",
        "gcamp[\"group\"] = \"GCaMP\"\n",
        "eyfp[\"group\"] = \"eYFP\"\n",
        "df <- rbind(gcamp,eyfp)\n",
        "anova <- aov(auc ~ group*output*period, random=~1|mouse, data=df)\n",
        "summary(anova)"
      ],
      "execution_count": null,
      "outputs": [
        {
          "output_type": "stream",
          "text": [
            "                    Df Sum Sq Mean Sq F value   Pr(>F)    \n",
            "group                1  2.909   2.909  45.148 2.44e-09 ***\n",
            "output               2  0.044   0.022   0.340    0.713    \n",
            "period               3 22.119   7.373 114.447  < 2e-16 ***\n",
            "group:output         2  0.132   0.066   1.027    0.363    \n",
            "group:period         3 10.470   3.490  54.175  < 2e-16 ***\n",
            "output:period        6  0.125   0.021   0.323    0.923    \n",
            "group:output:period  6  0.321   0.053   0.829    0.551    \n",
            "Residuals           80  5.154   0.064                     \n",
            "---\n",
            "Signif. codes:  0 ‘***’ 0.001 ‘**’ 0.01 ‘*’ 0.05 ‘.’ 0.1 ‘ ’ 1\n"
          ],
          "name": "stdout"
        }
      ]
    },
    {
      "cell_type": "code",
      "metadata": {
        "colab": {
          "base_uri": "https://localhost:8080/"
        },
        "id": "0AmmoZoUKbcO",
        "outputId": "f05775b6-0df1-4036-fa18-167bd79d1e9c"
      },
      "source": [
        "# GCaMP\n",
        "%%R\n",
        "print('----------------------LHA-DRN----------------------')\n",
        "drn = gcamp[gcamp$output=='LHA-DRN',]\n",
        "lme.model <- lme(auc ~ period, random=~1|mouse, data=drn)\n",
        "print(summary(glht(lme.model, linfct=mcp(period=\"Dunnet\"))))\n",
        "\n",
        "print('----------------------LHA-VTA----------------------')\n",
        "vta = gcamp[gcamp$output=='LHA-VTA',]\n",
        "lme.model <- lme(auc ~ period, random=~1|mouse, data=vta)\n",
        "print(summary(glht(lme.model, linfct=mcp(period=\"Dunnet\"))))\n",
        "\n",
        "print('----------------------LHA-LHb----------------------')\n",
        "lhb = gcamp[gcamp$output=='LHA-LHb',]\n",
        "lme.model <- lme(auc ~ period, random=~1|mouse, data = lhb)\n",
        "print(summary(glht(lme.model, linfct=mcp(period=\"Dunnet\"))))"
      ],
      "execution_count": null,
      "outputs": [
        {
          "output_type": "stream",
          "text": [
            "[1] \"----------------------LHA-DRN----------------------\"\n",
            "\n",
            "\t Simultaneous Tests for General Linear Hypotheses\n",
            "\n",
            "Multiple Comparisons of Means: Dunnett Contrasts\n",
            "\n",
            "\n",
            "Fit: lme.formula(fixed = auc ~ period, data = drn, random = ~1 | mouse)\n",
            "\n",
            "Linear Hypotheses:\n",
            "                         Estimate Std. Error z value Pr(>|z|)    \n",
            "preonset - immobile == 0   0.4383     0.1090   4.022 0.000181 ***\n",
            "onset - immobile == 0      1.4111     0.1090  12.948  < 1e-04 ***\n",
            "mobile - immobile == 0     1.2884     0.1090  11.822  < 1e-04 ***\n",
            "---\n",
            "Signif. codes:  0 ‘***’ 0.001 ‘**’ 0.01 ‘*’ 0.05 ‘.’ 0.1 ‘ ’ 1\n",
            "(Adjusted p values reported -- single-step method)\n",
            "\n",
            "[1] \"----------------------LHA-VTA----------------------\"\n",
            "\n",
            "\t Simultaneous Tests for General Linear Hypotheses\n",
            "\n",
            "Multiple Comparisons of Means: Dunnett Contrasts\n",
            "\n",
            "\n",
            "Fit: lme.formula(fixed = auc ~ period, data = vta, random = ~1 | mouse)\n",
            "\n",
            "Linear Hypotheses:\n",
            "                         Estimate Std. Error z value Pr(>|z|)    \n",
            "preonset - immobile == 0   0.3647     0.1486   2.454    0.038 *  \n",
            "onset - immobile == 0      1.5421     0.1486  10.375   <0.001 ***\n",
            "mobile - immobile == 0     1.4818     0.1486   9.970   <0.001 ***\n",
            "---\n",
            "Signif. codes:  0 ‘***’ 0.001 ‘**’ 0.01 ‘*’ 0.05 ‘.’ 0.1 ‘ ’ 1\n",
            "(Adjusted p values reported -- single-step method)\n",
            "\n",
            "[1] \"----------------------LHA-LHb----------------------\"\n",
            "\n",
            "\t Simultaneous Tests for General Linear Hypotheses\n",
            "\n",
            "Multiple Comparisons of Means: Dunnett Contrasts\n",
            "\n",
            "\n",
            "Fit: lme.formula(fixed = auc ~ period, data = lhb, random = ~1 | mouse)\n",
            "\n",
            "Linear Hypotheses:\n",
            "                         Estimate Std. Error z value Pr(>|z|)    \n",
            "preonset - immobile == 0   0.4905     0.1577   3.111  0.00511 ** \n",
            "onset - immobile == 0      1.5442     0.1577   9.795  < 1e-04 ***\n",
            "mobile - immobile == 0     1.4570     0.1577   9.242  < 1e-04 ***\n",
            "---\n",
            "Signif. codes:  0 ‘***’ 0.001 ‘**’ 0.01 ‘*’ 0.05 ‘.’ 0.1 ‘ ’ 1\n",
            "(Adjusted p values reported -- single-step method)\n",
            "\n"
          ],
          "name": "stdout"
        }
      ]
    },
    {
      "cell_type": "code",
      "metadata": {
        "colab": {
          "base_uri": "https://localhost:8080/"
        },
        "id": "JJfMdBpbKbcP",
        "outputId": "8323643b-09ad-46d0-c81d-ba2375dcfc4b"
      },
      "source": [
        "#eYFP\n",
        "%%R\n",
        "lme.model <- lme(auc ~ period, random=~1|mouse, data=eyfp)\n",
        "print(summary(glht(lme.model, linfct=mcp(period=\"Dunnet\"))))"
      ],
      "execution_count": null,
      "outputs": [
        {
          "output_type": "stream",
          "text": [
            "\n",
            "\t Simultaneous Tests for General Linear Hypotheses\n",
            "\n",
            "Multiple Comparisons of Means: Dunnett Contrasts\n",
            "\n",
            "\n",
            "Fit: lme.formula(fixed = auc ~ period, data = eyfp, random = ~1 | \n",
            "    mouse)\n",
            "\n",
            "Linear Hypotheses:\n",
            "                         Estimate Std. Error z value Pr(>|z|)  \n",
            "preonset - immobile == 0  0.01598    0.13329   0.120   0.9988  \n",
            "onset - immobile == 0    -0.13827    0.13329  -1.037   0.5980  \n",
            "mobile - immobile == 0   -0.34066    0.13329  -2.556   0.0287 *\n",
            "---\n",
            "Signif. codes:  0 ‘***’ 0.001 ‘**’ 0.01 ‘*’ 0.05 ‘.’ 0.1 ‘ ’ 1\n",
            "(Adjusted p values reported -- single-step method)\n",
            "\n"
          ],
          "name": "stdout"
        }
      ]
    },
    {
      "cell_type": "markdown",
      "metadata": {
        "id": "EdBgsesGLy28"
      },
      "source": [
        "Mobile score"
      ]
    },
    {
      "cell_type": "code",
      "metadata": {
        "id": "gfZotHBXL25q"
      },
      "source": [
        "%%R\n",
        "gcamp <- read_excel(\"fig1_LH_apt-sct-oft-tst.xlsx\", sheet = \"TST_mobileScore\")\n",
        "gcamp$period = as.factor(gcamp$period)\n",
        "gcamp$auc = as.numeric(gcamp$auc)"
      ],
      "execution_count": null,
      "outputs": []
    },
    {
      "cell_type": "code",
      "metadata": {
        "id": "dFKRBf64L25u"
      },
      "source": [
        "%%R\n",
        "neworder <- c('immobile','preonset','onset','mobile')\n",
        "gcamp <- arrange(transform(gcamp, period=factor(period,levels=neworder)),period)\n",
        "gcamp$period <- factor(gcamp$period, labels=c('immobile','preonset','onset','mobile'))"
      ],
      "execution_count": null,
      "outputs": []
    },
    {
      "cell_type": "code",
      "metadata": {
        "id": "q-MqUrw4L25v"
      },
      "source": [
        "%%R\n",
        "eyfp <- read_excel(\"fig1-supp1_LH-eYFP.xlsx\", sheet = \"TST_mobileScore\")\n",
        "eyfp$period = as.factor(eyfp$period)\n",
        "eyfp$auc = as.numeric(eyfp$auc)"
      ],
      "execution_count": null,
      "outputs": []
    },
    {
      "cell_type": "code",
      "metadata": {
        "id": "zzvTfcUdL25v"
      },
      "source": [
        "%%R\n",
        "neworder <- c('immobile','preonset','onset','mobile')\n",
        "eyfp <- arrange(transform(eyfp, period=factor(period,levels=neworder)),period)\n",
        "eyfp$period <- factor(eyfp$period, labels=c('immobile','preonset','onset','mobile'))"
      ],
      "execution_count": null,
      "outputs": []
    },
    {
      "cell_type": "code",
      "metadata": {
        "colab": {
          "base_uri": "https://localhost:8080/",
          "height": 497
        },
        "id": "DpcM9H5ZL25w",
        "outputId": "67d5c064-d51c-4da5-f76c-f104e9cd2507"
      },
      "source": [
        "%%R\n",
        "p1 <- ggplot(gcamp, aes(x=period, y=auc)) + geom_point() + geom_line(aes(group=mouse)) + ylim(0,0.5)\n",
        "p2 <- ggplot(eyfp, aes(x=period, y=auc)) + geom_point() + geom_line(aes(group=mouse)) + ylim(0,0.5)\n",
        "multiplot(p1,p2)"
      ],
      "execution_count": null,
      "outputs": [
        {
          "output_type": "display_data",
          "data": {
            "image/png": "[encoded data removed]"
          },
          "metadata": {
            "tags": []
          }
        }
      ]
    },
    {
      "cell_type": "markdown",
      "metadata": {
        "id": "CZjk7mHvL25x"
      },
      "source": [
        "Normality test"
      ]
    },
    {
      "cell_type": "code",
      "metadata": {
        "colab": {
          "base_uri": "https://localhost:8080/"
        },
        "id": "konKGUd4L25x",
        "outputId": "2d44eb6d-5bc8-41f5-e500-d7c1ab66c30b"
      },
      "source": [
        "%%R\n",
        "print(\"---------------- GCaMP ---------------\")\n",
        "print(c(\"immobile\", shapiro.test(gcamp[(gcamp$period==\"immobile\"), ]$auc)$p.value))\n",
        "print(c(\"preonset\", shapiro.test(gcamp[(gcamp$period==\"preonset\"),]$auc)$p.value))\n",
        "print(c(\"onset\", shapiro.test(gcamp[(gcamp$period==\"onset\"),]$auc)$p.value))\n",
        "print(c(\"mobile\", shapiro.test(gcamp[(gcamp$period==\"mobile\"),]$auc)$p.value))"
      ],
      "execution_count": null,
      "outputs": [
        {
          "output_type": "stream",
          "text": [
            "[1] \"---------------- GCaMP ---------------\"\n",
            "[1] \"immobile\"         \"0.50472301470075\"\n",
            "[1] \"preonset\"          \"0.522024945842807\"\n",
            "[1] \"onset\"             \"0.958597838651246\"\n",
            "[1] \"mobile\"            \"0.531592499349234\"\n"
          ],
          "name": "stdout"
        }
      ]
    },
    {
      "cell_type": "markdown",
      "metadata": {
        "id": "IHDQFarKL25y"
      },
      "source": [
        "$p>0.5$"
      ]
    },
    {
      "cell_type": "markdown",
      "metadata": {
        "id": "5aHjflJGN2l4"
      },
      "source": [
        "Repeated measures ANOVA with Dunnett poshoc analysis"
      ]
    },
    {
      "cell_type": "code",
      "metadata": {
        "colab": {
          "base_uri": "https://localhost:8080/"
        },
        "id": "61Iq7bBeAWh5",
        "outputId": "b15ce7a1-6dcc-4089-b52f-74b177facd1a"
      },
      "source": [
        "%%R\n",
        "gcamp[\"group\"] = \"GCaMP\"\n",
        "eyfp[\"group\"] = \"eYFP\"\n",
        "df <- rbind(gcamp,eyfp)\n",
        "anova <- aov(auc ~ group*period, random=~1|mouse, data=df)\n",
        "summary(anova)"
      ],
      "execution_count": null,
      "outputs": [
        {
          "output_type": "stream",
          "text": [
            "             Df Sum Sq Mean Sq F value Pr(>F)    \n",
            "group         1 0.0022 0.00222   3.489 0.0699 .  \n",
            "period        3 0.4529 0.15098 237.544 <2e-16 ***\n",
            "group:period  3 0.0015 0.00051   0.810 0.4967    \n",
            "Residuals    36 0.0229 0.00064                   \n",
            "---\n",
            "Signif. codes:  0 ‘***’ 0.001 ‘**’ 0.01 ‘*’ 0.05 ‘.’ 0.1 ‘ ’ 1\n"
          ],
          "name": "stdout"
        }
      ]
    },
    {
      "cell_type": "code",
      "metadata": {
        "colab": {
          "base_uri": "https://localhost:8080/"
        },
        "id": "s12mOGErN2mB",
        "outputId": "cd4d27a9-491c-467c-aaae-0b06b4ebe328"
      },
      "source": [
        "# GCaMP\n",
        "%%R\n",
        "lme.model <- lme(auc ~ period, random=~1|mouse, data=gcamp)\n",
        "print(summary(glht(lme.model, linfct=mcp(period=\"Dunnet\"))))"
      ],
      "execution_count": null,
      "outputs": [
        {
          "output_type": "stream",
          "text": [
            "\n",
            "\t Simultaneous Tests for General Linear Hypotheses\n",
            "\n",
            "Multiple Comparisons of Means: Dunnett Contrasts\n",
            "\n",
            "\n",
            "Fit: lme.formula(fixed = auc ~ period, data = gcamp, random = ~1 | \n",
            "    mouse)\n",
            "\n",
            "Linear Hypotheses:\n",
            "                          Estimate Std. Error z value Pr(>|z|)    \n",
            "preonset - immobile == 0 -0.009382   0.012469  -0.752    0.793    \n",
            "onset - immobile == 0     0.085161   0.012469   6.830   <1e-05 ***\n",
            "mobile - immobile == 0    0.249654   0.012469  20.022   <1e-05 ***\n",
            "---\n",
            "Signif. codes:  0 ‘***’ 0.001 ‘**’ 0.01 ‘*’ 0.05 ‘.’ 0.1 ‘ ’ 1\n",
            "(Adjusted p values reported -- single-step method)\n",
            "\n"
          ],
          "name": "stdout"
        }
      ]
    },
    {
      "cell_type": "code",
      "metadata": {
        "colab": {
          "base_uri": "https://localhost:8080/"
        },
        "id": "G3NGc1XjN2mD",
        "outputId": "796bae50-2a90-450d-8402-bc2e8e50f8f8"
      },
      "source": [
        "#eYFP\n",
        "%%R\n",
        "lme.model <- lme(rank(auc) ~ period, random=~1|mouse, data=eyfp)\n",
        "print(summary(glht(lme.model, linfct=mcp(period=\"Dunnet\"))))"
      ],
      "execution_count": null,
      "outputs": [
        {
          "output_type": "stream",
          "text": [
            "\n",
            "\t Simultaneous Tests for General Linear Hypotheses\n",
            "\n",
            "Multiple Comparisons of Means: Dunnett Contrasts\n",
            "\n",
            "\n",
            "Fit: lme.formula(fixed = rank(auc) ~ period, data = eyfp, random = ~1 | \n",
            "    mouse)\n",
            "\n",
            "Linear Hypotheses:\n",
            "                         Estimate Std. Error z value Pr(>|z|)    \n",
            "preonset - immobile == 0     -1.0        1.0    -1.0   0.6243    \n",
            "onset - immobile == 0         2.5        1.0     2.5   0.0335 *  \n",
            "mobile - immobile == 0        4.5        1.0     4.5   <0.001 ***\n",
            "---\n",
            "Signif. codes:  0 ‘***’ 0.001 ‘**’ 0.01 ‘*’ 0.05 ‘.’ 0.1 ‘ ’ 1\n",
            "(Adjusted p values reported -- single-step method)\n",
            "\n"
          ],
          "name": "stdout"
        }
      ]
    },
    {
      "cell_type": "markdown",
      "metadata": {
        "id": "DPcQ45QfSslZ"
      },
      "source": [
        "# Intersectional strategy FigSupp6"
      ]
    },
    {
      "cell_type": "markdown",
      "metadata": {
        "id": "wAUnlaGR2_wK"
      },
      "source": [
        "## APT FigSupp6B"
      ]
    },
    {
      "cell_type": "code",
      "metadata": {
        "id": "gmDaH8679EpU"
      },
      "source": [
        "%%R\n",
        "df <- read_excel(\"fig1-supp6_LHretro.xlsx\", sheet = \"APT\")\n",
        "df$output = as.factor(df$output)\n",
        "df$period = as.factor(df$period)\n",
        "df$auc = as.numeric(df$auc)"
      ],
      "execution_count": null,
      "outputs": []
    },
    {
      "cell_type": "code",
      "metadata": {
        "id": "KqH6DcnKQWE1"
      },
      "source": [
        "%%R\n",
        "neworder <- c('baseline','airpuff')\n",
        "df <- arrange(transform(df, period=factor(period,levels=neworder)),period)\n",
        "df$period <- factor(df$period, labels=c('baseline','airpuff'))"
      ],
      "execution_count": null,
      "outputs": []
    },
    {
      "cell_type": "code",
      "metadata": {
        "colab": {
          "base_uri": "https://localhost:8080/",
          "height": 497
        },
        "id": "3iE9M2uIQWE5",
        "outputId": "d31642cd-5294-4da9-8ba5-bb183c269c52"
      },
      "source": [
        "%%R\n",
        "p1 <- ggplot(df[(df$output==\"LHA-DRN\"),], aes(x=period, y=auc)) + geom_point() + geom_line(aes(group=mouse)) + ylim(-1,3)\n",
        "p2 <- ggplot(df[(df$output==\"LHA-VTA\"),], aes(x=period, y=auc)) + geom_point() + geom_line(aes(group=mouse)) + ylim(-1,3)\n",
        "multiplot(p1,p2, cols=2)"
      ],
      "execution_count": null,
      "outputs": [
        {
          "output_type": "display_data",
          "data": {
            "image/png": "[encoded data removed]"
          },
          "metadata": {
            "tags": []
          }
        }
      ]
    },
    {
      "cell_type": "markdown",
      "metadata": {
        "id": "0X9sndbeTPtV"
      },
      "source": [
        "$n < 5$"
      ]
    },
    {
      "cell_type": "markdown",
      "metadata": {
        "id": "6ciBBjm1QWE8"
      },
      "source": [
        "Repeated measures ANOVA on ranks with Dunnett poshoc analysis"
      ]
    },
    {
      "cell_type": "code",
      "metadata": {
        "colab": {
          "base_uri": "https://localhost:8080/"
        },
        "id": "ZtCAtT3gAl4G",
        "outputId": "97cd23ba-e249-47a3-f4c8-8c2443304e9c"
      },
      "source": [
        "%%R\n",
        "anova <- aov(rank(auc) ~ output*period, random=~1|mouse, data=df)\n",
        "summary(anova)"
      ],
      "execution_count": null,
      "outputs": [
        {
          "output_type": "stream",
          "text": [
            "              Df Sum Sq Mean Sq F value   Pr(>F)    \n",
            "output         1   0.25    0.25   0.039    0.847    \n",
            "period         1 256.00  256.00  39.639 3.97e-05 ***\n",
            "output:period  1   6.25    6.25   0.968    0.345    \n",
            "Residuals     12  77.50    6.46                     \n",
            "---\n",
            "Signif. codes:  0 ‘***’ 0.001 ‘**’ 0.01 ‘*’ 0.05 ‘.’ 0.1 ‘ ’ 1\n"
          ],
          "name": "stdout"
        }
      ]
    },
    {
      "cell_type": "code",
      "metadata": {
        "colab": {
          "base_uri": "https://localhost:8080/"
        },
        "id": "jn6jsx69QWE8",
        "outputId": "59866515-a209-4616-8a1f-21cf85bfdfa4"
      },
      "source": [
        "# GCaMP\n",
        "%%R\n",
        "print('----------------------LHA-DRN----------------------')\n",
        "drn = df[df$output=='LHA-DRN',]\n",
        "lme.model <- lme(rank(auc) ~ period, random=~1|mouse, data=drn)\n",
        "print(summary(glht(lme.model, linfct=mcp(period=\"Dunnet\"))))\n",
        "\n",
        "print('----------------------LHA-VTA----------------------')\n",
        "vta = df[df$output=='LHA-VTA',]\n",
        "lme.model <- lme(rank(auc) ~ period, random=~1|mouse, data=vta)\n",
        "print(summary(glht(lme.model, linfct=mcp(period=\"Dunnet\"))))"
      ],
      "execution_count": null,
      "outputs": [
        {
          "output_type": "stream",
          "text": [
            "[1] \"----------------------LHA-DRN----------------------\"\n",
            "\n",
            "\t Simultaneous Tests for General Linear Hypotheses\n",
            "\n",
            "Multiple Comparisons of Means: Dunnett Contrasts\n",
            "\n",
            "\n",
            "Fit: lme.formula(fixed = rank(auc) ~ period, data = drn, random = ~1 | \n",
            "    mouse)\n",
            "\n",
            "Linear Hypotheses:\n",
            "                        Estimate Std. Error z value Pr(>|z|)    \n",
            "airpuff - baseline == 0   4.0000     0.9129   4.382 1.18e-05 ***\n",
            "---\n",
            "Signif. codes:  0 ‘***’ 0.001 ‘**’ 0.01 ‘*’ 0.05 ‘.’ 0.1 ‘ ’ 1\n",
            "(Adjusted p values reported -- single-step method)\n",
            "\n",
            "[1] \"----------------------LHA-VTA----------------------\"\n",
            "\n",
            "\t Simultaneous Tests for General Linear Hypotheses\n",
            "\n",
            "Multiple Comparisons of Means: Dunnett Contrasts\n",
            "\n",
            "\n",
            "Fit: lme.formula(fixed = rank(auc) ~ period, data = vta, random = ~1 | \n",
            "    mouse)\n",
            "\n",
            "Linear Hypotheses:\n",
            "                        Estimate Std. Error z value Pr(>|z|)    \n",
            "airpuff - baseline == 0   4.0000     0.8165   4.899 9.63e-07 ***\n",
            "---\n",
            "Signif. codes:  0 ‘***’ 0.001 ‘**’ 0.01 ‘*’ 0.05 ‘.’ 0.1 ‘ ’ 1\n",
            "(Adjusted p values reported -- single-step method)\n",
            "\n"
          ],
          "name": "stdout"
        }
      ]
    },
    {
      "cell_type": "markdown",
      "metadata": {
        "id": "Ahr7C-533CFC"
      },
      "source": [
        "## SCT FigSupp6C"
      ]
    },
    {
      "cell_type": "code",
      "metadata": {
        "id": "lSpS6Tr59lFm"
      },
      "source": [
        "%%R\n",
        "df <- read_excel(\"fig1-supp6_LHretro.xlsx\", sheet = \"SCT\")\n",
        "df$output = as.character(df$output)\n",
        "df$period = as.character(df$period)\n",
        "df$auc = as.numeric(df$auc)"
      ],
      "execution_count": null,
      "outputs": []
    },
    {
      "cell_type": "code",
      "metadata": {
        "id": "PrhOtomGSmj4"
      },
      "source": [
        "%%R\n",
        "neworder <- c('baseline','onset','drinking')\n",
        "df <- arrange(transform(df, period=factor(period,levels=neworder)),period)\n",
        "df$period <- factor(df$period, labels=c('baseline','onset','drinking'))"
      ],
      "execution_count": null,
      "outputs": []
    },
    {
      "cell_type": "code",
      "metadata": {
        "colab": {
          "base_uri": "https://localhost:8080/",
          "height": 497
        },
        "id": "dBcIC6WlR8XL",
        "outputId": "f1bbc1b0-0658-4c18-fc7b-c71145290fdb"
      },
      "source": [
        "%%R\n",
        "p1 <- ggplot(df[(df$output==\"LHA-DRN\"),], aes(x=period, y=auc)) + geom_point() + geom_line(aes(group=mouse)) + ylim(-2,2)\n",
        "p2 <- ggplot(df[(df$output==\"LHA-VTA\"),], aes(x=period, y=auc)) + geom_point() + geom_line(aes(group=mouse)) + ylim(-2,2)\n",
        "multiplot(p1,p2, cols=2)"
      ],
      "execution_count": null,
      "outputs": [
        {
          "output_type": "display_data",
          "data": {
            "image/png": "[encoded data removed]"
          },
          "metadata": {
            "tags": []
          }
        }
      ]
    },
    {
      "cell_type": "markdown",
      "metadata": {
        "id": "fvOPz6OwTbG_"
      },
      "source": [
        "$n<5$"
      ]
    },
    {
      "cell_type": "markdown",
      "metadata": {
        "id": "kJsWdC4lR8XN"
      },
      "source": [
        "Repeated measures ANOVA on ranks with Dunnett poshoc analysis"
      ]
    },
    {
      "cell_type": "code",
      "metadata": {
        "colab": {
          "base_uri": "https://localhost:8080/"
        },
        "id": "gFR0NpFsA3Mx",
        "outputId": "f308c754-784a-4543-cb0a-dc17ba20d290"
      },
      "source": [
        "%%R\n",
        "anova <- aov(auc ~ output*period, random=~1|mouse, data=df)\n",
        "summary(anova)"
      ],
      "execution_count": null,
      "outputs": [
        {
          "output_type": "stream",
          "text": [
            "              Df Sum Sq Mean Sq F value   Pr(>F)    \n",
            "output         1  0.556  0.5558   5.995   0.0307 *  \n",
            "period         2  5.799  2.8993  31.272 1.74e-05 ***\n",
            "output:period  2  0.308  0.1542   1.663   0.2304    \n",
            "Residuals     12  1.113  0.0927                     \n",
            "---\n",
            "Signif. codes:  0 ‘***’ 0.001 ‘**’ 0.01 ‘*’ 0.05 ‘.’ 0.1 ‘ ’ 1\n"
          ],
          "name": "stdout"
        }
      ]
    },
    {
      "cell_type": "code",
      "metadata": {
        "colab": {
          "base_uri": "https://localhost:8080/"
        },
        "id": "7gTn1WPmR8XN",
        "outputId": "1f833163-7f17-49b7-fc3e-ee51dc070943"
      },
      "source": [
        "# GCaMP\n",
        "%%R\n",
        "print('----------------------LHA-DRN----------------------')\n",
        "drn = df[df$output=='LHA-DRN',]\n",
        "lme.model <- lme(rank(auc) ~ period, random=~1|mouse, data=drn)\n",
        "print(summary(glht(lme.model, linfct=mcp(period=\"Dunnet\"))))\n",
        "\n",
        "print('----------------------LHA-VTA----------------------')\n",
        "vta = df[df$output=='LHA-VTA',]\n",
        "lme.model <- lme(rank(auc) ~ period, random=~1|mouse, data=vta)\n",
        "print(summary(glht(lme.model, linfct=mcp(period=\"Dunnet\"))))"
      ],
      "execution_count": null,
      "outputs": [
        {
          "output_type": "stream",
          "text": [
            "[1] \"----------------------LHA-DRN----------------------\"\n",
            "\n",
            "\t Simultaneous Tests for General Linear Hypotheses\n",
            "\n",
            "Multiple Comparisons of Means: Dunnett Contrasts\n",
            "\n",
            "\n",
            "Fit: lme.formula(fixed = rank(auc) ~ period, data = drn, random = ~1 | \n",
            "    mouse)\n",
            "\n",
            "Linear Hypotheses:\n",
            "                         Estimate Std. Error z value Pr(>|z|)    \n",
            "onset - baseline == 0       5.333      1.305   4.086 8.72e-05 ***\n",
            "drinking - baseline == 0    1.667      1.305   1.277    0.336    \n",
            "---\n",
            "Signif. codes:  0 ‘***’ 0.001 ‘**’ 0.01 ‘*’ 0.05 ‘.’ 0.1 ‘ ’ 1\n",
            "(Adjusted p values reported -- single-step method)\n",
            "\n",
            "[1] \"----------------------LHA-VTA----------------------\"\n",
            "\n",
            "\t Simultaneous Tests for General Linear Hypotheses\n",
            "\n",
            "Multiple Comparisons of Means: Dunnett Contrasts\n",
            "\n",
            "\n",
            "Fit: lme.formula(fixed = rank(auc) ~ period, data = vta, random = ~1 | \n",
            "    mouse)\n",
            "\n",
            "Linear Hypotheses:\n",
            "                         Estimate Std. Error z value Pr(>|z|)    \n",
            "onset - baseline == 0      3.0000     0.7454   4.025 0.000113 ***\n",
            "drinking - baseline == 0  -3.0000     0.7454  -4.025 0.000113 ***\n",
            "---\n",
            "Signif. codes:  0 ‘***’ 0.001 ‘**’ 0.01 ‘*’ 0.05 ‘.’ 0.1 ‘ ’ 1\n",
            "(Adjusted p values reported -- single-step method)\n",
            "\n"
          ],
          "name": "stdout"
        }
      ]
    },
    {
      "cell_type": "markdown",
      "metadata": {
        "id": "O_ujR3Tr3E75"
      },
      "source": [
        "## OFT FigSupp6D"
      ]
    },
    {
      "cell_type": "code",
      "metadata": {
        "id": "ONrydyHWAU7n"
      },
      "source": [
        "%%R\n",
        "df <- read_excel(\"fig1-supp6_LHretro.xlsx\", sheet = \"OFT\")\n",
        "df$output = as.character(df$output)\n",
        "df$period = as.character(df$period)\n",
        "df$auc = as.numeric(df$auc)"
      ],
      "execution_count": null,
      "outputs": []
    },
    {
      "cell_type": "code",
      "metadata": {
        "id": "1ArAgOH6ViZm"
      },
      "source": [
        "%%R\n",
        "neworder <- c('immobile','preonset','onset','mobile')\n",
        "df <- arrange(transform(df, period=factor(period,levels=neworder)),period)\n",
        "df$period <- factor(df$period, labels=c('immobile','preonset','onset','mobile'))"
      ],
      "execution_count": null,
      "outputs": []
    },
    {
      "cell_type": "code",
      "metadata": {
        "colab": {
          "base_uri": "https://localhost:8080/",
          "height": 497
        },
        "id": "UqBcjoG4ViZp",
        "outputId": "74cf7faa-4d1a-4279-f9c7-f935669cdd87"
      },
      "source": [
        "%%R\n",
        "p1 <- ggplot(df[(df$output==\"LHA-DRN\"),], aes(x=period, y=auc)) + geom_point() + geom_line(aes(group=mouse)) + ylim(-1.5,1.5)\n",
        "p2 <- ggplot(df[(df$output==\"LHA-VTA\"),], aes(x=period, y=auc)) + geom_point() + geom_line(aes(group=mouse)) + ylim(-1.5,1.5)\n",
        "multiplot(p1,p2, cols=2)"
      ],
      "execution_count": null,
      "outputs": [
        {
          "output_type": "display_data",
          "data": {
            "image/png": "[encoded data removed]"
          },
          "metadata": {
            "tags": []
          }
        }
      ]
    },
    {
      "cell_type": "markdown",
      "metadata": {
        "id": "j6I-RrJlTlmC"
      },
      "source": [
        "$n<5$"
      ]
    },
    {
      "cell_type": "markdown",
      "metadata": {
        "id": "REvUPfycViZu"
      },
      "source": [
        "Repeated measures ANOVA on ranks with Dunnett poshoc analysis"
      ]
    },
    {
      "cell_type": "code",
      "metadata": {
        "colab": {
          "base_uri": "https://localhost:8080/"
        },
        "id": "fnQ-fcZXBLda",
        "outputId": "cb14a942-dc52-464d-d396-2c7ab443154f"
      },
      "source": [
        "%%R\n",
        "anova <- aov(auc ~ output*period, random=~1|mouse, data=df)\n",
        "summary(anova)"
      ],
      "execution_count": null,
      "outputs": [
        {
          "output_type": "stream",
          "text": [
            "              Df Sum Sq Mean Sq F value   Pr(>F)    \n",
            "output         1 0.4981  0.4981  15.502 0.000815 ***\n",
            "period         3 0.9039  0.3013   9.378 0.000448 ***\n",
            "output:period  3 0.0263  0.0088   0.273 0.844218    \n",
            "Residuals     20 0.6426  0.0321                     \n",
            "---\n",
            "Signif. codes:  0 ‘***’ 0.001 ‘**’ 0.01 ‘*’ 0.05 ‘.’ 0.1 ‘ ’ 1\n"
          ],
          "name": "stdout"
        }
      ]
    },
    {
      "cell_type": "code",
      "metadata": {
        "colab": {
          "base_uri": "https://localhost:8080/"
        },
        "id": "48WZadJQViZu",
        "outputId": "864dc20e-3cc2-4a69-b9ef-7242560de3d5"
      },
      "source": [
        "%%R\n",
        "print('----------------------LHA-DRN----------------------')\n",
        "drn = df[df$output=='LHA-DRN',]\n",
        "lme.model <- lme(rank(auc) ~ period, random=~1|mouse, data=drn)\n",
        "print(summary(glht(lme.model, linfct=mcp(period=\"Dunnet\"))))\n",
        "\n",
        "print('----------------------LHA-VTA----------------------')\n",
        "vta = df[df$output=='LHA-VTA',]\n",
        "lme.model <- lme(rank(auc) ~ period, random=~1|mouse, data=vta)\n",
        "print(summary(glht(lme.model, linfct=mcp(period=\"Dunnet\"))))"
      ],
      "execution_count": null,
      "outputs": [
        {
          "output_type": "stream",
          "text": [
            "[1] \"----------------------LHA-DRN----------------------\"\n",
            "\n",
            "\t Simultaneous Tests for General Linear Hypotheses\n",
            "\n",
            "Multiple Comparisons of Means: Dunnett Contrasts\n",
            "\n",
            "\n",
            "Fit: lme.formula(fixed = rank(auc) ~ period, data = drn, random = ~1 | \n",
            "    mouse)\n",
            "\n",
            "Linear Hypotheses:\n",
            "                         Estimate Std. Error z value Pr(>|z|)    \n",
            "preonset - immobile == 0    2.667      1.841   1.449   0.3335    \n",
            "onset - immobile == 0       4.667      1.841   2.535   0.0306 *  \n",
            "mobile - immobile == 0      6.667      1.841   3.621   <0.001 ***\n",
            "---\n",
            "Signif. codes:  0 ‘***’ 0.001 ‘**’ 0.01 ‘*’ 0.05 ‘.’ 0.1 ‘ ’ 1\n",
            "(Adjusted p values reported -- single-step method)\n",
            "\n",
            "[1] \"----------------------LHA-VTA----------------------\"\n",
            "\n",
            "\t Simultaneous Tests for General Linear Hypotheses\n",
            "\n",
            "Multiple Comparisons of Means: Dunnett Contrasts\n",
            "\n",
            "\n",
            "Fit: lme.formula(fixed = rank(auc) ~ period, data = vta, random = ~1 | \n",
            "    mouse)\n",
            "\n",
            "Linear Hypotheses:\n",
            "                         Estimate Std. Error z value Pr(>|z|)    \n",
            "preonset - immobile == 0    1.000      1.756   0.569   0.8947    \n",
            "onset - immobile == 0       5.000      1.756   2.847   0.0124 *  \n",
            "mobile - immobile == 0      8.000      1.756   4.556   <0.001 ***\n",
            "---\n",
            "Signif. codes:  0 ‘***’ 0.001 ‘**’ 0.01 ‘*’ 0.05 ‘.’ 0.1 ‘ ’ 1\n",
            "(Adjusted p values reported -- single-step method)\n",
            "\n"
          ],
          "name": "stdout"
        }
      ]
    },
    {
      "cell_type": "markdown",
      "metadata": {
        "id": "lRN5OAXRViZw"
      },
      "source": [
        "Mobile score"
      ]
    },
    {
      "cell_type": "code",
      "metadata": {
        "id": "-mEA-xM3ViZx"
      },
      "source": [
        "%%R\n",
        "df <- read_excel(\"fig1-supp6_LHretro.xlsx\", sheet = \"OFT_mobileScore\")\n",
        "df$period = as.factor(df$period)\n",
        "df$auc = as.numeric(df$auc)"
      ],
      "execution_count": null,
      "outputs": []
    },
    {
      "cell_type": "code",
      "metadata": {
        "id": "WzuToArKViZy"
      },
      "source": [
        "%%R\n",
        "neworder <- c('immobile','preonset','onset','mobile')\n",
        "df <- arrange(transform(df, period=factor(period,levels=neworder)),period)\n",
        "df$period <- factor(df$period, labels=c('immobile','preonset','onset','mobile'))"
      ],
      "execution_count": null,
      "outputs": []
    },
    {
      "cell_type": "code",
      "metadata": {
        "colab": {
          "base_uri": "https://localhost:8080/",
          "height": 497
        },
        "id": "-8m5KBTuViZz",
        "outputId": "ac0134db-3d51-40bb-8527-d83984ddf2f2"
      },
      "source": [
        "%%R\n",
        "ggplot(df, aes(x=period, y=auc)) + geom_point() + geom_line(aes(group=mouse)) + ylim(0,0.5)"
      ],
      "execution_count": null,
      "outputs": [
        {
          "output_type": "display_data",
          "data": {
            "image/png": "[encoded data removed]"
          },
          "metadata": {
            "tags": []
          }
        }
      ]
    },
    {
      "cell_type": "markdown",
      "metadata": {
        "id": "1bGgJrCVUKHp"
      },
      "source": [
        "$n<5$"
      ]
    },
    {
      "cell_type": "markdown",
      "metadata": {
        "id": "Tkgywix5ViZ2"
      },
      "source": [
        "Repeated measures ANOVA on ranks with Dunnett poshoc analysis"
      ]
    },
    {
      "cell_type": "code",
      "metadata": {
        "colab": {
          "base_uri": "https://localhost:8080/"
        },
        "id": "P8rMuJj2ViZ2",
        "outputId": "5351bfbd-6b42-4a9c-e429-f59ab3865238"
      },
      "source": [
        "%%R\n",
        "lme.model <- lme(rank(auc) ~ period, random=~1|mouse, data=df)\n",
        "print(summary(glht(lme.model, linfct=mcp(period=\"Dunnet\"))))"
      ],
      "execution_count": null,
      "outputs": [
        {
          "output_type": "stream",
          "text": [
            "\n",
            "\t Simultaneous Tests for General Linear Hypotheses\n",
            "\n",
            "Multiple Comparisons of Means: Dunnett Contrasts\n",
            "\n",
            "\n",
            "Fit: lme.formula(fixed = rank(auc) ~ period, data = df, random = ~1 | \n",
            "    mouse)\n",
            "\n",
            "Linear Hypotheses:\n",
            "                         Estimate Std. Error z value Pr(>|z|)    \n",
            "preonset - immobile == 0  -4.0000     0.7993  -5.004 1.37e-06 ***\n",
            "onset - immobile == 0      4.0000     0.7993   5.004 1.69e-06 ***\n",
            "mobile - immobile == 0     8.0000     0.7993  10.009  < 1e-06 ***\n",
            "---\n",
            "Signif. codes:  0 ‘***’ 0.001 ‘**’ 0.01 ‘*’ 0.05 ‘.’ 0.1 ‘ ’ 1\n",
            "(Adjusted p values reported -- single-step method)\n",
            "\n"
          ],
          "name": "stdout"
        }
      ]
    },
    {
      "cell_type": "markdown",
      "metadata": {
        "id": "ucNIA4iPUxX0"
      },
      "source": [
        "## TST FigSupp6E"
      ]
    },
    {
      "cell_type": "code",
      "metadata": {
        "id": "3ZbwquhZs6Dj"
      },
      "source": [
        "%%R\n",
        "df <- read_excel(\"fig1-supp6_LHretro.xlsx\", sheet = \"TST\")\n",
        "df$output = as.character(df$output)\n",
        "df$period = as.character(df$period)\n",
        "df$auc = as.numeric(df$auc)"
      ],
      "execution_count": null,
      "outputs": []
    },
    {
      "cell_type": "code",
      "metadata": {
        "id": "_zwdmAZFs6Dq"
      },
      "source": [
        "%%R\n",
        "neworder <- c('immobile','preonset','onset','mobile')\n",
        "df <- arrange(transform(df, period=factor(period,levels=neworder)),period)\n",
        "df$period <- factor(df$period, labels=c('immobile','preonset','onset','mobile'))"
      ],
      "execution_count": null,
      "outputs": []
    },
    {
      "cell_type": "code",
      "metadata": {
        "colab": {
          "base_uri": "https://localhost:8080/",
          "height": 497
        },
        "id": "86u-euKus6Dr",
        "outputId": "24a0f5e6-f890-43a0-b3d9-12e5cf346731"
      },
      "source": [
        "%%R\n",
        "p1 <- ggplot(df[(df$output==\"LHA-DRN\"),], aes(x=period, y=auc)) + geom_point() + geom_line(aes(group=mouse)) + ylim(-1.5,1.5)\n",
        "p2 <- ggplot(df[(df$output==\"LHA-VTA\"),], aes(x=period, y=auc)) + geom_point() + geom_line(aes(group=mouse)) + ylim(-1.5,1.5)\n",
        "multiplot(p1,p2, cols=2)"
      ],
      "execution_count": null,
      "outputs": [
        {
          "output_type": "display_data",
          "data": {
            "image/png": "[encoded data removed]"
          },
          "metadata": {
            "tags": []
          }
        }
      ]
    },
    {
      "cell_type": "markdown",
      "metadata": {
        "id": "osP8wpcxUX6L"
      },
      "source": [
        "$n < 5$"
      ]
    },
    {
      "cell_type": "markdown",
      "metadata": {
        "id": "wjvEO6vDs6Dr"
      },
      "source": [
        "Repeated measures ANOVA on ranks with Dunnett poshoc analysis"
      ]
    },
    {
      "cell_type": "code",
      "metadata": {
        "colab": {
          "base_uri": "https://localhost:8080/"
        },
        "id": "6PFKMdkFBcTR",
        "outputId": "292aa0cf-c7a8-4f08-eb7b-710c5011c3db"
      },
      "source": [
        "%%R\n",
        "anova <- aov(auc ~ output*period, random=~1|mouse, data=df)\n",
        "summary(anova)"
      ],
      "execution_count": null,
      "outputs": [
        {
          "output_type": "stream",
          "text": [
            "              Df Sum Sq Mean Sq F value   Pr(>F)    \n",
            "output         1  0.094  0.0944   2.208    0.163    \n",
            "period         3  3.553  1.1844  27.693 1.12e-05 ***\n",
            "output:period  3  0.298  0.0994   2.323    0.127    \n",
            "Residuals     12  0.513  0.0428                     \n",
            "---\n",
            "Signif. codes:  0 ‘***’ 0.001 ‘**’ 0.01 ‘*’ 0.05 ‘.’ 0.1 ‘ ’ 1\n"
          ],
          "name": "stdout"
        }
      ]
    },
    {
      "cell_type": "code",
      "metadata": {
        "colab": {
          "base_uri": "https://localhost:8080/"
        },
        "id": "oFSNPKFVs6Dr",
        "outputId": "18095375-8889-4dab-86f9-7f9d2b95f1aa"
      },
      "source": [
        "%%R\n",
        "print('----------------------LHA-DRN----------------------')\n",
        "drn = df[df$output=='LHA-DRN',]\n",
        "lme.model <- lme(rank(auc) ~ period, random=~1|mouse, data=drn)\n",
        "print(summary(glht(lme.model, linfct=mcp(period=\"Dunnet\"))))\n",
        "\n",
        "print('----------------------LHA-VTA----------------------')\n",
        "vta = df[df$output=='LHA-VTA',]\n",
        "lme.model <- lme(rank(auc) ~ period, random=~1|mouse, data=vta)\n",
        "print(summary(glht(lme.model, linfct=mcp(period=\"Dunnet\"))))"
      ],
      "execution_count": null,
      "outputs": [
        {
          "output_type": "stream",
          "text": [
            "[1] \"----------------------LHA-DRN----------------------\"\n",
            "\n",
            "\t Simultaneous Tests for General Linear Hypotheses\n",
            "\n",
            "Multiple Comparisons of Means: Dunnett Contrasts\n",
            "\n",
            "\n",
            "Fit: lme.formula(fixed = rank(auc) ~ period, data = drn, random = ~1 | \n",
            "    mouse)\n",
            "\n",
            "Linear Hypotheses:\n",
            "                          Estimate Std. Error   z value Pr(>|z|)    \n",
            "preonset - immobile == 0 2.000e+00  7.094e-16 2.819e+15   <2e-16 ***\n",
            "onset - immobile == 0    6.000e+00  7.094e-16 8.457e+15   <2e-16 ***\n",
            "mobile - immobile == 0   4.000e+00  7.094e-16 5.638e+15   <2e-16 ***\n",
            "---\n",
            "Signif. codes:  0 ‘***’ 0.001 ‘**’ 0.01 ‘*’ 0.05 ‘.’ 0.1 ‘ ’ 1\n",
            "(Adjusted p values reported -- single-step method)\n",
            "\n",
            "[1] \"----------------------LHA-VTA----------------------\"\n",
            "\n",
            "\t Simultaneous Tests for General Linear Hypotheses\n",
            "\n",
            "Multiple Comparisons of Means: Dunnett Contrasts\n",
            "\n",
            "\n",
            "Fit: lme.formula(fixed = rank(auc) ~ period, data = vta, random = ~1 | \n",
            "    mouse)\n",
            "\n",
            "Linear Hypotheses:\n",
            "                         Estimate Std. Error z value Pr(>|z|)    \n",
            "preonset - immobile == 0    3.000      1.291   2.324   0.0532 .  \n",
            "onset - immobile == 0       7.000      1.291   5.422   <0.001 ***\n",
            "mobile - immobile == 0      8.000      1.291   6.197   <0.001 ***\n",
            "---\n",
            "Signif. codes:  0 ‘***’ 0.001 ‘**’ 0.01 ‘*’ 0.05 ‘.’ 0.1 ‘ ’ 1\n",
            "(Adjusted p values reported -- single-step method)\n",
            "\n"
          ],
          "name": "stdout"
        }
      ]
    },
    {
      "cell_type": "markdown",
      "metadata": {
        "id": "AGdKeXj1s6Ds"
      },
      "source": [
        "Mobile score"
      ]
    },
    {
      "cell_type": "code",
      "metadata": {
        "id": "QTHvL_rVs6Ds"
      },
      "source": [
        "%%R\n",
        "df <- read_excel(\"fig1-supp6_LHretro.xlsx\", sheet = \"TST_mobileScore\")\n",
        "df$period = as.factor(df$period)\n",
        "df$auc = as.numeric(df$auc)"
      ],
      "execution_count": null,
      "outputs": []
    },
    {
      "cell_type": "code",
      "metadata": {
        "id": "b4Bf95xzs6Ds"
      },
      "source": [
        "%%R\n",
        "neworder <- c('immobile','preonset','onset','mobile')\n",
        "df <- arrange(transform(df, period=factor(period,levels=neworder)),period)\n",
        "df$period <- factor(df$period, labels=c('immobile','preonset','onset','mobile'))"
      ],
      "execution_count": null,
      "outputs": []
    },
    {
      "cell_type": "code",
      "metadata": {
        "colab": {
          "base_uri": "https://localhost:8080/",
          "height": 497
        },
        "id": "ux5-SSIis6Ds",
        "outputId": "afcdef77-fa02-40f2-9928-1c3054a65955"
      },
      "source": [
        "%%R\n",
        "ggplot(df, aes(x=period, y=auc)) + geom_point() + geom_line(aes(group=mouse)) + ylim(0,0.5)"
      ],
      "execution_count": null,
      "outputs": [
        {
          "output_type": "display_data",
          "data": {
            "image/png": "[encoded data removed]"
          },
          "metadata": {
            "tags": []
          }
        }
      ]
    },
    {
      "cell_type": "markdown",
      "metadata": {
        "id": "3H0fSOcVUdRX"
      },
      "source": [
        "$n<5$"
      ]
    },
    {
      "cell_type": "markdown",
      "metadata": {
        "id": "7DcSkMaks6Dt"
      },
      "source": [
        "Repeated measures ANOVA on ranks with Dunnett poshoc analysis"
      ]
    },
    {
      "cell_type": "code",
      "metadata": {
        "colab": {
          "base_uri": "https://localhost:8080/"
        },
        "id": "EUfIPA1Os6Dt",
        "outputId": "6396d095-f3e4-4ab5-b05c-a0070d13a88a"
      },
      "source": [
        "%%R\n",
        "lme.model <- lme(rank(auc) ~ period, random=~1|mouse, data=df)\n",
        "print(summary(glht(lme.model, linfct=mcp(period=\"Dunnet\"))))"
      ],
      "execution_count": null,
      "outputs": [
        {
          "output_type": "stream",
          "text": [
            "\n",
            "\t Simultaneous Tests for General Linear Hypotheses\n",
            "\n",
            "Multiple Comparisons of Means: Dunnett Contrasts\n",
            "\n",
            "\n",
            "Fit: lme.formula(fixed = rank(auc) ~ period, data = df, random = ~1 | \n",
            "    mouse)\n",
            "\n",
            "Linear Hypotheses:\n",
            "                         Estimate Std. Error z value Pr(>|z|)    \n",
            "preonset - immobile == 0  -4.0000     0.7638  -5.237   <1e-06 ***\n",
            "onset - immobile == 0      4.0000     0.7638   5.237   <1e-06 ***\n",
            "mobile - immobile == 0     8.0000     0.7638  10.474   <1e-06 ***\n",
            "---\n",
            "Signif. codes:  0 ‘***’ 0.001 ‘**’ 0.01 ‘*’ 0.05 ‘.’ 0.1 ‘ ’ 1\n",
            "(Adjusted p values reported -- single-step method)\n",
            "\n"
          ],
          "name": "stdout"
        }
      ]
    },
    {
      "cell_type": "markdown",
      "metadata": {
        "id": "-5VlATSiSn74"
      },
      "source": [
        "# Outputs correlation FigSupp2"
      ]
    },
    {
      "cell_type": "code",
      "metadata": {
        "id": "uyQO9zaWVJYp"
      },
      "source": [
        "%%R\n",
        "install.packages(\"maptools\", repos = \"https://cloud.r-project.org\")\n",
        "install.packages(\"car\", repos = \"https://cloud.r-project.org\")\n",
        "install.packages(\"cowplot\", repos = \"https://cloud.r-project.org\")\n",
        "install.packages(\"rstatix\", repos = \"https://cloud.r-project.org\")"
      ],
      "execution_count": null,
      "outputs": []
    },
    {
      "cell_type": "code",
      "metadata": {
        "id": "-r0gNCxuVJYu"
      },
      "source": [
        "%%R\n",
        "library(\"maptools\")\n",
        "library(\"car\")\n",
        "library(\"cowplot\")\n",
        "library(\"rstatix\")"
      ],
      "execution_count": null,
      "outputs": []
    },
    {
      "cell_type": "code",
      "metadata": {
        "id": "GKzpPItsyhtI"
      },
      "source": [
        "%%R\n",
        "gcamp <- read_excel(\"fig1_LH_apt-sct-oft-tst.xlsx\", sheet=\"outputCorrelation\")\n",
        "gcamp$group = \"GCaMP\"\n",
        "gcamp$group = as.factor(gcamp$group)\n",
        "gcamp$test = as.factor(gcamp$test)\n",
        "gcamp$output = as.factor(gcamp$output)\n",
        "gcamp$R = as.numeric(gcamp$R)"
      ],
      "execution_count": null,
      "outputs": []
    },
    {
      "cell_type": "code",
      "metadata": {
        "id": "D5nbjpF8z82w"
      },
      "source": [
        "%%R\n",
        "eyfp <- read_excel(\"fig1-supp1_LH-eYFP.xlsx\", sheet=\"outputCorrelation\")\n",
        "eyfp$group = \"eYFP\"\n",
        "eyfp$test = as.factor(eyfp$test)\n",
        "eyfp$output = as.factor(eyfp$output)\n",
        "eyfp$R = as.numeric(eyfp$R)"
      ],
      "execution_count": null,
      "outputs": []
    },
    {
      "cell_type": "code",
      "metadata": {
        "id": "0Z8paJSg4V6J"
      },
      "source": [
        "%%R\n",
        "df <- rbind(gcamp,eyfp)"
      ],
      "execution_count": null,
      "outputs": []
    },
    {
      "cell_type": "markdown",
      "metadata": {
        "id": "7Tk1ATEAz826"
      },
      "source": [
        "Normality"
      ]
    },
    {
      "cell_type": "code",
      "metadata": {
        "colab": {
          "base_uri": "https://localhost:8080/"
        },
        "id": "2fMJAavLz826",
        "outputId": "94dd1cfe-0fef-47c0-d3af-30f993e0261c"
      },
      "source": [
        "%%R\n",
        "df %>%\n",
        "  group_by(group,test) %>%\n",
        "  shapiro_test(R)"
      ],
      "execution_count": null,
      "outputs": [
        {
          "output_type": "stream",
          "text": [
            "# A tibble: 8 x 5\n",
            "  test  group variable statistic      p\n",
            "  <fct> <fct> <chr>        <dbl>  <dbl>\n",
            "1 APT   GCaMP R            0.966 0.676 \n",
            "2 OFT   GCaMP R            0.940 0.453 \n",
            "3 SCT   GCaMP R            0.960 0.435 \n",
            "4 TST   GCaMP R            0.893 0.0905\n",
            "5 APT   eYFP  R            0.830 0.107 \n",
            "6 OFT   eYFP  R            0.901 0.379 \n",
            "7 SCT   eYFP  R            0.860 0.190 \n",
            "8 TST   eYFP  R            0.796 0.0537\n"
          ],
          "name": "stdout"
        }
      ]
    },
    {
      "cell_type": "markdown",
      "metadata": {
        "id": "7x2My_K-6njp"
      },
      "source": [
        "Compare to 0"
      ]
    },
    {
      "cell_type": "code",
      "metadata": {
        "colab": {
          "base_uri": "https://localhost:8080/"
        },
        "id": "2Svt1sC550Jb",
        "outputId": "6101df88-b32d-4526-897f-ef9b05832191"
      },
      "source": [
        "%%R\n",
        "ttest <- df %>%\n",
        "  group_by(group,test,output) %>%\n",
        "  t_test(R ~ 0) %>%\n",
        "  select(-.y.,-statistic,-df)\n",
        "print(ttest,n=24)"
      ],
      "execution_count": null,
      "outputs": [
        {
          "output_type": "stream",
          "text": [
            "# A tibble: 24 x 7\n",
            "   test  output  group group1 group2         n            p\n",
            "   <fct> <fct>   <fct> <chr>  <chr>      <int>        <dbl>\n",
            " 1 APT   DRN.LHb GCaMP 1      null model     8 0.000015    \n",
            " 2 APT   DRN.VTA GCaMP 1      null model     8 0.000000656 \n",
            " 3 APT   VTA.LHb GCaMP 1      null model     4 0.0108      \n",
            " 4 OFT   DRN.LHb GCaMP 1      null model     4 0.00139     \n",
            " 5 OFT   DRN.VTA GCaMP 1      null model     7 0.000037    \n",
            " 6 OFT   VTA.LHb GCaMP 1      null model     2 0.0111      \n",
            " 7 SCT   DRN.LHb GCaMP 1      null model    10 0.00000684  \n",
            " 8 SCT   DRN.VTA GCaMP 1      null model    10 0.0000000309\n",
            " 9 SCT   VTA.LHb GCaMP 1      null model     4 0.000462    \n",
            "10 TST   DRN.LHb GCaMP 1      null model     5 0.000066    \n",
            "11 TST   DRN.VTA GCaMP 1      null model     6 0.0000134   \n",
            "12 TST   VTA.LHb GCaMP 1      null model     3 0.00906     \n",
            "13 APT   DRN.LHb eYFP  1      null model     2 0.253       \n",
            "14 APT   DRN.VTA eYFP  1      null model     2 0.323       \n",
            "15 APT   VTA.LHb eYFP  1      null model     2 0.773       \n",
            "16 OFT   DRN.LHb eYFP  1      null model     2 0.119       \n",
            "17 OFT   DRN.VTA eYFP  1      null model     2 0.0568      \n",
            "18 OFT   VTA.LHb eYFP  1      null model     2 0.235       \n",
            "19 SCT   DRN.LHb eYFP  1      null model     2 0.669       \n",
            "20 SCT   DRN.VTA eYFP  1      null model     2 0.582       \n",
            "21 SCT   VTA.LHb eYFP  1      null model     2 0.316       \n",
            "22 TST   DRN.LHb eYFP  1      null model     2 0.35        \n",
            "23 TST   DRN.VTA eYFP  1      null model     2 0.441       \n",
            "24 TST   VTA.LHb eYFP  1      null model     2 0.44        \n"
          ],
          "name": "stdout"
        }
      ]
    },
    {
      "cell_type": "markdown",
      "metadata": {
        "id": "5NptNG4e6uXn"
      },
      "source": [
        "Difference between groups"
      ]
    },
    {
      "cell_type": "code",
      "metadata": {
        "colab": {
          "base_uri": "https://localhost:8080/"
        },
        "id": "IdJ5bZ9hyhtR",
        "outputId": "6dc810fc-efd7-4442-ddbc-b9e369a9408d"
      },
      "source": [
        "%%R\n",
        "res.aov <- anova_test(data=df, dv=R, wid=mouse, between=group, within=c(test,output))\n",
        "get_anova_table(res.aov)"
      ],
      "execution_count": null,
      "outputs": [
        {
          "output_type": "stream",
          "text": [
            "ANOVA Table (type III tests)\n",
            "\n",
            "             Effect DFn DFd      F     p p<.05   ges\n",
            "1             group   1   2 14.362 0.063       0.750\n",
            "2              test   3   6  0.181 0.905       0.033\n",
            "3            output   2   4 12.800 0.018     * 0.220\n",
            "4        group:test   3   6  2.636 0.144       0.330\n",
            "5      group:output   2   4  0.881 0.482       0.019\n",
            "6       test:output   6  12  2.325 0.101       0.161\n",
            "7 group:test:output   6  12  1.413 0.287       0.104\n"
          ],
          "name": "stdout"
        }
      ]
    },
    {
      "cell_type": "markdown",
      "metadata": {
        "id": "Jwax5dvNyhtS"
      },
      "source": [
        "Compute simple simple comparisons"
      ]
    },
    {
      "cell_type": "code",
      "metadata": {
        "colab": {
          "base_uri": "https://localhost:8080/"
        },
        "id": "lWZ03p5jyhtT",
        "outputId": "a51a26d2-c0ec-4792-8a93-e3e4c88f3088"
      },
      "source": [
        "%%R\n",
        "pwc <- df %>%\n",
        "  group_by(test,output) %>%\n",
        "  tukey_hsd(R ~ group, p.adjust.method = \"bonferroni\") %>%\n",
        "  select(-null.value,-estimate) # Remove details\n",
        "pwc"
      ],
      "execution_count": null,
      "outputs": [
        {
          "output_type": "stream",
          "text": [
            "# A tibble: 12 x 9\n",
            "   test  output  term  group1 group2 conf.low conf.high    p.adj p.adj.signif\n",
            "   <fct> <fct>   <chr> <chr>  <chr>     <dbl>     <dbl>    <dbl> <chr>       \n",
            " 1 APT   DRN.LHb group GCaMP  eYFP     -0.817   -0.343  0.000482 ***         \n",
            " 2 APT   DRN.VTA group GCaMP  eYFP     -0.624   -0.124  0.00866  **          \n",
            " 3 APT   VTA.LHb group GCaMP  eYFP     -0.763   -0.0846 0.0256   *           \n",
            " 4 OFT   DRN.LHb group GCaMP  eYFP     -0.519   -0.176  0.00496  **          \n",
            " 5 OFT   DRN.VTA group GCaMP  eYFP     -0.626   -0.120  0.0102   *           \n",
            " 6 OFT   VTA.LHb group GCaMP  eYFP     -0.857    0.0939 0.0746   ns          \n",
            " 7 SCT   DRN.LHb group GCaMP  eYFP     -0.572    0.205  0.316    ns          \n",
            " 8 SCT   DRN.VTA group GCaMP  eYFP     -0.739   -0.109  0.0134   *           \n",
            " 9 SCT   VTA.LHb group GCaMP  eYFP     -0.426    0.268  0.561    ns          \n",
            "10 TST   DRN.LHb group GCaMP  eYFP     -0.819   -0.476  0.000199 ***         \n",
            "11 TST   DRN.VTA group GCaMP  eYFP     -0.896   -0.472  0.000219 ***         \n",
            "12 TST   VTA.LHb group GCaMP  eYFP     -0.997   -0.325  0.00824  **          \n"
          ],
          "name": "stdout"
        }
      ]
    },
    {
      "cell_type": "code",
      "metadata": {
        "colab": {
          "base_uri": "https://localhost:8080/"
        },
        "id": "v0PPkZBH2GRR",
        "outputId": "605ea2d6-315d-4199-a98e-e8229dbdc3da"
      },
      "source": [
        "%%R\n",
        "pwc <- df %>%\n",
        "  group_by(group,output) %>%\n",
        "  tukey_hsd(R ~ test, paired=TRUE, p.adjust.method = \"bonferroni\") %>%\n",
        "  select(-null.value,-estimate) # Remove details\n",
        "print(pwc,n=36)"
      ],
      "execution_count": null,
      "outputs": [
        {
          "output_type": "stream",
          "text": [
            "# A tibble: 36 x 9\n",
            "   output  group term  group1 group2 conf.low conf.high   p.adj p.adj.signif\n",
            "   <fct>   <fct> <chr> <chr>  <chr>     <dbl>     <dbl>   <dbl> <chr>       \n",
            " 1 DRN.LHb GCaMP test  APT    OFT     -0.264     0.163  0.912   ns          \n",
            " 2 DRN.LHb GCaMP test  APT    SCT     -0.266     0.0644 0.352   ns          \n",
            " 3 DRN.LHb GCaMP test  APT    TST     -0.0338    0.364  0.128   ns          \n",
            " 4 DRN.LHb GCaMP test  OFT    SCT     -0.257     0.156  0.905   ns          \n",
            " 5 DRN.LHb GCaMP test  OFT    TST     -0.0183    0.449  0.0782  ns          \n",
            " 6 DRN.LHb GCaMP test  SCT    TST      0.0750    0.457  0.00418 **          \n",
            " 7 DRN.VTA GCaMP test  APT    OFT     -0.268     0.0809 0.471   ns          \n",
            " 8 DRN.VTA GCaMP test  APT    SCT     -0.173     0.147  0.996   ns          \n",
            " 9 DRN.VTA GCaMP test  APT    TST     -0.106     0.258  0.671   ns          \n",
            "10 DRN.VTA GCaMP test  OFT    SCT     -0.0853    0.247  0.552   ns          \n",
            "11 DRN.VTA GCaMP test  OFT    TST     -0.0184    0.356  0.0882  ns          \n",
            "12 DRN.VTA GCaMP test  SCT    TST     -0.0857    0.262  0.517   ns          \n",
            "13 VTA.LHb GCaMP test  APT    OFT     -0.0804    0.524  0.171   ns          \n",
            "14 VTA.LHb GCaMP test  APT    SCT     -0.254     0.240  1       ns          \n",
            "15 VTA.LHb GCaMP test  APT    TST      0.0341    0.567  0.0275  *           \n",
            "16 VTA.LHb GCaMP test  OFT    SCT     -0.531     0.0734 0.154   ns          \n",
            "17 VTA.LHb GCaMP test  OFT    TST     -0.240     0.397  0.865   ns          \n",
            "18 VTA.LHb GCaMP test  SCT    TST      0.0411    0.574  0.0243  *           \n",
            "19 DRN.LHb eYFP  test  APT    OFT     -0.985     1.35   0.915   ns          \n",
            "20 DRN.LHb eYFP  test  APT    SCT     -0.872     1.46   0.744   ns          \n",
            "21 DRN.LHb eYFP  test  APT    TST     -1.07      1.27   0.984   ns          \n",
            "22 DRN.LHb eYFP  test  OFT    SCT     -1.05      1.28   0.977   ns          \n",
            "23 DRN.LHb eYFP  test  OFT    TST     -1.25      1.08   0.99    ns          \n",
            "24 DRN.LHb eYFP  test  SCT    TST     -1.36      0.970  0.897   ns          \n",
            "25 DRN.VTA eYFP  test  APT    OFT     -1.14      0.959  0.982   ns          \n",
            "26 DRN.VTA eYFP  test  APT    SCT     -1.11      0.989  0.994   ns          \n",
            "27 DRN.VTA eYFP  test  APT    TST     -1.29      0.817  0.803   ns          \n",
            "28 DRN.VTA eYFP  test  OFT    SCT     -1.02      1.08   0.999   ns          \n",
            "29 DRN.VTA eYFP  test  OFT    TST     -1.19      0.909  0.941   ns          \n",
            "30 DRN.VTA eYFP  test  SCT    TST     -1.22      0.879  0.905   ns          \n",
            "31 VTA.LHb eYFP  test  APT    OFT     -0.427     0.954  0.489   ns          \n",
            "32 VTA.LHb eYFP  test  APT    SCT     -0.353     1.03   0.325   ns          \n",
            "33 VTA.LHb eYFP  test  APT    TST     -0.627     0.754  0.98    ns          \n",
            "34 VTA.LHb eYFP  test  OFT    SCT     -0.616     0.764  0.969   ns          \n",
            "35 VTA.LHb eYFP  test  OFT    TST     -0.891     0.490  0.668   ns          \n",
            "36 VTA.LHb eYFP  test  SCT    TST     -0.964     0.416  0.462   ns          \n"
          ],
          "name": "stdout"
        }
      ]
    },
    {
      "cell_type": "code",
      "metadata": {
        "colab": {
          "base_uri": "https://localhost:8080/"
        },
        "id": "ep19rY_d2GZo",
        "outputId": "0a930520-d7a7-42fc-eeca-bca2ef0c2553"
      },
      "source": [
        "%%R\n",
        "pwc <- df %>%\n",
        "  group_by(group,test) %>%\n",
        "  tukey_hsd(R ~ output, paired=TRUE, p.adjust.method = \"bonferroni\") %>%\n",
        "  select(-null.value,-estimate) # Remove details\n",
        "print(pwc,n=24)"
      ],
      "execution_count": null,
      "outputs": [
        {
          "output_type": "stream",
          "text": [
            "# A tibble: 24 x 9\n",
            "   test  group term   group1  group2  conf.low conf.high   p.adj p.adj.signif\n",
            "   <fct> <fct> <chr>  <chr>   <chr>      <dbl>     <dbl>   <dbl> <chr>       \n",
            " 1 APT   GCaMP output DRN.LHb DRN.VTA -0.00501    0.335  0.0579  ns          \n",
            " 2 APT   GCaMP output DRN.LHb VTA.LHb -0.280      0.137  0.659   ns          \n",
            " 3 APT   GCaMP output DRN.VTA VTA.LHb -0.445     -0.0283 0.0249  *           \n",
            " 4 OFT   GCaMP output DRN.LHb DRN.VTA -0.0836     0.328  0.279   ns          \n",
            " 5 OFT   GCaMP output DRN.LHb VTA.LHb -0.0838     0.485  0.18    ns          \n",
            " 6 OFT   GCaMP output DRN.VTA VTA.LHb -0.185      0.342  0.702   ns          \n",
            " 7 SCT   GCaMP output DRN.LHb DRN.VTA  0.114      0.393  0.00046 ***         \n",
            " 8 SCT   GCaMP output DRN.LHb VTA.LHb -0.162      0.207  0.95    ns          \n",
            " 9 SCT   GCaMP output DRN.VTA VTA.LHb -0.416     -0.0465 0.0127  *           \n",
            "10 TST   GCaMP output DRN.LHb DRN.VTA -0.0965     0.248  0.484   ns          \n",
            "11 TST   GCaMP output DRN.LHb VTA.LHb -0.144      0.272  0.692   ns          \n",
            "12 TST   GCaMP output DRN.VTA VTA.LHb -0.213      0.189  0.986   ns          \n",
            "13 APT   eYFP  output DRN.LHb DRN.VTA -0.246      0.989  0.166   ns          \n",
            "14 APT   eYFP  output DRN.LHb VTA.LHb -0.532      0.703  0.841   ns          \n",
            "15 APT   eYFP  output DRN.VTA VTA.LHb -0.904      0.331  0.274   ns          \n",
            "16 OFT   eYFP  output DRN.LHb DRN.VTA -0.291      0.486  0.604   ns          \n",
            "17 OFT   eYFP  output DRN.LHb VTA.LHb -0.222      0.555  0.313   ns          \n",
            "18 OFT   eYFP  output DRN.VTA VTA.LHb -0.319      0.458  0.757   ns          \n",
            "19 SCT   eYFP  output DRN.LHb DRN.VTA -1.86       1.88   1       ns          \n",
            "20 SCT   eYFP  output DRN.LHb VTA.LHb -1.74       2.00   0.957   ns          \n",
            "21 SCT   eYFP  output DRN.VTA VTA.LHb -1.76       1.98   0.965   ns          \n",
            "22 TST   eYFP  output DRN.LHb DRN.VTA -0.281      0.359  0.873   ns          \n",
            "23 TST   eYFP  output DRN.LHb VTA.LHb -0.270      0.371  0.801   ns          \n",
            "24 TST   eYFP  output DRN.VTA VTA.LHb -0.309      0.332  0.988   ns          \n"
          ],
          "name": "stdout"
        }
      ]
    },
    {
      "cell_type": "markdown",
      "metadata": {
        "id": "y-Rp6P9Ow9nZ"
      },
      "source": [
        "# Functions"
      ]
    },
    {
      "cell_type": "code",
      "metadata": {
        "id": "efhtms8akfyR"
      },
      "source": [
        "%%R\n",
        "# Multiple plot function\n",
        "#\n",
        "# ggplot objects can be passed in ..., or to plotlist (as a list of ggplot objects)\n",
        "# - cols:   Number of columns in layout\n",
        "# - layout: A matrix specifying the layout. If present, 'cols' is ignored.\n",
        "#\n",
        "# If the layout is something like matrix(c(1,2,3,3), nrow=2, byrow=TRUE),\n",
        "# then plot 1 will go in the upper left, 2 will go in the upper right, and\n",
        "# 3 will go all the way across the bottom.\n",
        "#\n",
        "multiplot <- function(..., plotlist=NULL, file, cols=1, layout=NULL) {\n",
        "  library(grid)\n",
        "\n",
        "  # Make a list from the ... arguments and plotlist\n",
        "  plots <- c(list(...), plotlist)\n",
        "\n",
        "  numPlots = length(plots)\n",
        "\n",
        "  # If layout is NULL, then use 'cols' to determine layout\n",
        "  if (is.null(layout)) {\n",
        "    # Make the panel\n",
        "    # ncol: Number of columns of plots\n",
        "    # nrow: Number of rows needed, calculated from # of cols\n",
        "    layout <- matrix(seq(1, cols * ceiling(numPlots/cols)),\n",
        "                    ncol = cols, nrow = ceiling(numPlots/cols))\n",
        "  }\n",
        "\n",
        " if (numPlots==1) {\n",
        "    print(plots[[1]])\n",
        "\n",
        "  } else {\n",
        "    # Set up the page\n",
        "    grid.newpage()\n",
        "    pushViewport(viewport(layout = grid.layout(nrow(layout), ncol(layout))))\n",
        "\n",
        "    # Make each plot, in the correct location\n",
        "    for (i in 1:numPlots) {\n",
        "      # Get the i,j matrix positions of the regions that contain this subplot\n",
        "      matchidx <- as.data.frame(which(layout == i, arr.ind = TRUE))\n",
        "\n",
        "      print(plots[[i]], vp = viewport(layout.pos.row = matchidx$row,\n",
        "                                      layout.pos.col = matchidx$col))\n",
        "    }\n",
        "  }\n",
        "}"
      ],
      "execution_count": null,
      "outputs": []
    }
  ]
}