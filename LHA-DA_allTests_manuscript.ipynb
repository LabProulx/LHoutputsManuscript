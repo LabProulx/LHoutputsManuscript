{
  "nbformat": 4,
  "nbformat_minor": 0,
  "metadata": {
    "colab": {
      "name": "LHA-DA_allTests_manuscript.ipynb",
      "provenance": [],
      "collapsed_sections": [
        "8O6caO1u_B5D",
        "7AGC7CmbJpCM",
        "Z1KrnMnWJoHa",
        "Gc3Yd2gEJn4b",
        "FA6PbvQ5Jntp",
        "VhSYLd5cGvFZ",
        "uDdXR2kG9jKv"
      ],
      "authorship_tag": "ABX9TyMeAspt5Lpq1tjq8cbcNAHr",
      "include_colab_link": true
    },
    "kernelspec": {
      "name": "python3",
      "display_name": "Python 3"
    }
  },
  "cells": [
    {
      "cell_type": "markdown",
      "metadata": {
        "id": "view-in-github",
        "colab_type": "text"
      },
      "source": [
        "<a href=\"https://colab.research.google.com/github/katemartian/FiberPhotometryDataAnalysis/blob/master/LHA-DA_allTests_manuscript.ipynb\" target=\"_parent\"><img src=\"https://colab.research.google.com/assets/colab-badge.svg\" alt=\"Open In Colab\"/></a>"
      ]
    },
    {
      "cell_type": "markdown",
      "metadata": {
        "id": "WcH2z-BS4W05"
      },
      "source": [
        "<h1><center> LHA-DA All tests"
      ]
    },
    {
      "cell_type": "code",
      "metadata": {
        "id": "5Lej-JJWr_zy",
        "colab": {
          "base_uri": "https://localhost:8080/"
        },
        "outputId": "47bc88f0-b32e-4325-9134-a4f0591591a6"
      },
      "source": [
        "from google.colab import drive\n",
        "drive.mount('/content/drive')"
      ],
      "execution_count": 1,
      "outputs": [
        {
          "output_type": "stream",
          "text": [
            "Mounted at /content/drive\n"
          ],
          "name": "stdout"
        }
      ]
    },
    {
      "cell_type": "code",
      "metadata": {
        "id": "CQJxdEY-xisY",
        "colab": {
          "base_uri": "https://localhost:8080/"
        },
        "outputId": "61e4e888-d402-449c-f8c9-7dbe56bc9333"
      },
      "source": [
        "%cd /content/drive/My\\ Drive/!lab/!FP/LHA Manuscript/"
      ],
      "execution_count": 2,
      "outputs": [
        {
          "output_type": "stream",
          "text": [
            "/content/drive/My Drive/!lab/!FP/LHA Manuscript\n"
          ],
          "name": "stdout"
        }
      ]
    },
    {
      "cell_type": "code",
      "metadata": {
        "id": "Yg4AAsRgsyNv",
        "colab": {
          "base_uri": "https://localhost:8080/"
        },
        "outputId": "3a7209df-afbe-43c4-ef37-c65f9c7b9f85"
      },
      "source": [
        "%run /content/drive/My\\ Drive/!lab/FiberPhotometryDataAnalysis.ipynb"
      ],
      "execution_count": 3,
      "outputs": [
        {
          "output_type": "stream",
          "text": [
            "All Fiber Photometry functions are ready to use\n"
          ],
          "name": "stdout"
        }
      ]
    },
    {
      "cell_type": "code",
      "metadata": {
        "id": "ACRf_NWCqj3O"
      },
      "source": [
        "mice = ['VD10','VD11','VD12','VD13','VD14']\n",
        "outputs = ['LHA-VTA','DA VTA','LHA-DRN','DA VTA-DRN']\n",
        "tests = ['APT','SCT','OFT','TST']"
      ],
      "execution_count": 4,
      "outputs": []
    },
    {
      "cell_type": "markdown",
      "metadata": {
        "id": "8O6caO1u_B5D"
      },
      "source": [
        "# Stats"
      ]
    },
    {
      "cell_type": "code",
      "metadata": {
        "id": "8AUGMpOsUet9",
        "colab": {
          "base_uri": "https://localhost:8080/"
        },
        "outputId": "e56a8271-9824-4e9c-a8d5-0fd393074734"
      },
      "source": [
        "%load_ext rpy2.ipython"
      ],
      "execution_count": 5,
      "outputs": [
        {
          "output_type": "stream",
          "text": [
            "/usr/local/lib/python3.6/dist-packages/rpy2/robjects/pandas2ri.py:14: FutureWarning: pandas.core.index is deprecated and will be removed in a future version.  The public classes are available in the top-level namespace.\n",
            "  from pandas.core.index import Index as PandasIndex\n",
            "/usr/local/lib/python3.6/dist-packages/rpy2/robjects/pandas2ri.py:34: UserWarning: pandas >= 1.0 is not supported.\n",
            "  warnings.warn('pandas >= 1.0 is not supported.')\n"
          ],
          "name": "stderr"
        }
      ]
    },
    {
      "cell_type": "code",
      "metadata": {
        "id": "a_l-62rjW5-N",
        "colab": {
          "base_uri": "https://localhost:8080/"
        },
        "outputId": "6af9a4e0-06eb-4725-9b73-dc7dc917c256"
      },
      "source": [
        "%%R\n",
        "install.packages(\"nlme\")\n",
        "install.packages(\"multcomp\")"
      ],
      "execution_count": 6,
      "outputs": [
        {
          "output_type": "stream",
          "text": [
            "R[write to console]: Installing package into ‘/usr/local/lib/R/site-library’\n",
            "(as ‘lib’ is unspecified)\n",
            "\n",
            "R[write to console]: trying URL 'https://cran.rstudio.com/src/contrib/nlme_3.1-150.tar.gz'\n",
            "\n",
            "R[write to console]: Content type 'application/x-gzip'\n",
            "R[write to console]:  length 789889 bytes (771 KB)\n",
            "\n",
            "R[write to console]: =\n",
            "R[write to console]: =\n",
            "R[write to console]: =\n",
            "R[write to console]: =\n",
            "R[write to console]: =\n",
            "R[write to console]: =\n",
            "R[write to console]: =\n",
            "R[write to console]: =\n",
            "R[write to console]: =\n",
            "R[write to console]: =\n",
            "R[write to console]: =\n",
            "R[write to console]: =\n",
            "R[write to console]: =\n",
            "R[write to console]: =\n",
            "R[write to console]: =\n",
            "R[write to console]: =\n",
            "R[write to console]: =\n",
            "R[write to console]: =\n",
            "R[write to console]: =\n",
            "R[write to console]: =\n",
            "R[write to console]: =\n",
            "R[write to console]: =\n",
            "R[write to console]: =\n",
            "R[write to console]: =\n",
            "R[write to console]: =\n",
            "R[write to console]: =\n",
            "R[write to console]: =\n",
            "R[write to console]: =\n",
            "R[write to console]: =\n",
            "R[write to console]: =\n",
            "R[write to console]: =\n",
            "R[write to console]: =\n",
            "R[write to console]: =\n",
            "R[write to console]: =\n",
            "R[write to console]: =\n",
            "R[write to console]: =\n",
            "R[write to console]: =\n",
            "R[write to console]: =\n",
            "R[write to console]: =\n",
            "R[write to console]: =\n",
            "R[write to console]: =\n",
            "R[write to console]: =\n",
            "R[write to console]: =\n",
            "R[write to console]: =\n",
            "R[write to console]: =\n",
            "R[write to console]: =\n",
            "R[write to console]: =\n",
            "R[write to console]: =\n",
            "R[write to console]: =\n",
            "R[write to console]: =\n",
            "R[write to console]: \n",
            "\n",
            "R[write to console]: downloaded 771 KB\n",
            "\n",
            "\n",
            "R[write to console]: \n",
            "\n",
            "R[write to console]: \n",
            "R[write to console]: The downloaded source packages are in\n",
            "\t‘/tmp/Rtmp1dOmoF/downloaded_packages’\n",
            "R[write to console]: \n",
            "R[write to console]: \n",
            "\n",
            "R[write to console]: Installing package into ‘/usr/local/lib/R/site-library’\n",
            "(as ‘lib’ is unspecified)\n",
            "\n",
            "R[write to console]: also installing the dependencies ‘zoo’, ‘mvtnorm’, ‘TH.data’, ‘sandwich’\n",
            "\n",
            "\n",
            "R[write to console]: trying URL 'https://cran.rstudio.com/src/contrib/zoo_1.8-8.tar.gz'\n",
            "\n",
            "R[write to console]: Content type 'application/x-gzip'\n",
            "R[write to console]:  length 849487 bytes (829 KB)\n",
            "\n",
            "R[write to console]: =\n",
            "R[write to console]: =\n",
            "R[write to console]: =\n",
            "R[write to console]: =\n",
            "R[write to console]: =\n",
            "R[write to console]: =\n",
            "R[write to console]: =\n",
            "R[write to console]: =\n",
            "R[write to console]: =\n",
            "R[write to console]: =\n",
            "R[write to console]: =\n",
            "R[write to console]: =\n",
            "R[write to console]: =\n",
            "R[write to console]: =\n",
            "R[write to console]: =\n",
            "R[write to console]: =\n",
            "R[write to console]: =\n",
            "R[write to console]: =\n",
            "R[write to console]: =\n",
            "R[write to console]: =\n",
            "R[write to console]: =\n",
            "R[write to console]: =\n",
            "R[write to console]: =\n",
            "R[write to console]: =\n",
            "R[write to console]: =\n",
            "R[write to console]: =\n",
            "R[write to console]: =\n",
            "R[write to console]: =\n",
            "R[write to console]: =\n",
            "R[write to console]: =\n",
            "R[write to console]: =\n",
            "R[write to console]: =\n",
            "R[write to console]: =\n",
            "R[write to console]: =\n",
            "R[write to console]: =\n",
            "R[write to console]: =\n",
            "R[write to console]: =\n",
            "R[write to console]: =\n",
            "R[write to console]: =\n",
            "R[write to console]: =\n",
            "R[write to console]: =\n",
            "R[write to console]: =\n",
            "R[write to console]: =\n",
            "R[write to console]: =\n",
            "R[write to console]: =\n",
            "R[write to console]: =\n",
            "R[write to console]: =\n",
            "R[write to console]: =\n",
            "R[write to console]: =\n",
            "R[write to console]: =\n",
            "R[write to console]: \n",
            "\n",
            "R[write to console]: downloaded 829 KB\n",
            "\n",
            "\n",
            "R[write to console]: trying URL 'https://cran.rstudio.com/src/contrib/mvtnorm_1.1-1.tar.gz'\n",
            "\n",
            "R[write to console]: Content type 'application/x-gzip'\n",
            "R[write to console]:  length 163902 bytes (160 KB)\n",
            "\n",
            "R[write to console]: =\n",
            "R[write to console]: =\n",
            "R[write to console]: =\n",
            "R[write to console]: =\n",
            "R[write to console]: =\n",
            "R[write to console]: =\n",
            "R[write to console]: =\n",
            "R[write to console]: =\n",
            "R[write to console]: =\n",
            "R[write to console]: =\n",
            "R[write to console]: =\n",
            "R[write to console]: =\n",
            "R[write to console]: =\n",
            "R[write to console]: =\n",
            "R[write to console]: =\n",
            "R[write to console]: =\n",
            "R[write to console]: =\n",
            "R[write to console]: =\n",
            "R[write to console]: =\n",
            "R[write to console]: =\n",
            "R[write to console]: =\n",
            "R[write to console]: =\n",
            "R[write to console]: =\n",
            "R[write to console]: =\n",
            "R[write to console]: =\n",
            "R[write to console]: =\n",
            "R[write to console]: =\n",
            "R[write to console]: =\n",
            "R[write to console]: =\n",
            "R[write to console]: =\n",
            "R[write to console]: =\n",
            "R[write to console]: =\n",
            "R[write to console]: =\n",
            "R[write to console]: =\n",
            "R[write to console]: =\n",
            "R[write to console]: =\n",
            "R[write to console]: =\n",
            "R[write to console]: =\n",
            "R[write to console]: =\n",
            "R[write to console]: =\n",
            "R[write to console]: =\n",
            "R[write to console]: =\n",
            "R[write to console]: =\n",
            "R[write to console]: =\n",
            "R[write to console]: =\n",
            "R[write to console]: =\n",
            "R[write to console]: =\n",
            "R[write to console]: =\n",
            "R[write to console]: =\n",
            "R[write to console]: =\n",
            "R[write to console]: \n",
            "\n",
            "R[write to console]: downloaded 160 KB\n",
            "\n",
            "\n",
            "R[write to console]: trying URL 'https://cran.rstudio.com/src/contrib/TH.data_1.0-10.tar.gz'\n",
            "\n",
            "R[write to console]: Content type 'application/x-gzip'\n",
            "R[write to console]:  length 8238275 bytes (7.9 MB)\n",
            "\n",
            "R[write to console]: =\n",
            "R[write to console]: =\n",
            "R[write to console]: =\n",
            "R[write to console]: =\n",
            "R[write to console]: =\n",
            "R[write to console]: =\n",
            "R[write to console]: =\n",
            "R[write to console]: =\n",
            "R[write to console]: =\n",
            "R[write to console]: =\n",
            "R[write to console]: =\n",
            "R[write to console]: =\n",
            "R[write to console]: =\n",
            "R[write to console]: =\n",
            "R[write to console]: =\n",
            "R[write to console]: =\n",
            "R[write to console]: =\n",
            "R[write to console]: =\n",
            "R[write to console]: =\n",
            "R[write to console]: =\n",
            "R[write to console]: =\n",
            "R[write to console]: =\n",
            "R[write to console]: =\n",
            "R[write to console]: =\n",
            "R[write to console]: =\n",
            "R[write to console]: =\n",
            "R[write to console]: =\n",
            "R[write to console]: =\n",
            "R[write to console]: =\n",
            "R[write to console]: =\n",
            "R[write to console]: =\n",
            "R[write to console]: =\n",
            "R[write to console]: =\n",
            "R[write to console]: =\n",
            "R[write to console]: =\n",
            "R[write to console]: =\n",
            "R[write to console]: =\n",
            "R[write to console]: =\n",
            "R[write to console]: =\n",
            "R[write to console]: =\n",
            "R[write to console]: =\n",
            "R[write to console]: =\n",
            "R[write to console]: =\n",
            "R[write to console]: =\n",
            "R[write to console]: =\n",
            "R[write to console]: =\n",
            "R[write to console]: =\n",
            "R[write to console]: =\n",
            "R[write to console]: =\n",
            "R[write to console]: =\n",
            "R[write to console]: \n",
            "\n",
            "R[write to console]: downloaded 7.9 MB\n",
            "\n",
            "\n",
            "R[write to console]: trying URL 'https://cran.rstudio.com/src/contrib/sandwich_3.0-0.tar.gz'\n",
            "\n",
            "R[write to console]: Content type 'application/x-gzip'\n",
            "R[write to console]:  length 1445320 bytes (1.4 MB)\n",
            "\n",
            "R[write to console]: =\n",
            "R[write to console]: =\n",
            "R[write to console]: =\n",
            "R[write to console]: =\n",
            "R[write to console]: =\n",
            "R[write to console]: =\n",
            "R[write to console]: =\n",
            "R[write to console]: =\n",
            "R[write to console]: =\n",
            "R[write to console]: =\n",
            "R[write to console]: =\n",
            "R[write to console]: =\n",
            "R[write to console]: =\n",
            "R[write to console]: =\n",
            "R[write to console]: =\n",
            "R[write to console]: =\n",
            "R[write to console]: =\n",
            "R[write to console]: =\n",
            "R[write to console]: =\n",
            "R[write to console]: =\n",
            "R[write to console]: =\n",
            "R[write to console]: =\n",
            "R[write to console]: =\n",
            "R[write to console]: =\n",
            "R[write to console]: =\n",
            "R[write to console]: =\n",
            "R[write to console]: =\n",
            "R[write to console]: =\n",
            "R[write to console]: =\n",
            "R[write to console]: =\n",
            "R[write to console]: =\n",
            "R[write to console]: =\n",
            "R[write to console]: =\n",
            "R[write to console]: =\n",
            "R[write to console]: =\n",
            "R[write to console]: =\n",
            "R[write to console]: =\n",
            "R[write to console]: =\n",
            "R[write to console]: =\n",
            "R[write to console]: =\n",
            "R[write to console]: =\n",
            "R[write to console]: =\n",
            "R[write to console]: =\n",
            "R[write to console]: =\n",
            "R[write to console]: =\n",
            "R[write to console]: =\n",
            "R[write to console]: =\n",
            "R[write to console]: =\n",
            "R[write to console]: =\n",
            "R[write to console]: =\n",
            "R[write to console]: \n",
            "\n",
            "R[write to console]: downloaded 1.4 MB\n",
            "\n",
            "\n",
            "R[write to console]: trying URL 'https://cran.rstudio.com/src/contrib/multcomp_1.4-15.tar.gz'\n",
            "\n",
            "R[write to console]: Content type 'application/x-gzip'\n",
            "R[write to console]:  length 613592 bytes (599 KB)\n",
            "\n",
            "R[write to console]: =\n",
            "R[write to console]: =\n",
            "R[write to console]: =\n",
            "R[write to console]: =\n",
            "R[write to console]: =\n",
            "R[write to console]: =\n",
            "R[write to console]: =\n",
            "R[write to console]: =\n",
            "R[write to console]: =\n",
            "R[write to console]: =\n",
            "R[write to console]: =\n",
            "R[write to console]: =\n",
            "R[write to console]: =\n",
            "R[write to console]: =\n",
            "R[write to console]: =\n",
            "R[write to console]: =\n",
            "R[write to console]: =\n",
            "R[write to console]: =\n",
            "R[write to console]: =\n",
            "R[write to console]: =\n",
            "R[write to console]: =\n",
            "R[write to console]: =\n",
            "R[write to console]: =\n",
            "R[write to console]: =\n",
            "R[write to console]: =\n",
            "R[write to console]: =\n",
            "R[write to console]: =\n",
            "R[write to console]: =\n",
            "R[write to console]: =\n",
            "R[write to console]: =\n",
            "R[write to console]: =\n",
            "R[write to console]: =\n",
            "R[write to console]: =\n",
            "R[write to console]: =\n",
            "R[write to console]: =\n",
            "R[write to console]: =\n",
            "R[write to console]: =\n",
            "R[write to console]: =\n",
            "R[write to console]: =\n",
            "R[write to console]: =\n",
            "R[write to console]: =\n",
            "R[write to console]: =\n",
            "R[write to console]: =\n",
            "R[write to console]: =\n",
            "R[write to console]: =\n",
            "R[write to console]: =\n",
            "R[write to console]: =\n",
            "R[write to console]: =\n",
            "R[write to console]: =\n",
            "R[write to console]: =\n",
            "R[write to console]: \n",
            "\n",
            "R[write to console]: downloaded 599 KB\n",
            "\n",
            "\n",
            "R[write to console]: \n",
            "\n",
            "R[write to console]: \n",
            "R[write to console]: The downloaded source packages are in\n",
            "\t‘/tmp/Rtmp1dOmoF/downloaded_packages’\n",
            "R[write to console]: \n",
            "R[write to console]: \n",
            "\n"
          ],
          "name": "stderr"
        }
      ]
    },
    {
      "cell_type": "code",
      "metadata": {
        "id": "K8dT63N3WwtF",
        "colab": {
          "base_uri": "https://localhost:8080/"
        },
        "outputId": "2f30f0a5-6847-4dd0-b264-59567bea191d"
      },
      "source": [
        "%%R\n",
        "require(nlme)\n",
        "require(multcomp)"
      ],
      "execution_count": 7,
      "outputs": [
        {
          "output_type": "stream",
          "text": [
            "R[write to console]: Loading required package: nlme\n",
            "\n",
            "R[write to console]: Loading required package: multcomp\n",
            "\n",
            "R[write to console]: Loading required package: mvtnorm\n",
            "\n",
            "R[write to console]: Loading required package: survival\n",
            "\n",
            "R[write to console]: Loading required package: TH.data\n",
            "\n",
            "R[write to console]: Loading required package: MASS\n",
            "\n",
            "R[write to console]: \n",
            "Attaching package: ‘TH.data’\n",
            "\n",
            "\n",
            "R[write to console]: The following object is masked from ‘package:MASS’:\n",
            "\n",
            "    geyser\n",
            "\n",
            "\n"
          ],
          "name": "stderr"
        }
      ]
    },
    {
      "cell_type": "markdown",
      "metadata": {
        "id": "roNSXi_rJgd0"
      },
      "source": [
        "# Save recordings to HDF file"
      ]
    },
    {
      "cell_type": "code",
      "metadata": {
        "id": "FICliDjE307c"
      },
      "source": [
        "folders = {'APT': ['/content/drive/My Drive/!lab/!FP/2019-02-13 VD mice Airpuff/raw/'],\n",
        "           'SCT': ['/content/drive/My Drive/!lab/!FP/2019-02-21 VD mice Sucrose/raw/',\n",
        "                   '/content/drive/My Drive/!lab/!FP/2019-03-01 LRD and VD Sucrose/raw/'],\n",
        "           'OFT': ['/content/drive/My Drive/!lab/!FP/2019-04-11 LRD VD OFT-TST2/raw/'],\n",
        "           'TST': ['/content/drive/My Drive/!lab/!FP/2019-03-26 LRD VD TST/raw/',\n",
        "                   '/content/drive/My Drive/!lab/!FP/2019-04-11 LRD VD OFT-TST2/raw/']}"
      ],
      "execution_count": 8,
      "outputs": []
    },
    {
      "cell_type": "markdown",
      "metadata": {
        "id": "7AGC7CmbJpCM"
      },
      "source": [
        "#### APT"
      ]
    },
    {
      "cell_type": "code",
      "metadata": {
        "id": "a0oEVhKIJuBy"
      },
      "source": [
        "test = 'APT'\n",
        "apt_full_file_names = []\n",
        "for folder in folders[test]:\n",
        "  files = find_files(folder,['green'])\n",
        "  for f in files:\n",
        "    mouse = f.split('_')[0]\n",
        "    if mouse in mice:\n",
        "      apt_full_file_names.append(folder+f)\n",
        "#apt_full_file_names"
      ],
      "execution_count": 9,
      "outputs": []
    },
    {
      "cell_type": "code",
      "metadata": {
        "id": "AT4ntnJPMkdH",
        "colab": {
          "base_uri": "https://localhost:8080/"
        },
        "outputId": "012861e1-f397-4402-8e20-e96d00733c6d"
      },
      "source": [
        "for file_ in apt_full_file_names:\n",
        "\n",
        "  file_split = file_.split('/') \n",
        "  name = file_split[-1]\n",
        "  folder = '/'.join(file_split[:-1])\n",
        "\n",
        "  # Experiment info ------------------------------------------------------------\n",
        "  sepname = name.split('_')      \n",
        "  mouse = sepname[0]\n",
        "  outputs = ['LHA-VTA','DA VTA','LHA-DRN','DA VTA-DRN']\n",
        "  experiment = sepname[4]\n",
        "  if experiment[-1] == 'f':\n",
        "    trial = '1'\n",
        "  else:\n",
        "    trial = experiment[-1]\n",
        " \n",
        "\n",
        " # Red signal\n",
        "  red_name = find_files(folder,[mouse,experiment,'red'])[0]\n",
        "  df_green = pd.read_csv(file_,sep=' ',index_col=False)\n",
        "  df_red = pd.read_csv(folder+'/'+red_name,sep=' ',index_col=False) \n",
        "\n",
        " # Adjust file length\n",
        "  if len(df_green) % 2 != 0:\n",
        "    df_green.drop(df_green.index[-1],inplace=True)\n",
        "    df_red.drop(df_red.index[-1],inplace=True)\n",
        "\n",
        " # Signal ----------------------------------------------------------------------\n",
        "  if mouse == 'VD10':\n",
        "\n",
        "    references = {'LHA-VTA': np.array(df_green.iloc[ ::2,0]),\n",
        "                  'LHA-DRN': np.array(df_green.iloc[ ::2,1])}\n",
        "    signals   =  {'LHA-VTA': np.array(df_green.iloc[1::2,0]),\n",
        "                  'LHA-DRN': np.array(df_green.iloc[1::2,1])}\n",
        "\n",
        "  elif mouse == 'VD11':\n",
        "\n",
        "    references = {'LHA-VTA': np.array(df_green.iloc[ ::2,0]),\n",
        "                  'DA VTA': np.array(df_green.iloc[ ::2,0]),\n",
        "                  'LHA-DRN': np.array(df_green.iloc[ ::2,1]),\n",
        "              'DA VTA-DRN': np.array(df_green.iloc[ ::2,1])}\n",
        "    signals  =  { 'LHA-VTA': np.array(df_green.iloc[1::2,0]),\n",
        "                  'DA VTA': np.array(df_red.iloc[1::2,0]),\n",
        "                  'LHA-DRN': np.array(df_green.iloc[1::2,1]),\n",
        "              'DA VTA-DRN': np.array(df_red.iloc[1::2,1])}\n",
        "\n",
        "  else:\n",
        "\n",
        "    references = {'LHA-VTA': np.array(df_green.iloc[1::2,0]),\n",
        "                  'DA VTA': np.array(df_green.iloc[1::2,0]),\n",
        "                  'LHA-DRN': np.array(df_green.iloc[1::2,1]),\n",
        "              'DA VTA-DRN': np.array(df_green.iloc[1::2,1])}\n",
        "    signals  =  { 'LHA-VTA': np.array(df_green.iloc[ ::2,0]),\n",
        "                  'DA VTA': np.array(df_red.iloc[ ::2,0]),\n",
        "                  'LHA-DRN': np.array(df_green.iloc[ ::2,1]),\n",
        "              'DA VTA-DRN': np.array(df_red.iloc[ ::2,1])}\n",
        "\n",
        " # Time vector\n",
        "  realtime_fp = create_realtime(10,mm=list(df_green['Item4']),ss=list(df_green['Item5']),ms=list(df_green['Item6']))\n",
        "  time_fp = time_to_seconds(realtime_fp, realtime_fp[0])\n",
        "  time_ = time_fp[::2]\n",
        "\n",
        "  # Behavioral events ----------------------------------------------------------\n",
        "  key_name = find_files(folder,[mouse, experiment,'keypress'])[0]\n",
        "  df_key = pd.read_csv(folder+'/'+key_name,sep=' ',index_col=False)\n",
        "  realtime_ap = create_realtime(10,mm=list(df_key.iloc[:,1]),ss=list(df_key.iloc[:,2]),ms=list(df_key.iloc[:,3]))\n",
        "  airpuff = time_to_seconds(realtime_ap,realtime_fp[0])\n",
        "\n",
        "  for i in range(len(airpuff)):\n",
        "    if airpuff[i] < 0:\n",
        "      airpuff[i] = airpuff[i] + 3600\n",
        "\n",
        "  airpuff = np.array(airpuff).reshape(len(airpuff),1)\n",
        "\n",
        "  airpuff = airpuff - 0.5\n",
        "\n",
        "  events = {'airpuff': np.array(airpuff).reshape(len(airpuff),1)}\n",
        "    \n",
        "  raw = FiberPhotometryRecording(signals,references,time_,events,mouse=mouse,test='APT',trial=trial)\n",
        "  raw.saveRecording('LHA-DA.h5')\n",
        "  print(raw.mouse,raw.test,raw.trial)"
      ],
      "execution_count": 10,
      "outputs": [
        {
          "output_type": "stream",
          "text": [
            "VD11 APT 1\n",
            "VD10 APT 1\n",
            "VD14 APT 1\n",
            "VD13 APT 1\n",
            "VD12 APT 1\n"
          ],
          "name": "stdout"
        }
      ]
    },
    {
      "cell_type": "markdown",
      "metadata": {
        "id": "Z1KrnMnWJoHa"
      },
      "source": [
        "#### SCT"
      ]
    },
    {
      "cell_type": "code",
      "metadata": {
        "id": "mW5EUJqRJyqH"
      },
      "source": [
        "test = 'SCT'\n",
        "sct_full_file_names = []\n",
        "for folder in folders[test]:\n",
        "  files = find_files(folder,['green'])\n",
        "  for f in files:\n",
        "    mouse = f.split('_')[0]\n",
        "    if mouse in mice:\n",
        "      sct_full_file_names.append(folder+f)\n",
        "#sct_full_file_names"
      ],
      "execution_count": 20,
      "outputs": []
    },
    {
      "cell_type": "code",
      "metadata": {
        "id": "oGd_2CvUjkM5",
        "colab": {
          "base_uri": "https://localhost:8080/"
        },
        "outputId": "b66d7b7e-1610-4d02-ef88-248b55b3bf4a"
      },
      "source": [
        "for file_ in sct_full_file_names:\n",
        "\n",
        "  file_split = file_.split('/') \n",
        "  name = file_split[-1]\n",
        "  folder = '/'.join(file_split[:-1])\n",
        "\n",
        "  # Experiment info ------------------------------------------------------------\n",
        "  sepname = name.split('_')      \n",
        "  mouse = sepname[0]\n",
        "  experiment = sepname[4]\n",
        "  if experiment[-1] == 'e':\n",
        "    trial = '1'\n",
        "  else:\n",
        "    trial = experiment[-1]\n",
        " \n",
        " # Red signal\n",
        "  red_name = find_files(folder,[mouse,experiment,'red'])[0]\n",
        "  df_green = pd.read_csv(file_,sep=' ',index_col=False)\n",
        "  df_red = pd.read_csv(folder+'/'+red_name,sep=' ',index_col=False) \n",
        "\n",
        " # Adjust file length\n",
        "  if len(df_green) % 2 != 0:\n",
        "    df_green.drop(df_green.index[-1],inplace=True)\n",
        "    df_red.drop(df_red.index[-1],inplace=True)\n",
        "\n",
        " # Signal ----------------------------------------------------------------------\n",
        "  if mouse == 'VD10':\n",
        "\n",
        "    references = {'LHA-VTA': np.array(df_green.iloc[1::2,0]),\n",
        "                  'LHA-DRN': np.array(df_green.iloc[1::2,1])}\n",
        "    signals  =  { 'LHA-VTA': np.array(df_green.iloc[ ::2,0]),\n",
        "                  'LHA-DRN': np.array(df_green.iloc[ ::2,1])}\n",
        "\n",
        "  elif [mouse,trial] in [['VD12','1']]:\n",
        "\n",
        "    references = {'LHA-VTA': np.array(df_green.iloc[ ::2,0]),\n",
        "                   'DA VTA': np.array(df_green.iloc[ ::2,0]),\n",
        "                  'LHA-DRN': np.array(df_green.iloc[ ::2,1]),\n",
        "               'DA VTA-DRN': np.array(df_green.iloc[ ::2,1])}\n",
        "    signals  =  { 'LHA-VTA': np.array(df_green.iloc[1::2,0]),\n",
        "                   'DA VTA': np.array(df_red.iloc[1::2,0]),\n",
        "                  'LHA-DRN': np.array(df_green.iloc[1::2,1]),\n",
        "               'DA VTA-DRN': np.array(df_red.iloc[1::2,1])}\n",
        "  \n",
        "  else:\n",
        "  \n",
        "    references = {'LHA-VTA': np.array(df_green.iloc[1::2,0]),\n",
        "                   'DA VTA': np.array(df_green.iloc[1::2,0]),\n",
        "                  'LHA-DRN': np.array(df_green.iloc[1::2,1]),\n",
        "               'DA VTA-DRN': np.array(df_green.iloc[1::2,1])}\n",
        "    signals  =  { 'LHA-VTA': np.array(df_green.iloc[ ::2,0]),\n",
        "                   'DA VTA': np.array(df_red.iloc[ ::2,0]),\n",
        "                  'LHA-DRN': np.array(df_green.iloc[ ::2,1]),\n",
        "               'DA VTA-DRN': np.array(df_red.iloc[ ::2,1])}\n",
        " \n",
        " # Anymaze file\n",
        "  name_am = mouse+'_'+experiment+'_anymaze.csv'\n",
        "  df_am = pd.read_csv(folder+'/'+name_am,sep=',',index_col=False)\n",
        "  realtime_am = df_am['Time']\n",
        "  \n",
        " # Time vector\n",
        "  hour = int(realtime_am[0].split(':')[0])\n",
        "  realtime_fp = create_realtime(hour,mm=list(df_green['Item4']),ss=list(df_green['Item5']),ms=list(df_green['Item6']))\n",
        "  time_fp = time_to_seconds(realtime_fp, realtime_fp[0])\n",
        "  time_am = time_to_seconds(realtime_am, realtime_fp[0])\n",
        "  time_ = time_fp[::2]\n",
        "\n",
        "  # Behavioral events ------------------------------------------------------------\n",
        "  \n",
        "  speed = np.array(df_am['Speed'])*100 # cm/s\n",
        "  mobility_score = np.array(df_am['Freezing score'])\n",
        "  movement = np.interp(speed, (np.nanmin(speed),np.nanmax(speed)), (0,1))\n",
        "  # Immobility onsets and offsets\n",
        "  immobility = find_onoffset_immobility(movement, time_am, 1, 0.1, 0.15)\n",
        "\n",
        "  # Sucrose licking measured by Anymaze\n",
        "  licks = df_am['Lick active']\n",
        "  consumption = event_onoffset(licks,time_am)\n",
        "  if len(consumption) != 0:\n",
        "    consumption = adjust_intervals_durations(consumption,1,1)\n",
        "\n",
        "  if len(consumption.shape) == 1:\n",
        "    consumption = consumption.reshape(1,2)\n",
        "    print(consumption)\n",
        "\n",
        "  events = {'consumption': consumption,\n",
        "             'immobility': immobility}\n",
        "\n",
        "  measurements = {'movement': {'time': time_am,\n",
        "                             'values': movement},\n",
        "                     'licks': {'time': time_am,\n",
        "                             'values': licks}}\n",
        "\n",
        "  \n",
        "  raw = FiberPhotometryRecording(signals,references,time_,events,measurements,mouse,'SCT',trial)\n",
        "  raw.saveRecording('LHA-DA.h5')\n",
        "  print(raw.mouse,raw.test,raw.trial)"
      ],
      "execution_count": 21,
      "outputs": [
        {
          "output_type": "stream",
          "text": [
            "VD12 SCT 1\n",
            "VD10 SCT 1\n",
            "VD13 SCT 1\n",
            "VD11 SCT 1\n",
            "VD14 SCT 1\n",
            "VD14 SCT 2\n",
            "VD10 SCT 2\n",
            "VD10 SCT 3\n",
            "VD11 SCT 3\n",
            "VD11 SCT 2\n",
            "VD12 SCT 3\n",
            "VD12 SCT 2\n",
            "VD13 SCT 2\n",
            "VD13 SCT 3\n",
            "VD14 SCT 3\n",
            "VD10 SCT 4\n",
            "VD11 SCT 4\n",
            "VD12 SCT 4\n",
            "VD13 SCT 4\n",
            "VD14 SCT 4\n"
          ],
          "name": "stdout"
        }
      ]
    },
    {
      "cell_type": "markdown",
      "metadata": {
        "id": "Gc3Yd2gEJn4b"
      },
      "source": [
        "#### OFT"
      ]
    },
    {
      "cell_type": "code",
      "metadata": {
        "id": "mOIUWnz4K6DL"
      },
      "source": [
        "test = 'OFT'\n",
        "oft_full_file_names = []\n",
        "for folder in folders[test]:\n",
        "  files = find_files(folder,['green',test])\n",
        "  for f in files:\n",
        "    mouse = f.split('_')[0]\n",
        "    if mouse in mice:\n",
        "      oft_full_file_names.append(folder+f)\n",
        "#oft_full_file_names"
      ],
      "execution_count": 22,
      "outputs": []
    },
    {
      "cell_type": "code",
      "metadata": {
        "id": "HEY9wfE6i2X-",
        "colab": {
          "base_uri": "https://localhost:8080/"
        },
        "outputId": "490318fa-e3aa-418e-e5b4-c37751464d62"
      },
      "source": [
        "for file_ in oft_full_file_names:\n",
        "\n",
        "  file_split = file_.split('/') \n",
        "  name = file_split[-1]\n",
        "  folder = '/'.join(file_split[:-1])\n",
        "\n",
        "  # Experiment info ------------------------------------------------------------\n",
        "  sepname = name.split('_')      \n",
        "  mouse = sepname[0]\n",
        "  experiment = sepname[4]\n",
        "  if experiment[-1] == 'T':\n",
        "    trial = '1'\n",
        "  else:\n",
        "    trial = experiment[-1]\n",
        " \n",
        " # Red signal\n",
        "  red_name = find_files(folder,[mouse,experiment,'red'])[0]\n",
        "  df_green = pd.read_csv(file_,sep=' ',index_col=False)\n",
        "  df_red = pd.read_csv(folder+'/'+red_name,sep=' ',index_col=False) \n",
        "\n",
        " # Adjust file length\n",
        "  if len(df_green) % 2 != 0:\n",
        "    df_green.drop(df_green.index[-1],inplace=True)\n",
        "    df_red.drop(df_red.index[-1],inplace=True)\n",
        "\n",
        " # Signal ----------------------------------------------------------------------\n",
        "  if mouse == 'VD10':\n",
        "\n",
        "    references = {'LHA-VTA': np.array(df_green.iloc[1::2,0]),\n",
        "                  'LHA-DRN': np.array(df_green.iloc[1::2,1])}\n",
        "    signals  =  { 'LHA-VTA': np.array(df_green.iloc[ ::2,0]),\n",
        "                  'LHA-DRN': np.array(df_green.iloc[ ::2,1])}\n",
        "\n",
        "  else:\n",
        "\n",
        "    references = {'LHA-VTA': np.array(df_green.iloc[1::2,0]),\n",
        "                   'DA VTA': np.array(df_green.iloc[1::2,0]),\n",
        "                  'LHA-DRN': np.array(df_green.iloc[1::2,1]),\n",
        "               'DA VTA-DRN': np.array(df_green.iloc[1::2,1])}\n",
        "    signals  =  { 'LHA-VTA': np.array(df_green.iloc[ ::2,0]),\n",
        "                   'DA VTA': np.array(df_red.iloc[ ::2,0]),\n",
        "                  'LHA-DRN': np.array(df_green.iloc[ ::2,1]),\n",
        "               'DA VTA-DRN': np.array(df_red.iloc[ ::2,1])}\n",
        "\n",
        "  # Anymaze file\n",
        "  name_am = mouse+'_'+experiment+'_anymaze.csv'\n",
        "  df_am = pd.read_csv(folder+'/'+name_am,sep=',',index_col=False)\n",
        "  realtime_am = df_am['Time']\n",
        "  \n",
        " # Time vector\n",
        "  hour = int(realtime_am[0].split(':')[0])\n",
        "  realtime_fp = create_realtime(hour,mm=list(df_green['Item4']),ss=list(df_green['Item5']),ms=list(df_green['Item6']))\n",
        "  time_fp = time_to_seconds(realtime_fp, realtime_fp[0])\n",
        "  time_am = time_to_seconds(realtime_am, realtime_fp[0])\n",
        "  time_ = time_fp[::2]\n",
        "\n",
        "  # Behavioral events ------------------------------------------------------------\n",
        "  \n",
        "  speed = np.array(df_am['Speed'])*100 # cm/s\n",
        "  mobilityany_score = np.array(df_am['Freezing score'])\n",
        "  movement = np.interp(speed, (np.nanmin(speed),np.nanmax(speed)), (0,1))\n",
        "  # Immobility onsets and offsets\n",
        "  immobility = find_onoffset_immobility(movement, time_am, 1, 0.1, 0.15)\n",
        "\n",
        "  events = {'immobility': immobility}\n",
        "\n",
        "  measurements = {'movement': {'time': time_am,\n",
        "                             'values': movement}}\n",
        "\n",
        "  \n",
        "  raw = FiberPhotometryRecording(signals,references,time_,events,measurements,mouse,'OFT',trial)\n",
        "  raw.saveRecording('LHA-DA.h5')\n",
        "  print(raw.mouse,raw.test,raw.trial)"
      ],
      "execution_count": 23,
      "outputs": [
        {
          "output_type": "stream",
          "text": [
            "VD10 OFT 1\n",
            "VD11 OFT 1\n",
            "VD14 OFT 1\n",
            "VD12 OFT 1\n",
            "VD13 OFT 1\n"
          ],
          "name": "stdout"
        }
      ]
    },
    {
      "cell_type": "markdown",
      "metadata": {
        "id": "FA6PbvQ5Jntp"
      },
      "source": [
        "#### TST"
      ]
    },
    {
      "cell_type": "code",
      "metadata": {
        "id": "jyMlWwCkXWed"
      },
      "source": [
        "test = 'TST'\n",
        "tst_full_file_names = []\n",
        "for folder in folders[test]:\n",
        "  files = find_files(folder,['green',test])\n",
        "  for f in files:\n",
        "    mouse = f.split('_')[0]\n",
        "    if mouse in mice:\n",
        "      tst_full_file_names.append(folder+f)\n",
        "#tst_full_file_names"
      ],
      "execution_count": 24,
      "outputs": []
    },
    {
      "cell_type": "code",
      "metadata": {
        "id": "u_h5FTEXSnEf",
        "colab": {
          "base_uri": "https://localhost:8080/"
        },
        "outputId": "70ccdc64-59bf-4a09-ea6e-5cb59be444cd"
      },
      "source": [
        "for file_ in tst_full_file_names:\n",
        "\n",
        "  file_split = file_.split('/') \n",
        "  name = file_split[-1]\n",
        "  folder = '/'.join(file_split[:-1])\n",
        "\n",
        "  # Experiment info ------------------------------------------------------------\n",
        "  sepname = name.split('_')      \n",
        "  mouse = sepname[0]\n",
        "  experiment = sepname[4]\n",
        "  if experiment[-1] == 'T':\n",
        "    trial = '1'\n",
        "  else:\n",
        "    trial = experiment[-1]\n",
        " \n",
        " # Red signal\n",
        "  red_name = find_files(folder,[mouse,experiment,'red'])[0]\n",
        "  df_green = pd.read_csv(file_,sep=' ',index_col=False)\n",
        "  df_red = pd.read_csv(folder+'/'+red_name,sep=' ',index_col=False) \n",
        "\n",
        " # Adjust file length\n",
        "  if len(df_green) % 2 != 0:\n",
        "    df_green.drop(df_green.index[-1],inplace=True)\n",
        "    df_red.drop(df_red.index[-1],inplace=True)\n",
        "\n",
        " # Signal ----------------------------------------------------------------------\n",
        "  if mouse == 'VD10':\n",
        "\n",
        "    references = {'LHA-VTA': np.array(df_green.iloc[1::2,0]),\n",
        "                  'LHA-DRN': np.array(df_green.iloc[1::2,1])}\n",
        "    signals  =  { 'LHA-VTA': np.array(df_green.iloc[ ::2,0]),\n",
        "                  'LHA-DRN': np.array(df_green.iloc[ ::2,1])}\n",
        "  \n",
        "  else:\n",
        "\n",
        "    references = {'LHA-VTA': np.array(df_green.iloc[1::2,0]),\n",
        "                  'DA VTA': np.array(df_green.iloc[1::2,0]),\n",
        "                  'LHA-DRN': np.array(df_green.iloc[1::2,1]),\n",
        "              'DA VTA-DRN': np.array(df_green.iloc[1::2,1])}\n",
        "    signals  =  { 'LHA-VTA': np.array(df_green.iloc[ ::2,0]),\n",
        "                  'DA VTA': np.array(df_red.iloc[ ::2,0]),\n",
        "                  'LHA-DRN': np.array(df_green.iloc[ ::2,1]),\n",
        "              'DA VTA-DRN': np.array(df_red.iloc[ ::2,1])}\n",
        "\n",
        "  # Anymaze file\n",
        "  name_am = mouse+'_'+experiment+'_anymaze.csv'\n",
        "  df_am = pd.read_csv(folder+'/'+name_am,sep=',',index_col=False)\n",
        "  realtime_am = df_am['Time']\n",
        "  \n",
        " # Time vector\n",
        "  hour = int(realtime_am[0].split(':')[0])\n",
        "  realtime_fp = create_realtime(hour,mm=list(df_green['Item4']),ss=list(df_green['Item5']),ms=list(df_green['Item6']))\n",
        "  time_fp = time_to_seconds(realtime_fp, realtime_fp[0])\n",
        "  time_am = time_to_seconds(realtime_am, realtime_fp[0])\n",
        "  time_ = time_fp[::2]\n",
        "\n",
        "  # Behavioral events ------------------------------------------------------------\n",
        "  \n",
        "  speed = np.array(df_am['Speed'])*100 # cm/s\n",
        "  mobility_score = np.array(df_am['Freezing score'])\n",
        "  movement = np.interp(speed, (np.nanmin(speed),np.nanmax(speed)), (0,1))\n",
        "  # Immobility onsets and offsets\n",
        "  immobility = find_onoffset_immobility(movement, time_am, 1, 0.1, 0.15)\n",
        "\n",
        "  events = {'immobility': immobility}\n",
        "\n",
        "  measurements = {'movement': {'time': time_am,\n",
        "                             'values': movement}}\n",
        "\n",
        "  \n",
        "  raw = FiberPhotometryRecording(signals,references,time_,events,measurements,mouse,test,trial)\n",
        "  raw.saveRecording('LHA-DA.h5')\n",
        "  print(raw.mouse,raw.test,raw.trial)"
      ],
      "execution_count": 25,
      "outputs": [
        {
          "output_type": "stream",
          "text": [
            "VD11 TST 1\n",
            "VD10 TST 1\n",
            "VD13 TST 1\n",
            "VD12 TST 1\n",
            "VD14 TST 1\n",
            "VD10 TST 2\n",
            "VD11 TST 2\n",
            "VD12 TST 2\n",
            "VD14 TST 2\n",
            "VD13 TST 2\n"
          ],
          "name": "stdout"
        }
      ]
    },
    {
      "cell_type": "markdown",
      "metadata": {
        "id": "iquP046UVr_Q"
      },
      "source": [
        "# Processing"
      ]
    },
    {
      "cell_type": "code",
      "metadata": {
        "id": "rtCEJqb-VuJ7"
      },
      "source": [
        "info_for_array = {'airpuff': {'window': [-5.0,5.0],\n",
        "                           'avg_frame': [-2.0,-1.0],\n",
        "                             'figsize': (12,10)},\n",
        "              'consumption': {'window': [-5.0,5.0],\n",
        "                            'duration': 2.0,\n",
        "                           'interaval': 2.0,\n",
        "                           'avg_frame': [-2.0,-1.0],\n",
        "                             'figsize': (24,10)},\n",
        "               'immobility': {'window': [-5.0,5.0],\n",
        "                            'duration': 2.0,\n",
        "                           'interaval': 2.0,\n",
        "                             'figsize': (24,10)}}"
      ],
      "execution_count": 26,
      "outputs": []
    },
    {
      "cell_type": "code",
      "metadata": {
        "id": "hmdo9T9YVvHV"
      },
      "source": [
        "for test in tests:\n",
        "  for mouse in mice:\n",
        "    for trial in ['1','2','3','4']:\n",
        "\n",
        "        r = FiberPhotometryRecording()\n",
        "        r.loadRecording('LHA-DA.h5',mouse,test,trial)\n",
        "        if r.rawSignals != {}:\n",
        "          r.getDFF(airpls_lambda=5e3,smooth_win=1)#,plot=True,save=True)\n",
        "          if r.measurements is not None:\n",
        "            r.smoothMeasurements(smooth_win=2)\n",
        "            r.interpolateMeasurements(period=0.1)\n",
        "          r.getPerievents(info_for_array)#,plot=True,save=True)\n",
        "          r.saveRecording('LHA-DA.h5')\n",
        "        del r"
      ],
      "execution_count": null,
      "outputs": []
    },
    {
      "cell_type": "code",
      "metadata": {
        "id": "rbJP7-4y2kMv"
      },
      "source": [
        "# exp = FiberPhotometryExperiment('LHA-DA.h5','OFT')\n",
        "# exp.removeExperiment('all')"
      ],
      "execution_count": 28,
      "outputs": []
    },
    {
      "cell_type": "markdown",
      "metadata": {
        "id": "TVjMpkqCVvf4"
      },
      "source": [
        "# Summary plot "
      ]
    },
    {
      "cell_type": "markdown",
      "metadata": {
        "id": "VhSYLd5cGvFZ"
      },
      "source": [
        "#### Set attributes"
      ]
    },
    {
      "cell_type": "code",
      "metadata": {
        "id": "P2XgPfyhf6ov"
      },
      "source": [
        "with h5py.File('LHA-DA.h5', 'a') as f:\n",
        "  f.attrs['mice'] = mice\n",
        "  f.attrs['outputs'] = outputs\n",
        "  f.attrs['tests'] = tests\n",
        "  f.attrs['good recordings'] = [['VD10','APT','1','LHA-DRN'],\n",
        "                                ['VD10','APT','1','LHA-VTA'],\n",
        "                                #['VD11','APT','1','LHA-DRN'],\n",
        "                                ['VD11','APT','1','LHA-VTA'],\n",
        "                                ['VD11','APT','1','DA VTA'],\n",
        "                                ['VD11','APT','1','DA VTA-DRN'],\n",
        "                                ['VD12','APT','1','LHA-DRN'],\n",
        "                                #['VD12','APT','1','LHA-VTA'],\n",
        "                                ['VD12','APT','1','DA VTA'],\n",
        "                                #['VD12','APT','1','DA VTA-DRN'],\n",
        "                                ['VD13','APT','1','LHA-DRN'],\n",
        "                                #['VD13','APT','1','LHA-VTA'],\n",
        "                                ['VD13','APT','1','DA VTA'],\n",
        "                                #['VD13','APT','1','DA VTA-DRN'],\n",
        "                                ['VD14','APT','1','LHA-DRN'],\n",
        "                                ['VD14','APT','1','LHA-VTA'],\n",
        "                                ['VD14','APT','1','DA VTA'],\n",
        "                                #['VD14','APT','1','DA VTA-DRN'],\n",
        "                                ['VD10','SCT','1','LHA-DRN'],\n",
        "                                ['VD10','SCT','2','LHA-DRN'],\n",
        "                                ['VD10','SCT','3','LHA-DRN'],\n",
        "                                ['VD10','SCT','4','LHA-DRN'],\n",
        "                                ['VD10','SCT','1','LHA-VTA'],\n",
        "                                ['VD10','SCT','2','LHA-VTA'],\n",
        "                                ['VD10','SCT','3','LHA-VTA'],\n",
        "                                ['VD10','SCT','4','LHA-VTA'],\n",
        "                                ['VD11','SCT','1','LHA-DRN'],\n",
        "                                ['VD11','SCT','2','LHA-DRN'],\n",
        "                                ['VD11','SCT','3','LHA-DRN'],\n",
        "                                ['VD11','SCT','4','LHA-DRN'],\n",
        "                                ['VD11','SCT','1','LHA-VTA'],\n",
        "                                ['VD11','SCT','2','LHA-VTA'],\n",
        "                                ['VD11','SCT','3','LHA-VTA'],\n",
        "                                #['VD11','SCT','4','LHA-VTA'],\n",
        "                                ['VD11','SCT','1','DA VTA'],\n",
        "                                #['VD11','SCT','2','DA VTA'],\n",
        "                                ['VD11','SCT','3','DA VTA'],\n",
        "                                ['VD11','SCT','4','DA VTA'],#?\n",
        "                                #['VD11','SCT','1','DA VTA-DRN'],\n",
        "                                #['VD11','SCT','2','DA VTA-DRN'],\n",
        "                                #['VD11','SCT','3','DA VTA-DRN'],\n",
        "                                #['VD11','SCT','4','DA VTA-DRN'],\n",
        "                                #['VD12','SCT','1','LHA-DRN'],\n",
        "                                #['VD12','SCT','2','LHA-DRN'],\n",
        "                                ['VD12','SCT','3','LHA-DRN'],\n",
        "                                ['VD12','SCT','4','LHA-DRN'],\n",
        "                                #['VD12','SCT','1','LHA-VTA'],\n",
        "                                #['VD12','SCT','2','LHA-VTA'],\n",
        "                                ['VD12','SCT','3','LHA-VTA'],\n",
        "                                ['VD12','SCT','4','LHA-VTA'],\n",
        "                                #['VD12','SCT','1','DA VTA'],\n",
        "                                #['VD12','SCT','2','DA VTA'],\n",
        "                                ['VD12','SCT','3','DA VTA'],\n",
        "                                ['VD12','SCT','4','DA VTA'],\n",
        "                                ['VD12','SCT','1','DA VTA-DRN'],#?\n",
        "                                #['VD12','SCT','2','DA VTA-DRN'],\n",
        "                                ['VD12','SCT','3','DA VTA-DRN'],\n",
        "                                ['VD12','SCT','4','DA VTA-DRN'],\n",
        "                                ['VD13','SCT','1','LHA-DRN'],\n",
        "                                ['VD13','SCT','2','LHA-DRN'],\n",
        "                                ['VD13','SCT','3','LHA-DRN'],\n",
        "                                ['VD13','SCT','4','LHA-DRN'],\n",
        "                                #['VD13','SCT','1','LHA-VTA'],\n",
        "                                #['VD13','SCT','2','LHA-VTA'],#?\n",
        "                                #['VD13','SCT','3','LHA-VTA'],\n",
        "                                ['VD13','SCT','4','LHA-VTA'],\n",
        "                                ['VD13','SCT','1','DA VTA'],#?\n",
        "                                ['VD13','SCT','2','DA VTA'],#?\n",
        "                                #['VD13','SCT','3','DA VTA'],#?\n",
        "                                ['VD13','SCT','4','DA VTA'],#?\n",
        "                                ['VD13','SCT','1','DA VTA-DRN'],#?\n",
        "                                ['VD13','SCT','2','DA VTA-DRN'],#?\n",
        "                                ['VD13','SCT','3','DA VTA-DRN'],#?\n",
        "                                ['VD13','SCT','4','DA VTA-DRN'],\n",
        "                                #['VD14','SCT','1','LHA-DRN'],\n",
        "                                ['VD14','SCT','2','LHA-DRN'],\n",
        "                                #['VD14','SCT','3','LHA-DRN'],#?\n",
        "                                ['VD14','SCT','4','LHA-DRN'],#?\n",
        "                                ['VD14','SCT','1','LHA-VTA'],\n",
        "                                ['VD14','SCT','2','LHA-VTA'],\n",
        "                                ['VD14','SCT','3','LHA-VTA'],\n",
        "                                ['VD14','SCT','4','LHA-VTA'],\n",
        "                                ['VD14','SCT','1','DA VTA'],\n",
        "                                ['VD14','SCT','2','DA VTA'],\n",
        "                                #['VD14','SCT','3','DA VTA'],\n",
        "                                #['VD14','SCT','4','DA VTA'],\n",
        "                                #['VD14','SCT','1','DA VTA-DRN'],\n",
        "                                ['VD14','SCT','2','DA VTA-DRN'],\n",
        "                                ['VD14','SCT','3','DA VTA-DRN'],#?\n",
        "                                ['VD14','SCT','4','DA VTA-DRN'],\n",
        "                                #['VD10','OFT','1','LHA-DRN'],\n",
        "                                ['VD10','OFT','1','LHA-VTA'],\n",
        "                                ['VD11','OFT','1','LHA-DRN'],\n",
        "                                ['VD11','OFT','1','LHA-VTA'],\n",
        "                                ['VD11','OFT','1','DA VTA'],\n",
        "                                ['VD11','OFT','1','DA VTA-DRN'],\n",
        "                                #['VD12','OFT','1','LHA-DRN'],\n",
        "                                ['VD12','OFT','1','LHA-VTA'],\n",
        "                                ['VD12','OFT','1','DA VTA'],\n",
        "                                #['VD12','OFT','1','DA VTA-DRN'],\n",
        "                                #['VD13','OFT','1','LHA-DRN'],\n",
        "                                #['VD13','OFT','1','LHA-VTA'],\n",
        "                                #['VD13','OFT','1','DA VTA'],\n",
        "                                #['VD13','OFT','1','DA VTA-DRN'],\n",
        "                                #['VD14','OFT','1','LHA-DRN'],\n",
        "                                #['VD14','OFT','1','LHA-VTA'],\n",
        "                                ['VD14','OFT','1','DA VTA'],\n",
        "                                #['VD14','OFT','1','DA VTA-DRN'],\n",
        "                                ['VD10','TST','1','LHA-DRN'],\n",
        "                                #['VD10','TST','2','LHA-DRN'],#?\n",
        "                                #['VD10','TST','1','LHA-VTA'],#?\n",
        "                                ['VD10','TST','2','LHA-VTA'],\n",
        "                                ['VD11','TST','1','LHA-DRN'],\n",
        "                                ['VD11','TST','2','LHA-DRN'],\n",
        "                                #['VD11','TST','1','LHA-VTA'],\n",
        "                                ['VD11','TST','2','LHA-VTA'],#?\n",
        "                                #['VD11','TST','1','DA VTA'],\n",
        "                                ['VD11','TST','2','DA VTA'],\n",
        "                                #['VD11','TST','1','DA VTA-DRN'],\n",
        "                                ['VD11','TST','2','DA VTA-DRN'],\n",
        "                                ['VD12','TST','1','LHA-DRN'],#?\n",
        "                                #['VD12','TST','2','LHA-DRN'],#?\n",
        "                                #['VD12','TST','1','LHA-VTA'],\n",
        "                                ['VD12','TST','2','LHA-VTA'],#?\n",
        "                                #['VD12','TST','1','DA VTA'],\n",
        "                                ['VD12','TST','2','DA VTA'],#?\n",
        "                                #['VD12','TST','1','DA VTA-DRN'],\n",
        "                                #['VD12','TST','2','DA VTA-DRN'],#?\n",
        "                                ['VD13','TST','1','LHA-DRN'],#?\n",
        "                                #['VD13','TST','2','LHA-DRN'],\n",
        "                                #['VD13','TST','1','LHA-VTA'],\n",
        "                                #['VD13','TST','2','LHA-VTA'],\n",
        "                                #['VD13','TST','1','DA VTA'],\n",
        "                                #['VD13','TST','2','DA VTA'],\n",
        "                                #['VD13','TST','1','DA VTA-DRN'],\n",
        "                                #['VD13','TST','2','DA VTA-DRN'],\n",
        "                                ['VD14','TST','1','LHA-DRN'],\n",
        "                                #['VD14','TST','2','LHA-DRN'],\n",
        "                                ['VD14','TST','1','LHA-VTA'],\n",
        "                                #['VD14','TST','2','LHA-VTA'],\n",
        "                                ['VD14','TST','1','DA VTA'],\n",
        "                                ['VD14','TST','2','DA VTA']]#?\n",
        "                                #['VD14','TST','1','DA VTA-DRN'],\n",
        "                                #['VD14','TST','2','DA VTA-DRN']]"
      ],
      "execution_count": 29,
      "outputs": []
    },
    {
      "cell_type": "markdown",
      "metadata": {
        "id": "m6AIGcjInuUC"
      },
      "source": [
        "#### APT"
      ]
    },
    {
      "cell_type": "code",
      "metadata": {
        "id": "dBfp-cyApQep",
        "colab": {
          "base_uri": "https://localhost:8080/"
        },
        "outputId": "2755db65-9315-4015-d2b2-36762a7c9124"
      },
      "source": [
        "apt = FiberPhotometryTest('LHA-DA.h5','APT')"
      ],
      "execution_count": 35,
      "outputs": [
        {
          "output_type": "stream",
          "text": [
            "Experiment information for test APT is successfully loaded.\n"
          ],
          "name": "stdout"
        }
      ]
    },
    {
      "cell_type": "code",
      "metadata": {
        "id": "MsYzEJWLn35B",
        "colab": {
          "base_uri": "https://localhost:8080/"
        },
        "outputId": "d4d3e103-a485-4e72-b6a8-f9f31cd79963"
      },
      "source": [
        "apt.getMeans(auc_frames={'airpuff-onset': [[-2,-1],[0,2]]})"
      ],
      "execution_count": 36,
      "outputs": [
        {
          "output_type": "stream",
          "text": [
            "VD11,1 VD12,1 VD13,1 VD14,1 .\n",
            "Saved dF/F mean traces for DA VTA airpuff-onset\n",
            "VD11,1 .\n",
            "Saved dF/F mean traces for DA VTA-DRN airpuff-onset\n",
            "VD10,1 VD12,1 VD13,1 VD14,1 .\n",
            "Saved dF/F mean traces for LHA-DRN airpuff-onset\n",
            "VD10,1 VD11,1 VD14,1 .\n",
            "Saved dF/F mean traces for LHA-VTA airpuff-onset\n"
          ],
          "name": "stdout"
        }
      ]
    },
    {
      "cell_type": "code",
      "metadata": {
        "id": "J0MGTs4r73Sp",
        "colab": {
          "base_uri": "https://localhost:8080/",
          "height": 244
        },
        "outputId": "ddeb1aeb-051f-4c2e-d902-c84171bba607"
      },
      "source": [
        "apt.plotMeans('LHA-VTA','airpuff',output2='DA VTA',\n",
        "              plot_type='mean and SEM',\n",
        "              periods=['baseline','airpuff'],xlim=[-2,4],\n",
        "              ylim=[-0.5,5],yticks=[0,1,2,3,4],ylab='z-dF/F (LHA-VTA)',\n",
        "              ylim1=[-2,3.5],yticks1=[-1,0,1,2,3],color1='red',ylab1='z-dF/F (DA VTA)',\n",
        "              figsize=(4,3),save=True,imgname='./results/LHA-DA/LHA-DA_APT_LHA-VTA-DA-VTA_airpuff-onset.pdf')\n",
        "plt.show()"
      ],
      "execution_count": 37,
      "outputs": [
        {
          "output_type": "display_data",
          "data": {
            "image/png": "[encoded data removed]",
            "text/plain": [
              "<Figure size 320x240 with 4 Axes>"
            ]
          },
          "metadata": {
            "tags": []
          }
        }
      ]
    },
    {
      "cell_type": "code",
      "metadata": {
        "id": "WxcdUXOzT_GX"
      },
      "source": [
        "df = apt.getDataFrameAUC('airpuff','onset',['baseline','airpuff'],\n",
        "                         save=True,csvname='./stats/LHA-DA_APT_airpuff-onset_auc.csv')"
      ],
      "execution_count": null,
      "outputs": []
    },
    {
      "cell_type": "code",
      "metadata": {
        "id": "_HrUMOgiUXg9",
        "colab": {
          "base_uri": "https://localhost:8080/"
        },
        "outputId": "f3c87c74-db70-4a21-a97b-d3981f50305f"
      },
      "source": [
        "%%R\n",
        "df = read.csv('./stats/LHA-DA_APT_airpuff-onset_auc.csv')\n",
        "df$period = as.factor(df$period)\n",
        "\n",
        "print('----------------------LHA-VTA----------------------')\n",
        "vta = df[df$output=='LHA-VTA',]\n",
        "ranks <- rank(vta$auc)\n",
        "require(nlme)\n",
        "Lme.mod <- lme(ranks ~ period, random = ~ 1 | mouse, data = vta)\n",
        "print(summary(glht(Lme.mod, linfct=mcp(period=\"Dunnet\"))))\n",
        "\n",
        "print('----------------------DA VTA----------------------')\n",
        "da = df[df$output=='DA VTA',]\n",
        "ranks <- rank(da$auc)\n",
        "require(nlme)\n",
        "Lme.mod <- lme(ranks ~ period, random = ~ 1 | mouse, data = da)\n",
        "print(summary(glht(Lme.mod, linfct=mcp(period=\"Dunnet\"))))"
      ],
      "execution_count": null,
      "outputs": [
        {
          "output_type": "stream",
          "text": [
            "[1] \"----------------------LHA-VTA----------------------\"\n",
            "\n",
            "\t Simultaneous Tests for General Linear Hypotheses\n",
            "\n",
            "Multiple Comparisons of Means: Dunnett Contrasts\n",
            "\n",
            "\n",
            "Fit: lme.formula(fixed = ranks ~ period, data = vta, random = ~1 | \n",
            "    mouse)\n",
            "\n",
            "Linear Hypotheses:\n",
            "                        Estimate Std. Error z value Pr(>|z|)    \n",
            "baseline - airpuff == 0  -3.0000     0.5774  -5.196 2.03e-07 ***\n",
            "---\n",
            "Signif. codes:  0 ‘***’ 0.001 ‘**’ 0.01 ‘*’ 0.05 ‘.’ 0.1 ‘ ’ 1\n",
            "(Adjusted p values reported -- single-step method)\n",
            "\n",
            "[1] \"----------------------DA VTA----------------------\"\n",
            "\n",
            "\t Simultaneous Tests for General Linear Hypotheses\n",
            "\n",
            "Multiple Comparisons of Means: Dunnett Contrasts\n",
            "\n",
            "\n",
            "Fit: lme.formula(fixed = ranks ~ period, data = da, random = ~1 | \n",
            "    mouse)\n",
            "\n",
            "Linear Hypotheses:\n",
            "                        Estimate Std. Error z value Pr(>|z|)    \n",
            "baseline - airpuff == 0  -4.0000     0.9129  -4.382 1.18e-05 ***\n",
            "---\n",
            "Signif. codes:  0 ‘***’ 0.001 ‘**’ 0.01 ‘*’ 0.05 ‘.’ 0.1 ‘ ’ 1\n",
            "(Adjusted p values reported -- single-step method)\n",
            "\n"
          ],
          "name": "stdout"
        }
      ]
    },
    {
      "cell_type": "markdown",
      "metadata": {
        "id": "-29BhEWvNOw8"
      },
      "source": [
        "#### SCT"
      ]
    },
    {
      "cell_type": "code",
      "metadata": {
        "id": "oNuIhIk6NR6E",
        "colab": {
          "base_uri": "https://localhost:8080/"
        },
        "outputId": "82b526a3-9d58-4c3c-919b-11f299eb218a"
      },
      "source": [
        "sct = FiberPhotometryTest('LHA-DA.h5','SCT')"
      ],
      "execution_count": 39,
      "outputs": [
        {
          "output_type": "stream",
          "text": [
            "Experiment information for test SCT is successfully loaded.\n"
          ],
          "name": "stdout"
        }
      ]
    },
    {
      "cell_type": "code",
      "metadata": {
        "id": "RCpPeAmUH0qN",
        "colab": {
          "base_uri": "https://localhost:8080/"
        },
        "outputId": "ec30d4fa-cfe1-4bbc-dbb4-c71a4c5bebc1"
      },
      "source": [
        "sct.getMeans(auc_frames={'consumption-onset': [[-2,-1],[-0.5,1],[3,4]],\n",
        "                        'consumption-offset': [[-2,0],[0,2]]})"
      ],
      "execution_count": 40,
      "outputs": [
        {
          "output_type": "stream",
          "text": [
            "VD11,1 VD11,3 VD11,4 VD12,3 VD12,4 VD13,1 VD13,2 VD13,4 VD14,1 VD14,2 .\n",
            "Saved dF/F mean traces for DA VTA consumption-offset\n",
            "VD11,1 VD11,3 VD11,4 VD12,3 VD12,4 VD13,1 VD13,2 VD13,4 VD14,1 VD14,2 .\n",
            "Saved dF/F mean traces for DA VTA consumption-onset\n",
            "VD11,1 VD11,3 VD11,4 VD12,3 VD12,4 VD13,1 VD13,2 VD13,4 VD14,1 VD14,2 .\n",
            "Saved dF/F mean traces for DA VTA immobility-offset\n",
            "VD11,1 VD11,3 VD11,4 VD12,3 VD12,4 VD13,1 VD13,2 VD13,4 VD14,1 VD14,2 .\n",
            "Saved dF/F mean traces for DA VTA immobility-onset\n",
            "VD12,1 VD12,3 VD12,4 VD13,1 VD13,2 VD13,3 VD13,4 VD14,2 VD14,3 VD14,4 .\n",
            "Saved dF/F mean traces for DA VTA-DRN consumption-offset\n",
            "VD12,1 VD12,3 VD12,4 VD13,1 VD13,2 VD13,3 VD13,4 VD14,2 VD14,3 VD14,4 .\n",
            "Saved dF/F mean traces for DA VTA-DRN consumption-onset\n",
            "VD12,1 VD12,3 VD12,4 VD13,1 VD13,2 VD13,3 VD13,4 VD14,2 VD14,3 VD14,4 .\n",
            "Saved dF/F mean traces for DA VTA-DRN immobility-offset\n",
            "VD12,1 VD12,3 VD12,4 VD13,1 VD13,2 VD13,3 VD13,4 VD14,2 VD14,3 VD14,4 .\n",
            "Saved dF/F mean traces for DA VTA-DRN immobility-onset\n",
            "VD10,1 VD10,2 VD10,3 VD10,4 VD11,1 VD11,2 VD11,3 VD11,4 VD12,3 VD12,4 VD13,1 VD13,2 VD13,3 VD13,4 VD14,2 VD14,4 .\n",
            "Saved dF/F mean traces for LHA-DRN consumption-offset\n",
            "VD10,1 VD10,2 VD10,3 VD10,4 VD11,1 VD11,2 VD11,3 VD11,4 VD12,3 VD12,4 VD13,1 VD13,2 VD13,3 VD13,4 VD14,2 VD14,4 .\n",
            "Saved dF/F mean traces for LHA-DRN consumption-onset\n",
            "VD10,1 VD10,2 VD10,3 VD10,4 VD11,1 VD11,2 VD11,3 VD11,4 VD12,3 VD12,4 VD13,1 VD13,2 VD13,3 VD13,4 VD14,2 VD14,4 .\n",
            "Saved dF/F mean traces for LHA-DRN immobility-offset\n",
            "VD10,1 VD10,2 VD10,3 VD10,4 VD11,1 VD11,2 VD11,3 VD11,4 VD12,3 VD12,4 VD13,1 VD13,2 VD13,3 VD13,4 VD14,2 VD14,4 .\n",
            "Saved dF/F mean traces for LHA-DRN immobility-onset\n",
            "VD10,1 VD10,2 VD10,3 VD10,4 VD11,1 VD11,2 VD11,3 VD12,3 VD12,4 VD13,4 VD14,1 VD14,2 VD14,3 VD14,4 .\n",
            "Saved dF/F mean traces for LHA-VTA consumption-offset\n",
            "VD10,1 VD10,2 VD10,3 VD10,4 VD11,1 VD11,2 VD11,3 VD12,3 VD12,4 VD13,4 VD14,1 VD14,2 VD14,3 VD14,4 .\n",
            "Saved dF/F mean traces for LHA-VTA consumption-onset\n",
            "VD10,1 VD10,2 VD10,3 VD10,4 VD11,1 VD11,2 VD11,3 VD12,3 VD12,4 VD13,4 VD14,1 VD14,2 VD14,3 VD14,4 .\n",
            "Saved dF/F mean traces for LHA-VTA immobility-offset\n",
            "VD10,1 VD10,2 VD10,3 VD10,4 VD11,1 VD11,2 VD11,3 VD12,3 VD12,4 VD13,4 VD14,1 VD14,2 VD14,3 VD14,4 .\n",
            "Saved dF/F mean traces for LHA-VTA immobility-onset\n",
            "VD10,1 VD10,2 VD10,3 VD10,4 VD11,1 VD11,2 VD11,3 VD11,4 VD12,1 VD12,2 VD12,3 VD12,4 VD13,1 VD13,2 VD13,3 VD13,4 VD14,1 VD14,2 VD14,3 VD14,4 .\n",
            "Saved dF/F mean traces for movement consumption-offset.\n",
            "VD10,1 VD10,2 VD10,3 VD10,4 VD11,1 VD11,2 VD11,3 VD11,4 VD12,1 VD12,2 VD12,3 VD12,4 VD13,1 VD13,2 VD13,3 VD13,4 VD14,1 VD14,2 VD14,3 VD14,4 .\n",
            "Saved dF/F mean traces for movement consumption-onset.\n",
            "VD10,1 VD10,2 VD10,3 VD10,4 VD11,1 VD11,2 VD11,3 VD11,4 VD12,1 VD12,2 VD12,3 VD12,4 VD13,1 VD13,2 VD13,3 VD13,4 VD14,1 VD14,2 VD14,3 VD14,4 .\n",
            "Saved dF/F mean traces for movement immobility-offset.\n",
            "VD10,1 VD10,2 VD10,3 VD10,4 VD11,1 VD11,2 VD11,3 VD11,4 VD12,1 VD12,2 VD12,3 VD12,4 VD13,1 VD13,2 VD13,3 VD13,4 VD14,1 VD14,2 VD14,3 VD14,4 .\n",
            "Saved dF/F mean traces for movement immobility-onset.\n"
          ],
          "name": "stdout"
        }
      ]
    },
    {
      "cell_type": "code",
      "metadata": {
        "id": "EV6qNZgvzKix",
        "colab": {
          "base_uri": "https://localhost:8080/",
          "height": 244
        },
        "outputId": "94429abe-d07d-4ec0-9af6-b680544b8e6c"
      },
      "source": [
        "sct.plotMeans('LHA-VTA','consumption',output2='DA VTA',\n",
        "              plot_type='mean and SEM',\n",
        "              periods=['baseline','onset','drinking'],\n",
        "              ylim=[-1.5,3.5],ylab='z-dF/F (LHA-VTA)',xlim=[-2,4],\n",
        "              ylim1=[-2.5,2.5],ylab1='z-dF/F (DA VTA)',color1='red',\n",
        "              figsize=(4,3),save=True,imgname='./results/LHA-DA/LHA-DA_SCT_LHA-VTA-DA-VTA_consumption-onset_means.pdf')\n",
        "plt.show()"
      ],
      "execution_count": 41,
      "outputs": [
        {
          "output_type": "display_data",
          "data": {
            "image/png": "[encoded data removed]",
            "text/plain": [
              "<Figure size 320x240 with 4 Axes>"
            ]
          },
          "metadata": {
            "tags": []
          }
        }
      ]
    },
    {
      "cell_type": "code",
      "metadata": {
        "id": "sLyWHgA2YkqT"
      },
      "source": [
        "df = sct.getDataFrameAUC('consumption','onset',['baseline','onset','drinking'],\n",
        "                         save=True,csvname='./stats/LHA-DA_SCT_consumption-onset_auc.csv')"
      ],
      "execution_count": null,
      "outputs": []
    },
    {
      "cell_type": "code",
      "metadata": {
        "id": "_62gnPZaYkqd",
        "colab": {
          "base_uri": "https://localhost:8080/",
          "height": 629
        },
        "outputId": "f0a9e761-1e20-4f12-ff29-82f2adbd5e5d"
      },
      "source": [
        "%%R\n",
        "df = read.csv('./stats/LHA-DA_SCT_consumption-onset_auc.csv')\n",
        "\n",
        "print('----------------------LHA-VTA----------------------')\n",
        "vta = df[df$output=='LHA-VTA',]\n",
        "ranks <- rank(vta$auc)\n",
        "require(nlme)\n",
        "Lme.mod <- lme(ranks ~ period, random = ~ 1 | mouse, data = vta)\n",
        "print(summary(glht(Lme.mod, linfct=mcp(period=\"Dunnet\"))))\n",
        "\n",
        "print('----------------------DA VTA----------------------')\n",
        "da = df[df$output=='DA VTA',]\n",
        "ranks <- rank(da$auc)\n",
        "require(nlme)\n",
        "Lme.mod <- lme(ranks ~ period, random = ~ 1 | mouse, data = da)\n",
        "print(summary(glht(Lme.mod, linfct=mcp(period=\"Dunnet\"))))"
      ],
      "execution_count": null,
      "outputs": [
        {
          "output_type": "stream",
          "text": [
            "[1] \"----------------------LHA-VTA----------------------\"\n",
            "\n",
            "\t Simultaneous Tests for General Linear Hypotheses\n",
            "\n",
            "Multiple Comparisons of Means: Dunnett Contrasts\n",
            "\n",
            "\n",
            "Fit: lme.formula(fixed = ranks ~ period, data = vta, random = ~1 | \n",
            "    mouse)\n",
            "\n",
            "Linear Hypotheses:\n",
            "                         Estimate Std. Error z value Pr(>|z|)    \n",
            "drinking - baseline == 0   -3.000      1.528  -1.964  0.08994 .  \n",
            "onset - baseline == 0       6.000      1.528   3.928  0.00017 ***\n",
            "---\n",
            "Signif. codes:  0 ‘***’ 0.001 ‘**’ 0.01 ‘*’ 0.05 ‘.’ 0.1 ‘ ’ 1\n",
            "(Adjusted p values reported -- single-step method)\n",
            "\n",
            "[1] \"----------------------DA VTA----------------------\"\n",
            "\n",
            "\t Simultaneous Tests for General Linear Hypotheses\n",
            "\n",
            "Multiple Comparisons of Means: Dunnett Contrasts\n",
            "\n",
            "\n",
            "Fit: lme.formula(fixed = ranks ~ period, data = da, random = ~1 | \n",
            "    mouse)\n",
            "\n",
            "Linear Hypotheses:\n",
            "                         Estimate Std. Error z value Pr(>|z|)    \n",
            "drinking - baseline == 0    6.000      1.616   3.713 0.000405 ***\n",
            "onset - baseline == 0       6.000      1.616   3.713 0.000405 ***\n",
            "---\n",
            "Signif. codes:  0 ‘***’ 0.001 ‘**’ 0.01 ‘*’ 0.05 ‘.’ 0.1 ‘ ’ 1\n",
            "(Adjusted p values reported -- single-step method)\n",
            "\n"
          ],
          "name": "stdout"
        }
      ]
    },
    {
      "cell_type": "code",
      "metadata": {
        "colab": {
          "base_uri": "https://localhost:8080/",
          "height": 244
        },
        "id": "3RWEVaEpbOYb",
        "outputId": "e322721d-503d-4bf2-eb8d-ac0f8fa437bb"
      },
      "source": [
        "sct.plotMeans('LHA-VTA','consumption','offset',output2='DA VTA',\n",
        "              plot_type='mean and SEM',\n",
        "              periods=['drinking','offset'],\n",
        "              ylim=[-1.5,3.5],ylab='z-dF/F (LHA-VTA)',xlim=[-3,3],\n",
        "              ylim1=[-2.5,2.5],ylab1='z-dF/F (DA VTA)',color1='red',\n",
        "              figsize=(4,3),save=True,imgname='./results/LHA-DA/LHA-DA_SCT_LHA-VTA-DA-VTA_consumption-offset_means.pdf')\n",
        "plt.show()"
      ],
      "execution_count": 42,
      "outputs": [
        {
          "output_type": "display_data",
          "data": {
            "image/png": "[encoded data removed]",
            "text/plain": [
              "<Figure size 320x240 with 4 Axes>"
            ]
          },
          "metadata": {
            "tags": []
          }
        }
      ]
    },
    {
      "cell_type": "markdown",
      "metadata": {
        "id": "_gE-6Zk-48AF"
      },
      "source": [
        "#### OFT"
      ]
    },
    {
      "cell_type": "code",
      "metadata": {
        "id": "qpYuzOIq460q",
        "colab": {
          "base_uri": "https://localhost:8080/"
        },
        "outputId": "bc17c227-467b-4050-9ef3-01683000b8f5"
      },
      "source": [
        "oft = FiberPhotometryTest('LHA-DA.h5','OFT')"
      ],
      "execution_count": 45,
      "outputs": [
        {
          "output_type": "stream",
          "text": [
            "Experiment information for test OFT is successfully loaded.\n"
          ],
          "name": "stdout"
        }
      ]
    },
    {
      "cell_type": "code",
      "metadata": {
        "id": "wSN5Yx2g6EN9",
        "colab": {
          "base_uri": "https://localhost:8080/"
        },
        "outputId": "97bee34a-cb61-40c0-8e3a-615fad99a1e5"
      },
      "source": [
        "oft.getMeans(auc_frames = {'immobility-onset': [[-3,-1],[1,3]],\n",
        "                          'immobility-offset': [[-3,-1],[-1,0],[0,1.5],[1.5,3]]})"
      ],
      "execution_count": 46,
      "outputs": [
        {
          "output_type": "stream",
          "text": [
            "VD11,1 VD12,1 VD14,1 .\n",
            "Saved dF/F mean traces for DA VTA immobility-offset\n",
            "VD11,1 VD12,1 VD14,1 .\n",
            "Saved dF/F mean traces for DA VTA immobility-onset\n",
            "VD11,1 .\n",
            "Saved dF/F mean traces for DA VTA-DRN immobility-offset\n",
            "VD11,1 .\n",
            "Saved dF/F mean traces for DA VTA-DRN immobility-onset\n",
            "VD11,1 .\n",
            "Saved dF/F mean traces for LHA-DRN immobility-offset\n",
            "VD11,1 .\n",
            "Saved dF/F mean traces for LHA-DRN immobility-onset\n",
            "VD10,1 VD11,1 VD12,1 .\n",
            "Saved dF/F mean traces for LHA-VTA immobility-offset\n",
            "VD10,1 VD11,1 VD12,1 .\n",
            "Saved dF/F mean traces for LHA-VTA immobility-onset\n",
            "VD10,1 VD11,1 VD12,1 VD13,1 VD14,1 .\n",
            "Saved dF/F mean traces for movement immobility-offset.\n",
            "VD10,1 VD11,1 VD12,1 VD13,1 VD14,1 .\n",
            "Saved dF/F mean traces for movement immobility-onset.\n"
          ],
          "name": "stdout"
        }
      ]
    },
    {
      "cell_type": "code",
      "metadata": {
        "id": "s1h5zRW16JEY",
        "colab": {
          "base_uri": "https://localhost:8080/",
          "height": 244
        },
        "outputId": "2acd50a2-ffab-424f-d394-714ef35f803c"
      },
      "source": [
        "oft.plotMeans('LHA-VTA','immobility','offset',output2='DA VTA',\n",
        "              plot_type='mean and SEM',\n",
        "              periods=['immobile','pre-onset','onset','mobile'],xlim=[-3,3],\n",
        "              ylim=[-1,2.5],yticks=[-1,0,1,2],ylab='z-dF/F (LHA-VTA)',\n",
        "              ylim1=[-1.5,1.5],yticks1=[-1,0,1],ylab1='z-dF/F (DA VTA)',color1='red',\n",
        "              subplot_ratio=[5,2.3],figsize=(4,3),save=True,\n",
        "              imgname='./results/LHA-DA/LHA-DA_OFT_LHA-VTA-DA-VTA_immobility-offset_means.pdf')\n",
        "plt.show()"
      ],
      "execution_count": 47,
      "outputs": [
        {
          "output_type": "display_data",
          "data": {
            "image/png": "[encoded data removed]",
            "text/plain": [
              "<Figure size 320x240 with 4 Axes>"
            ]
          },
          "metadata": {
            "tags": []
          }
        }
      ]
    },
    {
      "cell_type": "code",
      "metadata": {
        "id": "ax1jq1vvdMBL"
      },
      "source": [
        "df = oft.getDataFrameAUC('immobility','offset',['immobile','pre-onset','onset','mobile'],\n",
        "                         save=True,csvname='./stats/LHA-DA_OFT_mobile-onset_auc.csv')"
      ],
      "execution_count": null,
      "outputs": []
    },
    {
      "cell_type": "code",
      "metadata": {
        "id": "-noVICPndMBT",
        "colab": {
          "base_uri": "https://localhost:8080/",
          "height": 629
        },
        "outputId": "fdc1507d-5d7e-4789-cc08-6aeacc837b25"
      },
      "source": [
        "%%R\n",
        "df = read.csv('./stats/LHA-DA_OFT_mobile-onset_auc.csv')\n",
        "\n",
        "print('----------------------LHA-VTA----------------------')\n",
        "vta = df[df$output=='LHA-VTA',]\n",
        "ranks <- rank(vta$auc)\n",
        "require(nlme)\n",
        "Lme.mod <- lme(ranks ~ period, random = ~ 1 | mouse, data = vta)\n",
        "print(summary(glht(Lme.mod, linfct=mcp(period=\"Dunnet\"))))\n",
        "\n",
        "print('----------------------DA VTA----------------------')\n",
        "da = df[df$output=='DA VTA',]\n",
        "ranks <- rank(da$auc)\n",
        "require(nlme)\n",
        "Lme.mod <- lme(ranks ~ period, random = ~ 1 | mouse, data = da)\n",
        "print(summary(glht(Lme.mod, linfct=mcp(period=\"Dunnet\"))))"
      ],
      "execution_count": null,
      "outputs": [
        {
          "output_type": "stream",
          "text": [
            "[1] \"----------------------LHA-VTA----------------------\"\n",
            "\n",
            "\t Simultaneous Tests for General Linear Hypotheses\n",
            "\n",
            "Multiple Comparisons of Means: Dunnett Contrasts\n",
            "\n",
            "\n",
            "Fit: lme.formula(fixed = ranks ~ period, data = vta, random = ~1 | \n",
            "    mouse)\n",
            "\n",
            "Linear Hypotheses:\n",
            "                          Estimate Std. Error z value Pr(>|z|)   \n",
            "mobile - immobile == 0      6.3333     2.0276   3.124  0.00506 **\n",
            "onset - immobile == 0       4.0000     2.0276   1.973  0.12192   \n",
            "pre-onset - immobile == 0  -0.3333     2.0276  -0.164  0.99687   \n",
            "---\n",
            "Signif. codes:  0 ‘***’ 0.001 ‘**’ 0.01 ‘*’ 0.05 ‘.’ 0.1 ‘ ’ 1\n",
            "(Adjusted p values reported -- single-step method)\n",
            "\n",
            "[1] \"----------------------DA VTA----------------------\"\n",
            "\n",
            "\t Simultaneous Tests for General Linear Hypotheses\n",
            "\n",
            "Multiple Comparisons of Means: Dunnett Contrasts\n",
            "\n",
            "\n",
            "Fit: lme.formula(fixed = ranks ~ period, data = da, random = ~1 | \n",
            "    mouse)\n",
            "\n",
            "Linear Hypotheses:\n",
            "                          Estimate Std. Error z value Pr(>|z|)\n",
            "mobile - immobile == 0      2.6667     2.2608   1.180    0.499\n",
            "onset - immobile == 0      -0.3333     2.2608  -0.147    0.998\n",
            "pre-onset - immobile == 0  -0.3333     2.2608  -0.147    0.998\n",
            "(Adjusted p values reported -- single-step method)\n",
            "\n"
          ],
          "name": "stdout"
        }
      ]
    },
    {
      "cell_type": "code",
      "metadata": {
        "colab": {
          "base_uri": "https://localhost:8080/",
          "height": 244
        },
        "id": "QWBKOXVZbwOC",
        "outputId": "0140dbb6-fbb2-4cf1-cc8a-e597450ca6d1"
      },
      "source": [
        "oft.plotMeans('LHA-VTA','immobility','onset',output2='DA VTA',\n",
        "              plot_type='mean and SEM',\n",
        "              periods=['mobile','immobile'],xlim=[-3,3],\n",
        "              ylim=[-1,2.5],yticks=[-1,0,1,2],ylab='z-dF/F (LHA-VTA)',\n",
        "              ylim1=[-1.5,1.5],yticks1=[-1,0,1],ylab1='z-dF/F (DA VTA)',color1='red',\n",
        "              figsize=(4,3),save=True,\n",
        "              imgname='./results/LHA-DA/LHA-DA_OFT_LHA-VTA-DA-VTA_immobility-onset_means.pdf')\n",
        "plt.show()"
      ],
      "execution_count": 48,
      "outputs": [
        {
          "output_type": "display_data",
          "data": {
            "image/png": "[encoded data removed]",
            "text/plain": [
              "<Figure size 320x240 with 4 Axes>"
            ]
          },
          "metadata": {
            "tags": []
          }
        }
      ]
    },
    {
      "cell_type": "markdown",
      "metadata": {
        "id": "N8s-OltHgJzO"
      },
      "source": [
        "#### TST"
      ]
    },
    {
      "cell_type": "code",
      "metadata": {
        "id": "OmB3numleD9b",
        "colab": {
          "base_uri": "https://localhost:8080/"
        },
        "outputId": "b0d37995-e02f-4b93-df5d-e06d87321ee8"
      },
      "source": [
        "tst = FiberPhotometryTest('LHA-DA.h5','TST')"
      ],
      "execution_count": 51,
      "outputs": [
        {
          "output_type": "stream",
          "text": [
            "Experiment information for test TST is successfully loaded.\n"
          ],
          "name": "stdout"
        }
      ]
    },
    {
      "cell_type": "code",
      "metadata": {
        "id": "hcJu90tMgUFG",
        "colab": {
          "base_uri": "https://localhost:8080/"
        },
        "outputId": "f84f9418-ce66-4d44-f483-4d63ddc21ca0"
      },
      "source": [
        "tst.getMeans(auc_frames = {'immobility-onset': [[-3,-1],[1,3]],\n",
        "                          'immobility-offset': [[-3,-1],[-0.5,0],[0,1],[1,3]]})"
      ],
      "execution_count": 52,
      "outputs": [
        {
          "output_type": "stream",
          "text": [
            "VD11,2 VD12,2 VD14,1 VD14,2 .\n",
            "Saved dF/F mean traces for DA VTA immobility-offset\n",
            "VD11,2 VD12,2 VD14,1 VD14,2 .\n",
            "Saved dF/F mean traces for DA VTA immobility-onset\n",
            "VD11,2 .\n",
            "Saved dF/F mean traces for DA VTA-DRN immobility-offset\n",
            "VD11,2 .\n",
            "Saved dF/F mean traces for DA VTA-DRN immobility-onset\n",
            "VD10,1 VD11,1 VD11,2 VD12,1 VD13,1 VD14,1 .\n",
            "Saved dF/F mean traces for LHA-DRN immobility-offset\n",
            "VD10,1 VD11,1 VD11,2 VD12,1 VD13,1 VD14,1 .\n",
            "Saved dF/F mean traces for LHA-DRN immobility-onset\n",
            "VD10,2 VD11,2 VD12,2 VD14,1 .\n",
            "Saved dF/F mean traces for LHA-VTA immobility-offset\n",
            "VD10,2 VD11,2 VD12,2 VD14,1 .\n",
            "Saved dF/F mean traces for LHA-VTA immobility-onset\n",
            "VD10,1 VD10,2 VD11,1 VD11,2 VD12,1 VD12,2 VD13,1 VD13,2 VD14,1 VD14,2 .\n",
            "Saved dF/F mean traces for movement immobility-offset.\n",
            "VD10,1 VD10,2 VD11,1 VD11,2 VD12,1 VD12,2 VD13,1 VD13,2 VD14,1 VD14,2 .\n",
            "Saved dF/F mean traces for movement immobility-onset.\n"
          ],
          "name": "stdout"
        }
      ]
    },
    {
      "cell_type": "code",
      "metadata": {
        "id": "KZLmx2wmgWjI",
        "colab": {
          "base_uri": "https://localhost:8080/",
          "height": 244
        },
        "outputId": "9998b7ed-a075-42c1-c122-3dc4aecd4c7c"
      },
      "source": [
        "tst.plotMeans('LHA-VTA','immobility','offset',output2='DA VTA',\n",
        "              plot_type='mean and SEM',\n",
        "              periods=['immobile','pre-onset','onset','mobile'],xlim=[-3,3],\n",
        "              ylim=[-1,2.5],yticks=[-1,0,1,2],ylab='z-dF/F (LHA-VTA)',\n",
        "              ylim1=[-1.5,1.5],yticks1=[-1,0,1],ylab1='z-dF/F (DA VTA)',color1='red',\n",
        "              subplot_ratio=[5,2.3],figsize=(4,3),save=True,\n",
        "              imgname='./results/LHA-DA/LHA-DA_TST_LHA-VTA-DA-VTA_immobility-offset_means.pdf')\n",
        "plt.show()"
      ],
      "execution_count": 53,
      "outputs": [
        {
          "output_type": "display_data",
          "data": {
            "image/png": "[encoded data removed]",
            "text/plain": [
              "<Figure size 320x240 with 4 Axes>"
            ]
          },
          "metadata": {
            "tags": []
          }
        }
      ]
    },
    {
      "cell_type": "code",
      "metadata": {
        "id": "9Nqo51D4gUFz"
      },
      "source": [
        "df = tst.getDataFrameAUC('immobility','offset',['immobile','pre-onset','onset','mobile'],\n",
        "                    save=True,csvname='./stats/LHA-DA_TST_mobile-onset_auc.csv')"
      ],
      "execution_count": null,
      "outputs": []
    },
    {
      "cell_type": "code",
      "metadata": {
        "id": "U0vcXsP6gUF3",
        "colab": {
          "base_uri": "https://localhost:8080/",
          "height": 663
        },
        "outputId": "1e5360a1-87a9-4a89-9db5-43633ae1dd2c"
      },
      "source": [
        "%%R\n",
        "df = read.csv('./stats/LHA-DA_TST_mobile-onset_auc.csv')\n",
        "\n",
        "print('----------------------LHA-VTA----------------------')\n",
        "vta = df[df$output=='LHA-VTA',]\n",
        "ranks <- rank(vta$auc)\n",
        "require(nlme)\n",
        "Lme.mod <- lme(ranks ~ period, random = ~ 1 | mouse, data = vta)\n",
        "print(summary(glht(Lme.mod, linfct=mcp(period=\"Dunnet\"))))\n",
        "\n",
        "print('----------------------DA VTA----------------------')\n",
        "da = df[df$output=='DA VTA',]\n",
        "ranks <- rank(da$auc)\n",
        "require(nlme)\n",
        "Lme.mod <- lme(ranks ~ period, random = ~ 1 | mouse, data = da)\n",
        "print(summary(glht(Lme.mod, linfct=mcp(period=\"Dunnet\"))))"
      ],
      "execution_count": null,
      "outputs": [
        {
          "output_type": "stream",
          "text": [
            "[1] \"----------------------LHA-VTA----------------------\"\n",
            "\n",
            "\t Simultaneous Tests for General Linear Hypotheses\n",
            "\n",
            "Multiple Comparisons of Means: Dunnett Contrasts\n",
            "\n",
            "\n",
            "Fit: lme.formula(fixed = ranks ~ period, data = vta, random = ~1 | \n",
            "    mouse)\n",
            "\n",
            "Linear Hypotheses:\n",
            "                          Estimate Std. Error z value Pr(>|z|)    \n",
            "mobile - immobile == 0     12.0000     0.8819  13.607  < 1e-05 ***\n",
            "onset - immobile == 0       8.0000     0.8819   9.071  < 1e-05 ***\n",
            "pre-onset - immobile == 0   4.0000     0.8819   4.536 1.45e-05 ***\n",
            "---\n",
            "Signif. codes:  0 ‘***’ 0.001 ‘**’ 0.01 ‘*’ 0.05 ‘.’ 0.1 ‘ ’ 1\n",
            "(Adjusted p values reported -- single-step method)\n",
            "\n",
            "[1] \"----------------------DA VTA----------------------\"\n",
            "\n",
            "\t Simultaneous Tests for General Linear Hypotheses\n",
            "\n",
            "Multiple Comparisons of Means: Dunnett Contrasts\n",
            "\n",
            "\n",
            "Fit: lme.formula(fixed = ranks ~ period, data = da, random = ~1 | \n",
            "    mouse)\n",
            "\n",
            "Linear Hypotheses:\n",
            "                          Estimate Std. Error z value Pr(>|z|)    \n",
            "mobile - immobile == 0      7.0000     0.7071   9.899   <1e-04 ***\n",
            "onset - immobile == 0       3.3333     0.7071   4.714   <1e-04 ***\n",
            "pre-onset - immobile == 0   1.0000     0.7071   1.414    0.352    \n",
            "---\n",
            "Signif. codes:  0 ‘***’ 0.001 ‘**’ 0.01 ‘*’ 0.05 ‘.’ 0.1 ‘ ’ 1\n",
            "(Adjusted p values reported -- single-step method)\n",
            "\n"
          ],
          "name": "stdout"
        }
      ]
    },
    {
      "cell_type": "code",
      "metadata": {
        "colab": {
          "base_uri": "https://localhost:8080/",
          "height": 244
        },
        "id": "LdhyCEUHcUdQ",
        "outputId": "404d0b5c-9f9a-4f48-9df8-fab0f9730053"
      },
      "source": [
        "tst.plotMeans('LHA-VTA','immobility','onset',output2='DA VTA',\n",
        "              plot_type='mean and SEM',\n",
        "              periods=['mobile','immobile'],xlim=[-3,3],\n",
        "              ylim=[-1,2.5],yticks=[-1,0,1,2],ylab='z-dF/F (LHA-VTA)',\n",
        "              ylim1=[-1.5,1.5],yticks1=[-1,0,1],ylab1='z-dF/F (DA VTA)',color1='red',\n",
        "              figsize=(4,3),save=True,\n",
        "              imgname='./results/LHA-DA/LHA-DA_TST_LHA-VTA-DA-VTA_immobility-onset_means.pdf')\n",
        "plt.show()"
      ],
      "execution_count": 54,
      "outputs": [
        {
          "output_type": "display_data",
          "data": {
            "image/png": "[encoded data removed]",
            "text/plain": [
              "<Figure size 320x240 with 4 Axes>"
            ]
          },
          "metadata": {
            "tags": []
          }
        }
      ]
    },
    {
      "cell_type": "markdown",
      "metadata": {
        "id": "uDdXR2kG9jKv"
      },
      "source": [
        "# Example trace"
      ]
    },
    {
      "cell_type": "code",
      "metadata": {
        "id": "04Ot982QuzbV",
        "colab": {
          "base_uri": "https://localhost:8080/",
          "height": 261
        },
        "outputId": "224487a7-21af-4432-a0c0-5ed31961a6c4"
      },
      "source": [
        "r = FiberPhotometryRecording()\n",
        "r.loadRecording('LHA-DA.h5','VD14','APT','1')\n",
        "\n",
        "r.plotExample(['LHA-VTA','DA VTA'],event='airpuff',\n",
        "              t0=70,t1=220,\n",
        "              color='green',color1='red',\n",
        "              ylabel='z dF/F (LHA-VTA)', ylabel1='z dF/F (DA VTA)',\n",
        "              ylim=[-2,7],ylim1=[-5,4.1],\n",
        "              yticks=[-2,0,2],yticks1=[-2,0,2],\n",
        "              figsize=(5,3),save=True,imgname='./results/LHA-DA/LHA-DA_APT_example.pdf')\n",
        "plt.show()"
      ],
      "execution_count": null,
      "outputs": [
        {
          "output_type": "stream",
          "text": [
            "The recording for mouse VD14 in the experiment APT-1 is successfully loaded.\n"
          ],
          "name": "stdout"
        },
        {
          "output_type": "display_data",
          "data": {
            "image/png": "[encoded data removed]",
            "text/plain": [
              "<Figure size 400x240 with 2 Axes>"
            ]
          },
          "metadata": {
            "tags": []
          }
        }
      ]
    },
    {
      "cell_type": "code",
      "metadata": {
        "id": "1k0vgbVQ4LGk",
        "colab": {
          "base_uri": "https://localhost:8080/",
          "height": 261
        },
        "outputId": "1bf1c12b-7a46-4aac-9013-c9ce1efc7634"
      },
      "source": [
        "r = FiberPhotometryRecording()\n",
        "r.loadRecording('LHA-DA.h5','VD14','SCT','2')\n",
        "\n",
        "r.plotExample(['LHA-VTA','DA VTA'],'consumption',\n",
        "              t0=30,t1=180,\n",
        "              color='green',color1='red',\n",
        "              ylabel='z dF/F (LHA-VTA)', ylabel1='z dF/F (DA VTA)',\n",
        "              ylim=[-3,7],ylim1=[-5.5,4.55],\n",
        "              yticks=[-2,0,2],yticks1=[-2,0,2],\n",
        "              figsize=(5,3),save=True,imgname='./results/LHA-DA/LHA-DA_SCT_example.pdf')\n",
        "plt.show()"
      ],
      "execution_count": null,
      "outputs": [
        {
          "output_type": "stream",
          "text": [
            "The recording for mouse VD14 in the experiment SCT-2 is successfully loaded.\n"
          ],
          "name": "stdout"
        },
        {
          "output_type": "display_data",
          "data": {
            "image/png": "[encoded data removed]",
            "text/plain": [
              "<Figure size 400x240 with 2 Axes>"
            ]
          },
          "metadata": {
            "tags": []
          }
        }
      ]
    },
    {
      "cell_type": "code",
      "metadata": {
        "id": "YfcvZZ8H4MD7",
        "colab": {
          "base_uri": "https://localhost:8080/",
          "height": 303
        },
        "outputId": "1e09b08e-d4f1-4345-883f-6fb396fca074"
      },
      "source": [
        "r = FiberPhotometryRecording()\n",
        "r.loadRecording('LHA-DA.h5','VD14','OFT','1')\n",
        "\n",
        "r.plotExample(['LHA-VTA','DA VTA'],measure='movement',\n",
        "              t0=170,t1=320,\n",
        "              color='green',color1='red',\n",
        "              ylabel='z dF/F (LHA-VTA)',ylabel1='z dF/F (DA VTA)',\n",
        "              ylim=[-3,7],ylim1=[-6,4],\n",
        "              yticks=[-2,0,2],yticks1=[-2,0,2],\n",
        "              ylim_m=[-0.05,1.05],yticks_m=[0,0.5],\n",
        "              figsize=(5,3.5),save=True,imgname='./results/LHA-DA/LHA-DA_OFT_example.pdf')\n",
        "plt.show()"
      ],
      "execution_count": null,
      "outputs": [
        {
          "output_type": "stream",
          "text": [
            "The recording for mouse VD14 in the experiment OFT-1 is successfully loaded.\n"
          ],
          "name": "stdout"
        },
        {
          "output_type": "display_data",
          "data": {
            "image/png": "[encoded data removed]",
            "text/plain": [
              "<Figure size 400x280 with 3 Axes>"
            ]
          },
          "metadata": {
            "tags": []
          }
        }
      ]
    },
    {
      "cell_type": "code",
      "metadata": {
        "id": "Ug9dwajX6Na7",
        "colab": {
          "base_uri": "https://localhost:8080/",
          "height": 303
        },
        "outputId": "a392d61f-7004-4a34-ce77-4b575c51aab6"
      },
      "source": [
        "r = FiberPhotometryRecording()\n",
        "r.loadRecording('LHA-DA.h5','VD14','TST','1')\n",
        "\n",
        "r.plotExample(['LHA-VTA','DA VTA'],measure='movement',\n",
        "              t0=370,t1=520,\n",
        "              color='green',color1='red',\n",
        "              ylabel='z dF/F (LHA-VTA)',ylabel1='z dF/F (DA VTA)',\n",
        "              ylim=[-2,6],ylim1=[-5,3.2],\n",
        "              yticks=[-2,0,2],yticks1=[-2,0,2],\n",
        "              ylim_m=[-0.05,0.65],yticks_m=[0,0.5],\n",
        "              figsize=(5,3.5),save=True,imgname='./results/LHA-DA/LHA-DA_TST_example.pdf')\n",
        "plt.show()"
      ],
      "execution_count": null,
      "outputs": [
        {
          "output_type": "stream",
          "text": [
            "The recording for mouse VD14 in the experiment TST-1 is successfully loaded.\n"
          ],
          "name": "stdout"
        },
        {
          "output_type": "display_data",
          "data": {
            "image/png": "[encoded data removed]",
            "text/plain": [
              "<Figure size 400x280 with 3 Axes>"
            ]
          },
          "metadata": {
            "tags": []
          }
        }
      ]
    }
  ]
}